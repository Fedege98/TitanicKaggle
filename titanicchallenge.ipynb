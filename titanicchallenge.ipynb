{
 "cells": [
  {
   "cell_type": "markdown",
   "id": "58d839b5",
   "metadata": {
    "_cell_guid": "b1076dfc-b9ad-4769-8c92-a6c4dae69d19",
    "_uuid": "8f2839f25d086af736a60e9eeb907d3b93b6e0e5",
    "papermill": {
     "duration": 0.007581,
     "end_time": "2022-12-15T15:55:16.027890",
     "exception": false,
     "start_time": "2022-12-15T15:55:16.020309",
     "status": "completed"
    },
    "tags": []
   },
   "source": [
    "# Titanic Challenge"
   ]
  },
  {
   "cell_type": "markdown",
   "id": "b823e0d5",
   "metadata": {
    "papermill": {
     "duration": 0.006014,
     "end_time": "2022-12-15T15:55:16.040703",
     "exception": false,
     "start_time": "2022-12-15T15:55:16.034689",
     "status": "completed"
    },
    "tags": []
   },
   "source": [
    "Useful libraries import"
   ]
  },
  {
   "cell_type": "code",
   "execution_count": 1,
   "id": "ea91ee08",
   "metadata": {
    "execution": {
     "iopub.execute_input": "2022-12-15T15:55:16.056274Z",
     "iopub.status.busy": "2022-12-15T15:55:16.054730Z",
     "iopub.status.idle": "2022-12-15T15:55:17.253367Z",
     "shell.execute_reply": "2022-12-15T15:55:17.252047Z"
    },
    "papermill": {
     "duration": 1.209509,
     "end_time": "2022-12-15T15:55:17.256343",
     "exception": false,
     "start_time": "2022-12-15T15:55:16.046834",
     "status": "completed"
    },
    "tags": []
   },
   "outputs": [],
   "source": [
    "import pandas as pd\n",
    "import matplotlib as plt\n",
    "import numpy as np\n",
    "import sklearn as sl\n",
    "import matplotlib.pyplot as plt"
   ]
  },
  {
   "cell_type": "markdown",
   "id": "3bb0ec3a",
   "metadata": {
    "papermill": {
     "duration": 0.005854,
     "end_time": "2022-12-15T15:55:17.268723",
     "exception": false,
     "start_time": "2022-12-15T15:55:17.262869",
     "status": "completed"
    },
    "tags": []
   },
   "source": [
    "## Importing training set"
   ]
  },
  {
   "cell_type": "code",
   "execution_count": 2,
   "id": "5b07b0b7",
   "metadata": {
    "execution": {
     "iopub.execute_input": "2022-12-15T15:55:17.283046Z",
     "iopub.status.busy": "2022-12-15T15:55:17.282580Z",
     "iopub.status.idle": "2022-12-15T15:55:17.307994Z",
     "shell.execute_reply": "2022-12-15T15:55:17.306744Z"
    },
    "papermill": {
     "duration": 0.035952,
     "end_time": "2022-12-15T15:55:17.310744",
     "exception": false,
     "start_time": "2022-12-15T15:55:17.274792",
     "status": "completed"
    },
    "tags": []
   },
   "outputs": [],
   "source": [
    "training_set = pd.read_csv('/kaggle/input/titanic/train.csv')"
   ]
  },
  {
   "cell_type": "code",
   "execution_count": 3,
   "id": "0aee2052",
   "metadata": {
    "execution": {
     "iopub.execute_input": "2022-12-15T15:55:17.325194Z",
     "iopub.status.busy": "2022-12-15T15:55:17.324733Z",
     "iopub.status.idle": "2022-12-15T15:55:17.355081Z",
     "shell.execute_reply": "2022-12-15T15:55:17.353744Z"
    },
    "papermill": {
     "duration": 0.04131,
     "end_time": "2022-12-15T15:55:17.358226",
     "exception": false,
     "start_time": "2022-12-15T15:55:17.316916",
     "status": "completed"
    },
    "tags": []
   },
   "outputs": [
    {
     "name": "stdout",
     "output_type": "stream",
     "text": [
      "<class 'pandas.core.frame.DataFrame'>\n",
      "RangeIndex: 891 entries, 0 to 890\n",
      "Data columns (total 12 columns):\n",
      " #   Column       Non-Null Count  Dtype  \n",
      "---  ------       --------------  -----  \n",
      " 0   PassengerId  891 non-null    int64  \n",
      " 1   Survived     891 non-null    int64  \n",
      " 2   Pclass       891 non-null    int64  \n",
      " 3   Name         891 non-null    object \n",
      " 4   Sex          891 non-null    object \n",
      " 5   Age          714 non-null    float64\n",
      " 6   SibSp        891 non-null    int64  \n",
      " 7   Parch        891 non-null    int64  \n",
      " 8   Ticket       891 non-null    object \n",
      " 9   Fare         891 non-null    float64\n",
      " 10  Cabin        204 non-null    object \n",
      " 11  Embarked     889 non-null    object \n",
      "dtypes: float64(2), int64(5), object(5)\n",
      "memory usage: 83.7+ KB\n"
     ]
    }
   ],
   "source": [
    "training_set.info()"
   ]
  },
  {
   "cell_type": "code",
   "execution_count": 4,
   "id": "54c73ce6",
   "metadata": {
    "execution": {
     "iopub.execute_input": "2022-12-15T15:55:17.373696Z",
     "iopub.status.busy": "2022-12-15T15:55:17.372631Z",
     "iopub.status.idle": "2022-12-15T15:55:17.398388Z",
     "shell.execute_reply": "2022-12-15T15:55:17.396987Z"
    },
    "papermill": {
     "duration": 0.036526,
     "end_time": "2022-12-15T15:55:17.401177",
     "exception": false,
     "start_time": "2022-12-15T15:55:17.364651",
     "status": "completed"
    },
    "tags": []
   },
   "outputs": [
    {
     "data": {
      "text/html": [
       "<div>\n",
       "<style scoped>\n",
       "    .dataframe tbody tr th:only-of-type {\n",
       "        vertical-align: middle;\n",
       "    }\n",
       "\n",
       "    .dataframe tbody tr th {\n",
       "        vertical-align: top;\n",
       "    }\n",
       "\n",
       "    .dataframe thead th {\n",
       "        text-align: right;\n",
       "    }\n",
       "</style>\n",
       "<table border=\"1\" class=\"dataframe\">\n",
       "  <thead>\n",
       "    <tr style=\"text-align: right;\">\n",
       "      <th></th>\n",
       "      <th>PassengerId</th>\n",
       "      <th>Survived</th>\n",
       "      <th>Pclass</th>\n",
       "      <th>Name</th>\n",
       "      <th>Sex</th>\n",
       "      <th>Age</th>\n",
       "      <th>SibSp</th>\n",
       "      <th>Parch</th>\n",
       "      <th>Ticket</th>\n",
       "      <th>Fare</th>\n",
       "      <th>Cabin</th>\n",
       "      <th>Embarked</th>\n",
       "    </tr>\n",
       "  </thead>\n",
       "  <tbody>\n",
       "    <tr>\n",
       "      <th>0</th>\n",
       "      <td>1</td>\n",
       "      <td>0</td>\n",
       "      <td>3</td>\n",
       "      <td>Braund, Mr. Owen Harris</td>\n",
       "      <td>male</td>\n",
       "      <td>22.0</td>\n",
       "      <td>1</td>\n",
       "      <td>0</td>\n",
       "      <td>A/5 21171</td>\n",
       "      <td>7.2500</td>\n",
       "      <td>NaN</td>\n",
       "      <td>S</td>\n",
       "    </tr>\n",
       "    <tr>\n",
       "      <th>1</th>\n",
       "      <td>2</td>\n",
       "      <td>1</td>\n",
       "      <td>1</td>\n",
       "      <td>Cumings, Mrs. John Bradley (Florence Briggs Th...</td>\n",
       "      <td>female</td>\n",
       "      <td>38.0</td>\n",
       "      <td>1</td>\n",
       "      <td>0</td>\n",
       "      <td>PC 17599</td>\n",
       "      <td>71.2833</td>\n",
       "      <td>C85</td>\n",
       "      <td>C</td>\n",
       "    </tr>\n",
       "    <tr>\n",
       "      <th>2</th>\n",
       "      <td>3</td>\n",
       "      <td>1</td>\n",
       "      <td>3</td>\n",
       "      <td>Heikkinen, Miss. Laina</td>\n",
       "      <td>female</td>\n",
       "      <td>26.0</td>\n",
       "      <td>0</td>\n",
       "      <td>0</td>\n",
       "      <td>STON/O2. 3101282</td>\n",
       "      <td>7.9250</td>\n",
       "      <td>NaN</td>\n",
       "      <td>S</td>\n",
       "    </tr>\n",
       "    <tr>\n",
       "      <th>3</th>\n",
       "      <td>4</td>\n",
       "      <td>1</td>\n",
       "      <td>1</td>\n",
       "      <td>Futrelle, Mrs. Jacques Heath (Lily May Peel)</td>\n",
       "      <td>female</td>\n",
       "      <td>35.0</td>\n",
       "      <td>1</td>\n",
       "      <td>0</td>\n",
       "      <td>113803</td>\n",
       "      <td>53.1000</td>\n",
       "      <td>C123</td>\n",
       "      <td>S</td>\n",
       "    </tr>\n",
       "    <tr>\n",
       "      <th>4</th>\n",
       "      <td>5</td>\n",
       "      <td>0</td>\n",
       "      <td>3</td>\n",
       "      <td>Allen, Mr. William Henry</td>\n",
       "      <td>male</td>\n",
       "      <td>35.0</td>\n",
       "      <td>0</td>\n",
       "      <td>0</td>\n",
       "      <td>373450</td>\n",
       "      <td>8.0500</td>\n",
       "      <td>NaN</td>\n",
       "      <td>S</td>\n",
       "    </tr>\n",
       "  </tbody>\n",
       "</table>\n",
       "</div>"
      ],
      "text/plain": [
       "   PassengerId  Survived  Pclass  \\\n",
       "0            1         0       3   \n",
       "1            2         1       1   \n",
       "2            3         1       3   \n",
       "3            4         1       1   \n",
       "4            5         0       3   \n",
       "\n",
       "                                                Name     Sex   Age  SibSp  \\\n",
       "0                            Braund, Mr. Owen Harris    male  22.0      1   \n",
       "1  Cumings, Mrs. John Bradley (Florence Briggs Th...  female  38.0      1   \n",
       "2                             Heikkinen, Miss. Laina  female  26.0      0   \n",
       "3       Futrelle, Mrs. Jacques Heath (Lily May Peel)  female  35.0      1   \n",
       "4                           Allen, Mr. William Henry    male  35.0      0   \n",
       "\n",
       "   Parch            Ticket     Fare Cabin Embarked  \n",
       "0      0         A/5 21171   7.2500   NaN        S  \n",
       "1      0          PC 17599  71.2833   C85        C  \n",
       "2      0  STON/O2. 3101282   7.9250   NaN        S  \n",
       "3      0            113803  53.1000  C123        S  \n",
       "4      0            373450   8.0500   NaN        S  "
      ]
     },
     "execution_count": 4,
     "metadata": {},
     "output_type": "execute_result"
    }
   ],
   "source": [
    "training_set.head()"
   ]
  },
  {
   "cell_type": "markdown",
   "id": "b9b71c4f",
   "metadata": {
    "papermill": {
     "duration": 0.008564,
     "end_time": "2022-12-15T15:55:17.416658",
     "exception": false,
     "start_time": "2022-12-15T15:55:17.408094",
     "status": "completed"
    },
    "tags": []
   },
   "source": [
    "## Importing testing set"
   ]
  },
  {
   "cell_type": "code",
   "execution_count": 5,
   "id": "076dd785",
   "metadata": {
    "execution": {
     "iopub.execute_input": "2022-12-15T15:55:17.432529Z",
     "iopub.status.busy": "2022-12-15T15:55:17.432063Z",
     "iopub.status.idle": "2022-12-15T15:55:17.445536Z",
     "shell.execute_reply": "2022-12-15T15:55:17.444319Z"
    },
    "papermill": {
     "duration": 0.025135,
     "end_time": "2022-12-15T15:55:17.448493",
     "exception": false,
     "start_time": "2022-12-15T15:55:17.423358",
     "status": "completed"
    },
    "tags": []
   },
   "outputs": [],
   "source": [
    "testing_set = pd.read_csv('/kaggle/input/titanic/test.csv')"
   ]
  },
  {
   "cell_type": "code",
   "execution_count": 6,
   "id": "8884d870",
   "metadata": {
    "execution": {
     "iopub.execute_input": "2022-12-15T15:55:17.465021Z",
     "iopub.status.busy": "2022-12-15T15:55:17.464592Z",
     "iopub.status.idle": "2022-12-15T15:55:17.480270Z",
     "shell.execute_reply": "2022-12-15T15:55:17.478526Z"
    },
    "papermill": {
     "duration": 0.027018,
     "end_time": "2022-12-15T15:55:17.483004",
     "exception": false,
     "start_time": "2022-12-15T15:55:17.455986",
     "status": "completed"
    },
    "tags": []
   },
   "outputs": [
    {
     "name": "stdout",
     "output_type": "stream",
     "text": [
      "<class 'pandas.core.frame.DataFrame'>\n",
      "RangeIndex: 418 entries, 0 to 417\n",
      "Data columns (total 11 columns):\n",
      " #   Column       Non-Null Count  Dtype  \n",
      "---  ------       --------------  -----  \n",
      " 0   PassengerId  418 non-null    int64  \n",
      " 1   Pclass       418 non-null    int64  \n",
      " 2   Name         418 non-null    object \n",
      " 3   Sex          418 non-null    object \n",
      " 4   Age          332 non-null    float64\n",
      " 5   SibSp        418 non-null    int64  \n",
      " 6   Parch        418 non-null    int64  \n",
      " 7   Ticket       418 non-null    object \n",
      " 8   Fare         417 non-null    float64\n",
      " 9   Cabin        91 non-null     object \n",
      " 10  Embarked     418 non-null    object \n",
      "dtypes: float64(2), int64(4), object(5)\n",
      "memory usage: 36.0+ KB\n"
     ]
    }
   ],
   "source": [
    "testing_set.info()"
   ]
  },
  {
   "cell_type": "code",
   "execution_count": 7,
   "id": "c11d37dd",
   "metadata": {
    "execution": {
     "iopub.execute_input": "2022-12-15T15:55:17.498637Z",
     "iopub.status.busy": "2022-12-15T15:55:17.497979Z",
     "iopub.status.idle": "2022-12-15T15:55:17.516005Z",
     "shell.execute_reply": "2022-12-15T15:55:17.514611Z"
    },
    "papermill": {
     "duration": 0.028762,
     "end_time": "2022-12-15T15:55:17.518615",
     "exception": false,
     "start_time": "2022-12-15T15:55:17.489853",
     "status": "completed"
    },
    "tags": []
   },
   "outputs": [
    {
     "data": {
      "text/html": [
       "<div>\n",
       "<style scoped>\n",
       "    .dataframe tbody tr th:only-of-type {\n",
       "        vertical-align: middle;\n",
       "    }\n",
       "\n",
       "    .dataframe tbody tr th {\n",
       "        vertical-align: top;\n",
       "    }\n",
       "\n",
       "    .dataframe thead th {\n",
       "        text-align: right;\n",
       "    }\n",
       "</style>\n",
       "<table border=\"1\" class=\"dataframe\">\n",
       "  <thead>\n",
       "    <tr style=\"text-align: right;\">\n",
       "      <th></th>\n",
       "      <th>PassengerId</th>\n",
       "      <th>Pclass</th>\n",
       "      <th>Name</th>\n",
       "      <th>Sex</th>\n",
       "      <th>Age</th>\n",
       "      <th>SibSp</th>\n",
       "      <th>Parch</th>\n",
       "      <th>Ticket</th>\n",
       "      <th>Fare</th>\n",
       "      <th>Cabin</th>\n",
       "      <th>Embarked</th>\n",
       "    </tr>\n",
       "  </thead>\n",
       "  <tbody>\n",
       "    <tr>\n",
       "      <th>0</th>\n",
       "      <td>892</td>\n",
       "      <td>3</td>\n",
       "      <td>Kelly, Mr. James</td>\n",
       "      <td>male</td>\n",
       "      <td>34.5</td>\n",
       "      <td>0</td>\n",
       "      <td>0</td>\n",
       "      <td>330911</td>\n",
       "      <td>7.8292</td>\n",
       "      <td>NaN</td>\n",
       "      <td>Q</td>\n",
       "    </tr>\n",
       "    <tr>\n",
       "      <th>1</th>\n",
       "      <td>893</td>\n",
       "      <td>3</td>\n",
       "      <td>Wilkes, Mrs. James (Ellen Needs)</td>\n",
       "      <td>female</td>\n",
       "      <td>47.0</td>\n",
       "      <td>1</td>\n",
       "      <td>0</td>\n",
       "      <td>363272</td>\n",
       "      <td>7.0000</td>\n",
       "      <td>NaN</td>\n",
       "      <td>S</td>\n",
       "    </tr>\n",
       "    <tr>\n",
       "      <th>2</th>\n",
       "      <td>894</td>\n",
       "      <td>2</td>\n",
       "      <td>Myles, Mr. Thomas Francis</td>\n",
       "      <td>male</td>\n",
       "      <td>62.0</td>\n",
       "      <td>0</td>\n",
       "      <td>0</td>\n",
       "      <td>240276</td>\n",
       "      <td>9.6875</td>\n",
       "      <td>NaN</td>\n",
       "      <td>Q</td>\n",
       "    </tr>\n",
       "    <tr>\n",
       "      <th>3</th>\n",
       "      <td>895</td>\n",
       "      <td>3</td>\n",
       "      <td>Wirz, Mr. Albert</td>\n",
       "      <td>male</td>\n",
       "      <td>27.0</td>\n",
       "      <td>0</td>\n",
       "      <td>0</td>\n",
       "      <td>315154</td>\n",
       "      <td>8.6625</td>\n",
       "      <td>NaN</td>\n",
       "      <td>S</td>\n",
       "    </tr>\n",
       "    <tr>\n",
       "      <th>4</th>\n",
       "      <td>896</td>\n",
       "      <td>3</td>\n",
       "      <td>Hirvonen, Mrs. Alexander (Helga E Lindqvist)</td>\n",
       "      <td>female</td>\n",
       "      <td>22.0</td>\n",
       "      <td>1</td>\n",
       "      <td>1</td>\n",
       "      <td>3101298</td>\n",
       "      <td>12.2875</td>\n",
       "      <td>NaN</td>\n",
       "      <td>S</td>\n",
       "    </tr>\n",
       "  </tbody>\n",
       "</table>\n",
       "</div>"
      ],
      "text/plain": [
       "   PassengerId  Pclass                                          Name     Sex  \\\n",
       "0          892       3                              Kelly, Mr. James    male   \n",
       "1          893       3              Wilkes, Mrs. James (Ellen Needs)  female   \n",
       "2          894       2                     Myles, Mr. Thomas Francis    male   \n",
       "3          895       3                              Wirz, Mr. Albert    male   \n",
       "4          896       3  Hirvonen, Mrs. Alexander (Helga E Lindqvist)  female   \n",
       "\n",
       "    Age  SibSp  Parch   Ticket     Fare Cabin Embarked  \n",
       "0  34.5      0      0   330911   7.8292   NaN        Q  \n",
       "1  47.0      1      0   363272   7.0000   NaN        S  \n",
       "2  62.0      0      0   240276   9.6875   NaN        Q  \n",
       "3  27.0      0      0   315154   8.6625   NaN        S  \n",
       "4  22.0      1      1  3101298  12.2875   NaN        S  "
      ]
     },
     "execution_count": 7,
     "metadata": {},
     "output_type": "execute_result"
    }
   ],
   "source": [
    "testing_set.head()"
   ]
  },
  {
   "cell_type": "markdown",
   "id": "953fab12",
   "metadata": {
    "papermill": {
     "duration": 0.00669,
     "end_time": "2022-12-15T15:55:17.532428",
     "exception": false,
     "start_time": "2022-12-15T15:55:17.525738",
     "status": "completed"
    },
    "tags": []
   },
   "source": [
    "## Data selection"
   ]
  },
  {
   "cell_type": "markdown",
   "id": "dd746f5d",
   "metadata": {
    "papermill": {
     "duration": 0.006527,
     "end_time": "2022-12-15T15:55:17.545890",
     "exception": false,
     "start_time": "2022-12-15T15:55:17.539363",
     "status": "completed"
    },
    "tags": []
   },
   "source": [
    "We assume that some of the columns are not useful to reach our goal. \n",
    "The first step is therefore selecting columns based on their (hypothetical) influence on avoiding passengers death. \n",
    "\n",
    "* **PassengerId** (we keep it only to have a reference);\n",
    "* **Pclass** (i.e. the third class was located in bow and stern: it is likely that passengers in these positions died in different proportions);\n",
    "* **Sex** (it may seem a cognitive bias, but if we study the disposition of unmarried people we can see that they were located in different parts of the ship);\n",
    "* **Age** (we can assume old people were most likely to die in an emergency situation: this is a weak hypothesis);\n",
    "* **Parch** (to be parent of a child might have been a reason of having more chances to get on a lifeboat);\n",
    "* **Survived** (id survived or not). "
   ]
  },
  {
   "cell_type": "code",
   "execution_count": 8,
   "id": "76f8df74",
   "metadata": {
    "execution": {
     "iopub.execute_input": "2022-12-15T15:55:17.562658Z",
     "iopub.status.busy": "2022-12-15T15:55:17.562259Z",
     "iopub.status.idle": "2022-12-15T15:55:17.570195Z",
     "shell.execute_reply": "2022-12-15T15:55:17.568817Z"
    },
    "papermill": {
     "duration": 0.019611,
     "end_time": "2022-12-15T15:55:17.572747",
     "exception": false,
     "start_time": "2022-12-15T15:55:17.553136",
     "status": "completed"
    },
    "tags": []
   },
   "outputs": [],
   "source": [
    "clean_training_set = training_set[[\"PassengerId\", \"Pclass\", \"Sex\", \"Age\", \"Parch\", \"Survived\"]]"
   ]
  },
  {
   "cell_type": "code",
   "execution_count": 9,
   "id": "f080b5bf",
   "metadata": {
    "execution": {
     "iopub.execute_input": "2022-12-15T15:55:17.589301Z",
     "iopub.status.busy": "2022-12-15T15:55:17.588880Z",
     "iopub.status.idle": "2022-12-15T15:55:17.604208Z",
     "shell.execute_reply": "2022-12-15T15:55:17.602822Z"
    },
    "papermill": {
     "duration": 0.027019,
     "end_time": "2022-12-15T15:55:17.607232",
     "exception": false,
     "start_time": "2022-12-15T15:55:17.580213",
     "status": "completed"
    },
    "tags": []
   },
   "outputs": [
    {
     "name": "stdout",
     "output_type": "stream",
     "text": [
      "<class 'pandas.core.frame.DataFrame'>\n",
      "RangeIndex: 891 entries, 0 to 890\n",
      "Data columns (total 6 columns):\n",
      " #   Column       Non-Null Count  Dtype  \n",
      "---  ------       --------------  -----  \n",
      " 0   PassengerId  891 non-null    int64  \n",
      " 1   Pclass       891 non-null    int64  \n",
      " 2   Sex          891 non-null    object \n",
      " 3   Age          714 non-null    float64\n",
      " 4   Parch        891 non-null    int64  \n",
      " 5   Survived     891 non-null    int64  \n",
      "dtypes: float64(1), int64(4), object(1)\n",
      "memory usage: 41.9+ KB\n"
     ]
    }
   ],
   "source": [
    "clean_training_set.info()"
   ]
  },
  {
   "cell_type": "markdown",
   "id": "c2cae5d4",
   "metadata": {
    "papermill": {
     "duration": 0.006579,
     "end_time": "2022-12-15T15:55:17.621038",
     "exception": false,
     "start_time": "2022-12-15T15:55:17.614459",
     "status": "completed"
    },
    "tags": []
   },
   "source": []
  },
  {
   "cell_type": "markdown",
   "id": "2606831c",
   "metadata": {
    "papermill": {
     "duration": 0.006905,
     "end_time": "2022-12-15T15:55:17.634957",
     "exception": false,
     "start_time": "2022-12-15T15:55:17.628052",
     "status": "completed"
    },
    "tags": []
   },
   "source": [
    "## Training set normalization"
   ]
  },
  {
   "cell_type": "markdown",
   "id": "aa0565db",
   "metadata": {
    "papermill": {
     "duration": 0.006665,
     "end_time": "2022-12-15T15:55:17.648606",
     "exception": false,
     "start_time": "2022-12-15T15:55:17.641941",
     "status": "completed"
    },
    "tags": []
   },
   "source": [
    "## Training set traduction (strings to numbers)"
   ]
  },
  {
   "cell_type": "markdown",
   "id": "9e0b1f93",
   "metadata": {
    "papermill": {
     "duration": 0.006507,
     "end_time": "2022-12-15T15:55:17.661932",
     "exception": false,
     "start_time": "2022-12-15T15:55:17.655425",
     "status": "completed"
    },
    "tags": []
   },
   "source": [
    "Here we convert males to value 0 and females to value 1"
   ]
  },
  {
   "cell_type": "code",
   "execution_count": 10,
   "id": "dcb9a200",
   "metadata": {
    "execution": {
     "iopub.execute_input": "2022-12-15T15:55:17.678099Z",
     "iopub.status.busy": "2022-12-15T15:55:17.677340Z",
     "iopub.status.idle": "2022-12-15T15:55:17.701798Z",
     "shell.execute_reply": "2022-12-15T15:55:17.700354Z"
    },
    "papermill": {
     "duration": 0.035566,
     "end_time": "2022-12-15T15:55:17.704426",
     "exception": false,
     "start_time": "2022-12-15T15:55:17.668860",
     "status": "completed"
    },
    "tags": []
   },
   "outputs": [
    {
     "data": {
      "text/html": [
       "<div>\n",
       "<style scoped>\n",
       "    .dataframe tbody tr th:only-of-type {\n",
       "        vertical-align: middle;\n",
       "    }\n",
       "\n",
       "    .dataframe tbody tr th {\n",
       "        vertical-align: top;\n",
       "    }\n",
       "\n",
       "    .dataframe thead th {\n",
       "        text-align: right;\n",
       "    }\n",
       "</style>\n",
       "<table border=\"1\" class=\"dataframe\">\n",
       "  <thead>\n",
       "    <tr style=\"text-align: right;\">\n",
       "      <th></th>\n",
       "      <th>PassengerId</th>\n",
       "      <th>Pclass</th>\n",
       "      <th>Sex</th>\n",
       "      <th>Age</th>\n",
       "      <th>Parch</th>\n",
       "      <th>Survived</th>\n",
       "    </tr>\n",
       "  </thead>\n",
       "  <tbody>\n",
       "    <tr>\n",
       "      <th>0</th>\n",
       "      <td>1</td>\n",
       "      <td>3</td>\n",
       "      <td>0</td>\n",
       "      <td>22.0</td>\n",
       "      <td>0</td>\n",
       "      <td>0</td>\n",
       "    </tr>\n",
       "    <tr>\n",
       "      <th>1</th>\n",
       "      <td>2</td>\n",
       "      <td>1</td>\n",
       "      <td>1</td>\n",
       "      <td>38.0</td>\n",
       "      <td>0</td>\n",
       "      <td>1</td>\n",
       "    </tr>\n",
       "    <tr>\n",
       "      <th>2</th>\n",
       "      <td>3</td>\n",
       "      <td>3</td>\n",
       "      <td>1</td>\n",
       "      <td>26.0</td>\n",
       "      <td>0</td>\n",
       "      <td>1</td>\n",
       "    </tr>\n",
       "    <tr>\n",
       "      <th>3</th>\n",
       "      <td>4</td>\n",
       "      <td>1</td>\n",
       "      <td>1</td>\n",
       "      <td>35.0</td>\n",
       "      <td>0</td>\n",
       "      <td>1</td>\n",
       "    </tr>\n",
       "    <tr>\n",
       "      <th>4</th>\n",
       "      <td>5</td>\n",
       "      <td>3</td>\n",
       "      <td>0</td>\n",
       "      <td>35.0</td>\n",
       "      <td>0</td>\n",
       "      <td>0</td>\n",
       "    </tr>\n",
       "    <tr>\n",
       "      <th>...</th>\n",
       "      <td>...</td>\n",
       "      <td>...</td>\n",
       "      <td>...</td>\n",
       "      <td>...</td>\n",
       "      <td>...</td>\n",
       "      <td>...</td>\n",
       "    </tr>\n",
       "    <tr>\n",
       "      <th>886</th>\n",
       "      <td>887</td>\n",
       "      <td>2</td>\n",
       "      <td>0</td>\n",
       "      <td>27.0</td>\n",
       "      <td>0</td>\n",
       "      <td>0</td>\n",
       "    </tr>\n",
       "    <tr>\n",
       "      <th>887</th>\n",
       "      <td>888</td>\n",
       "      <td>1</td>\n",
       "      <td>1</td>\n",
       "      <td>19.0</td>\n",
       "      <td>0</td>\n",
       "      <td>1</td>\n",
       "    </tr>\n",
       "    <tr>\n",
       "      <th>888</th>\n",
       "      <td>889</td>\n",
       "      <td>3</td>\n",
       "      <td>1</td>\n",
       "      <td>NaN</td>\n",
       "      <td>2</td>\n",
       "      <td>0</td>\n",
       "    </tr>\n",
       "    <tr>\n",
       "      <th>889</th>\n",
       "      <td>890</td>\n",
       "      <td>1</td>\n",
       "      <td>0</td>\n",
       "      <td>26.0</td>\n",
       "      <td>0</td>\n",
       "      <td>1</td>\n",
       "    </tr>\n",
       "    <tr>\n",
       "      <th>890</th>\n",
       "      <td>891</td>\n",
       "      <td>3</td>\n",
       "      <td>0</td>\n",
       "      <td>32.0</td>\n",
       "      <td>0</td>\n",
       "      <td>0</td>\n",
       "    </tr>\n",
       "  </tbody>\n",
       "</table>\n",
       "<p>891 rows × 6 columns</p>\n",
       "</div>"
      ],
      "text/plain": [
       "     PassengerId  Pclass  Sex   Age  Parch  Survived\n",
       "0              1       3    0  22.0      0         0\n",
       "1              2       1    1  38.0      0         1\n",
       "2              3       3    1  26.0      0         1\n",
       "3              4       1    1  35.0      0         1\n",
       "4              5       3    0  35.0      0         0\n",
       "..           ...     ...  ...   ...    ...       ...\n",
       "886          887       2    0  27.0      0         0\n",
       "887          888       1    1  19.0      0         1\n",
       "888          889       3    1   NaN      2         0\n",
       "889          890       1    0  26.0      0         1\n",
       "890          891       3    0  32.0      0         0\n",
       "\n",
       "[891 rows x 6 columns]"
      ]
     },
     "execution_count": 10,
     "metadata": {},
     "output_type": "execute_result"
    }
   ],
   "source": [
    "df = clean_training_set[clean_training_set['Sex'].notnull()].copy()\n",
    "df['Sex'] = df['Sex'].astype(str).copy()\n",
    "df[\"Sex\"]=df.Sex.map({\"male\":0,\"female\":1})\n",
    "\n",
    "df"
   ]
  },
  {
   "cell_type": "markdown",
   "id": "ecb744d6",
   "metadata": {
    "papermill": {
     "duration": 0.006994,
     "end_time": "2022-12-15T15:55:17.718749",
     "exception": false,
     "start_time": "2022-12-15T15:55:17.711755",
     "status": "completed"
    },
    "tags": []
   },
   "source": [
    "As we can see Age column has NaN values that have to be replaced with the medium value of age"
   ]
  },
  {
   "cell_type": "code",
   "execution_count": 11,
   "id": "5bd8f8d2",
   "metadata": {
    "execution": {
     "iopub.execute_input": "2022-12-15T15:55:17.736123Z",
     "iopub.status.busy": "2022-12-15T15:55:17.735650Z",
     "iopub.status.idle": "2022-12-15T15:55:17.743012Z",
     "shell.execute_reply": "2022-12-15T15:55:17.741622Z"
    },
    "papermill": {
     "duration": 0.019895,
     "end_time": "2022-12-15T15:55:17.746005",
     "exception": false,
     "start_time": "2022-12-15T15:55:17.726110",
     "status": "completed"
    },
    "tags": []
   },
   "outputs": [
    {
     "name": "stdout",
     "output_type": "stream",
     "text": [
      "True\n"
     ]
    }
   ],
   "source": [
    "check_nan = df['Age'].isnull().values.any()\n",
    "print(check_nan)"
   ]
  },
  {
   "cell_type": "code",
   "execution_count": 12,
   "id": "8d632ce2",
   "metadata": {
    "execution": {
     "iopub.execute_input": "2022-12-15T15:55:17.763429Z",
     "iopub.status.busy": "2022-12-15T15:55:17.762964Z",
     "iopub.status.idle": "2022-12-15T15:55:17.771139Z",
     "shell.execute_reply": "2022-12-15T15:55:17.769181Z"
    },
    "papermill": {
     "duration": 0.020152,
     "end_time": "2022-12-15T15:55:17.773871",
     "exception": false,
     "start_time": "2022-12-15T15:55:17.753719",
     "status": "completed"
    },
    "tags": []
   },
   "outputs": [
    {
     "name": "stdout",
     "output_type": "stream",
     "text": [
      "Mean age: 29\n"
     ]
    }
   ],
   "source": [
    "mean_age = int(df['Age'].mean())\n",
    "print(\"Mean age: \" + str(mean_age))"
   ]
  },
  {
   "cell_type": "code",
   "execution_count": 13,
   "id": "46b50a90",
   "metadata": {
    "execution": {
     "iopub.execute_input": "2022-12-15T15:55:17.791161Z",
     "iopub.status.busy": "2022-12-15T15:55:17.790740Z",
     "iopub.status.idle": "2022-12-15T15:55:17.797499Z",
     "shell.execute_reply": "2022-12-15T15:55:17.796167Z"
    },
    "papermill": {
     "duration": 0.018684,
     "end_time": "2022-12-15T15:55:17.800198",
     "exception": false,
     "start_time": "2022-12-15T15:55:17.781514",
     "status": "completed"
    },
    "tags": []
   },
   "outputs": [],
   "source": [
    "df.loc[ pd.isna(df['Age']), 'Age'] = mean_age"
   ]
  },
  {
   "cell_type": "code",
   "execution_count": 14,
   "id": "4018eed9",
   "metadata": {
    "execution": {
     "iopub.execute_input": "2022-12-15T15:55:17.817009Z",
     "iopub.status.busy": "2022-12-15T15:55:17.816623Z",
     "iopub.status.idle": "2022-12-15T15:55:17.823530Z",
     "shell.execute_reply": "2022-12-15T15:55:17.822251Z"
    },
    "papermill": {
     "duration": 0.018684,
     "end_time": "2022-12-15T15:55:17.826217",
     "exception": false,
     "start_time": "2022-12-15T15:55:17.807533",
     "status": "completed"
    },
    "tags": []
   },
   "outputs": [
    {
     "name": "stdout",
     "output_type": "stream",
     "text": [
      "Now we don't have NaN values anymore: False\n"
     ]
    }
   ],
   "source": [
    "check_nan = df['Age'].isnull().values.any()\n",
    "print(\"Now we don't have NaN values anymore: \" + str(check_nan))"
   ]
  },
  {
   "cell_type": "code",
   "execution_count": 15,
   "id": "ae655d53",
   "metadata": {
    "execution": {
     "iopub.execute_input": "2022-12-15T15:55:17.843612Z",
     "iopub.status.busy": "2022-12-15T15:55:17.842225Z",
     "iopub.status.idle": "2022-12-15T15:55:17.853544Z",
     "shell.execute_reply": "2022-12-15T15:55:17.852354Z"
    },
    "papermill": {
     "duration": 0.022396,
     "end_time": "2022-12-15T15:55:17.856066",
     "exception": false,
     "start_time": "2022-12-15T15:55:17.833670",
     "status": "completed"
    },
    "tags": []
   },
   "outputs": [
    {
     "data": {
      "text/plain": [
       "PassengerId    0\n",
       "Pclass         0\n",
       "Sex            0\n",
       "Age            0\n",
       "Parch          0\n",
       "Survived       0\n",
       "dtype: int64"
      ]
     },
     "execution_count": 15,
     "metadata": {},
     "output_type": "execute_result"
    }
   ],
   "source": [
    "df.isnull().sum()"
   ]
  },
  {
   "cell_type": "code",
   "execution_count": 16,
   "id": "675fc3c6",
   "metadata": {
    "execution": {
     "iopub.execute_input": "2022-12-15T15:55:17.873086Z",
     "iopub.status.busy": "2022-12-15T15:55:17.872172Z",
     "iopub.status.idle": "2022-12-15T15:55:17.888828Z",
     "shell.execute_reply": "2022-12-15T15:55:17.887662Z"
    },
    "papermill": {
     "duration": 0.027603,
     "end_time": "2022-12-15T15:55:17.891191",
     "exception": false,
     "start_time": "2022-12-15T15:55:17.863588",
     "status": "completed"
    },
    "tags": []
   },
   "outputs": [
    {
     "data": {
      "text/html": [
       "<div>\n",
       "<style scoped>\n",
       "    .dataframe tbody tr th:only-of-type {\n",
       "        vertical-align: middle;\n",
       "    }\n",
       "\n",
       "    .dataframe tbody tr th {\n",
       "        vertical-align: top;\n",
       "    }\n",
       "\n",
       "    .dataframe thead th {\n",
       "        text-align: right;\n",
       "    }\n",
       "</style>\n",
       "<table border=\"1\" class=\"dataframe\">\n",
       "  <thead>\n",
       "    <tr style=\"text-align: right;\">\n",
       "      <th></th>\n",
       "      <th>PassengerId</th>\n",
       "      <th>Pclass</th>\n",
       "      <th>Sex</th>\n",
       "      <th>Age</th>\n",
       "      <th>Parch</th>\n",
       "      <th>Survived</th>\n",
       "    </tr>\n",
       "  </thead>\n",
       "  <tbody>\n",
       "    <tr>\n",
       "      <th>0</th>\n",
       "      <td>1</td>\n",
       "      <td>3</td>\n",
       "      <td>0</td>\n",
       "      <td>22.0</td>\n",
       "      <td>0</td>\n",
       "      <td>0</td>\n",
       "    </tr>\n",
       "    <tr>\n",
       "      <th>1</th>\n",
       "      <td>2</td>\n",
       "      <td>1</td>\n",
       "      <td>1</td>\n",
       "      <td>38.0</td>\n",
       "      <td>0</td>\n",
       "      <td>1</td>\n",
       "    </tr>\n",
       "    <tr>\n",
       "      <th>2</th>\n",
       "      <td>3</td>\n",
       "      <td>3</td>\n",
       "      <td>1</td>\n",
       "      <td>26.0</td>\n",
       "      <td>0</td>\n",
       "      <td>1</td>\n",
       "    </tr>\n",
       "    <tr>\n",
       "      <th>3</th>\n",
       "      <td>4</td>\n",
       "      <td>1</td>\n",
       "      <td>1</td>\n",
       "      <td>35.0</td>\n",
       "      <td>0</td>\n",
       "      <td>1</td>\n",
       "    </tr>\n",
       "    <tr>\n",
       "      <th>4</th>\n",
       "      <td>5</td>\n",
       "      <td>3</td>\n",
       "      <td>0</td>\n",
       "      <td>35.0</td>\n",
       "      <td>0</td>\n",
       "      <td>0</td>\n",
       "    </tr>\n",
       "    <tr>\n",
       "      <th>...</th>\n",
       "      <td>...</td>\n",
       "      <td>...</td>\n",
       "      <td>...</td>\n",
       "      <td>...</td>\n",
       "      <td>...</td>\n",
       "      <td>...</td>\n",
       "    </tr>\n",
       "    <tr>\n",
       "      <th>886</th>\n",
       "      <td>887</td>\n",
       "      <td>2</td>\n",
       "      <td>0</td>\n",
       "      <td>27.0</td>\n",
       "      <td>0</td>\n",
       "      <td>0</td>\n",
       "    </tr>\n",
       "    <tr>\n",
       "      <th>887</th>\n",
       "      <td>888</td>\n",
       "      <td>1</td>\n",
       "      <td>1</td>\n",
       "      <td>19.0</td>\n",
       "      <td>0</td>\n",
       "      <td>1</td>\n",
       "    </tr>\n",
       "    <tr>\n",
       "      <th>888</th>\n",
       "      <td>889</td>\n",
       "      <td>3</td>\n",
       "      <td>1</td>\n",
       "      <td>29.0</td>\n",
       "      <td>2</td>\n",
       "      <td>0</td>\n",
       "    </tr>\n",
       "    <tr>\n",
       "      <th>889</th>\n",
       "      <td>890</td>\n",
       "      <td>1</td>\n",
       "      <td>0</td>\n",
       "      <td>26.0</td>\n",
       "      <td>0</td>\n",
       "      <td>1</td>\n",
       "    </tr>\n",
       "    <tr>\n",
       "      <th>890</th>\n",
       "      <td>891</td>\n",
       "      <td>3</td>\n",
       "      <td>0</td>\n",
       "      <td>32.0</td>\n",
       "      <td>0</td>\n",
       "      <td>0</td>\n",
       "    </tr>\n",
       "  </tbody>\n",
       "</table>\n",
       "<p>891 rows × 6 columns</p>\n",
       "</div>"
      ],
      "text/plain": [
       "     PassengerId  Pclass  Sex   Age  Parch  Survived\n",
       "0              1       3    0  22.0      0         0\n",
       "1              2       1    1  38.0      0         1\n",
       "2              3       3    1  26.0      0         1\n",
       "3              4       1    1  35.0      0         1\n",
       "4              5       3    0  35.0      0         0\n",
       "..           ...     ...  ...   ...    ...       ...\n",
       "886          887       2    0  27.0      0         0\n",
       "887          888       1    1  19.0      0         1\n",
       "888          889       3    1  29.0      2         0\n",
       "889          890       1    0  26.0      0         1\n",
       "890          891       3    0  32.0      0         0\n",
       "\n",
       "[891 rows x 6 columns]"
      ]
     },
     "execution_count": 16,
     "metadata": {},
     "output_type": "execute_result"
    }
   ],
   "source": [
    "df"
   ]
  },
  {
   "cell_type": "markdown",
   "id": "93c8a2e8",
   "metadata": {
    "papermill": {
     "duration": 0.007814,
     "end_time": "2022-12-15T15:55:17.906910",
     "exception": false,
     "start_time": "2022-12-15T15:55:17.899096",
     "status": "completed"
    },
    "tags": []
   },
   "source": [
    "## Now we're going to obtain a dataset made of 0 and 1"
   ]
  }
 ],
 "metadata": {
  "kernelspec": {
   "display_name": "Python 3",
   "language": "python",
   "name": "python3"
  },
  "language_info": {
   "codemirror_mode": {
    "name": "ipython",
    "version": 3
   },
   "file_extension": ".py",
   "mimetype": "text/x-python",
   "name": "python",
   "nbconvert_exporter": "python",
   "pygments_lexer": "ipython3",
   "version": "3.7.12"
  },
  "papermill": {
   "default_parameters": {},
   "duration": 11.581336,
   "end_time": "2022-12-15T15:55:18.739077",
   "environment_variables": {},
   "exception": null,
   "input_path": "__notebook__.ipynb",
   "output_path": "__notebook__.ipynb",
   "parameters": {},
   "start_time": "2022-12-15T15:55:07.157741",
   "version": "2.3.4"
  }
 },
 "nbformat": 4,
 "nbformat_minor": 5
}
