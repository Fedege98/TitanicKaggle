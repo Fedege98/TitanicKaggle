{
 "cells": [
  {
   "cell_type": "markdown",
   "id": "b81c8d63",
   "metadata": {
    "_cell_guid": "b1076dfc-b9ad-4769-8c92-a6c4dae69d19",
    "_uuid": "8f2839f25d086af736a60e9eeb907d3b93b6e0e5",
    "papermill": {
     "duration": 0.023404,
     "end_time": "2022-12-29T20:33:15.556861",
     "exception": false,
     "start_time": "2022-12-29T20:33:15.533457",
     "status": "completed"
    },
    "tags": []
   },
   "source": [
    "# Titanic Challenge Enrico"
   ]
  },
  {
   "cell_type": "markdown",
   "id": "d59486fa",
   "metadata": {
    "papermill": {
     "duration": 0.02198,
     "end_time": "2022-12-29T20:33:15.594997",
     "exception": false,
     "start_time": "2022-12-29T20:33:15.573017",
     "status": "completed"
    },
    "tags": []
   },
   "source": [
    "Useful libraries import"
   ]
  },
  {
   "cell_type": "code",
   "execution_count": 1,
   "id": "f06a29cd",
   "metadata": {
    "execution": {
     "iopub.execute_input": "2022-12-29T20:33:15.625729Z",
     "iopub.status.busy": "2022-12-29T20:33:15.625275Z",
     "iopub.status.idle": "2022-12-29T20:33:16.927829Z",
     "shell.execute_reply": "2022-12-29T20:33:16.926467Z"
    },
    "papermill": {
     "duration": 1.321417,
     "end_time": "2022-12-29T20:33:16.931151",
     "exception": false,
     "start_time": "2022-12-29T20:33:15.609734",
     "status": "completed"
    },
    "tags": []
   },
   "outputs": [],
   "source": [
    "import pandas as pd\n",
    "import matplotlib as plt\n",
    "import numpy as np\n",
    "import sklearn as sl\n",
    "import matplotlib.pyplot as plt\n",
    "import seaborn as sns"
   ]
  },
  {
   "cell_type": "markdown",
   "id": "504e04aa",
   "metadata": {
    "papermill": {
     "duration": 0.012755,
     "end_time": "2022-12-29T20:33:16.957166",
     "exception": false,
     "start_time": "2022-12-29T20:33:16.944411",
     "status": "completed"
    },
    "tags": []
   },
   "source": [
    "## Importing training set"
   ]
  },
  {
   "cell_type": "code",
   "execution_count": 2,
   "id": "52f131a5",
   "metadata": {
    "execution": {
     "iopub.execute_input": "2022-12-29T20:33:16.986507Z",
     "iopub.status.busy": "2022-12-29T20:33:16.986025Z",
     "iopub.status.idle": "2022-12-29T20:33:17.010350Z",
     "shell.execute_reply": "2022-12-29T20:33:17.009021Z"
    },
    "papermill": {
     "duration": 0.042792,
     "end_time": "2022-12-29T20:33:17.013274",
     "exception": false,
     "start_time": "2022-12-29T20:33:16.970482",
     "status": "completed"
    },
    "tags": []
   },
   "outputs": [],
   "source": [
    "training_set = pd.read_csv('/kaggle/input/titanic/train.csv')"
   ]
  },
  {
   "cell_type": "code",
   "execution_count": 3,
   "id": "271e323f",
   "metadata": {
    "execution": {
     "iopub.execute_input": "2022-12-29T20:33:17.042246Z",
     "iopub.status.busy": "2022-12-29T20:33:17.041673Z",
     "iopub.status.idle": "2022-12-29T20:33:17.073904Z",
     "shell.execute_reply": "2022-12-29T20:33:17.072918Z"
    },
    "papermill": {
     "duration": 0.050694,
     "end_time": "2022-12-29T20:33:17.077352",
     "exception": false,
     "start_time": "2022-12-29T20:33:17.026658",
     "status": "completed"
    },
    "tags": []
   },
   "outputs": [
    {
     "name": "stdout",
     "output_type": "stream",
     "text": [
      "<class 'pandas.core.frame.DataFrame'>\n",
      "RangeIndex: 891 entries, 0 to 890\n",
      "Data columns (total 12 columns):\n",
      " #   Column       Non-Null Count  Dtype  \n",
      "---  ------       --------------  -----  \n",
      " 0   PassengerId  891 non-null    int64  \n",
      " 1   Survived     891 non-null    int64  \n",
      " 2   Pclass       891 non-null    int64  \n",
      " 3   Name         891 non-null    object \n",
      " 4   Sex          891 non-null    object \n",
      " 5   Age          714 non-null    float64\n",
      " 6   SibSp        891 non-null    int64  \n",
      " 7   Parch        891 non-null    int64  \n",
      " 8   Ticket       891 non-null    object \n",
      " 9   Fare         891 non-null    float64\n",
      " 10  Cabin        204 non-null    object \n",
      " 11  Embarked     889 non-null    object \n",
      "dtypes: float64(2), int64(5), object(5)\n",
      "memory usage: 83.7+ KB\n"
     ]
    }
   ],
   "source": [
    "training_set.info()"
   ]
  },
  {
   "cell_type": "code",
   "execution_count": 4,
   "id": "cf1bd708",
   "metadata": {
    "execution": {
     "iopub.execute_input": "2022-12-29T20:33:17.107347Z",
     "iopub.status.busy": "2022-12-29T20:33:17.106848Z",
     "iopub.status.idle": "2022-12-29T20:33:17.130783Z",
     "shell.execute_reply": "2022-12-29T20:33:17.129778Z"
    },
    "papermill": {
     "duration": 0.040947,
     "end_time": "2022-12-29T20:33:17.133080",
     "exception": false,
     "start_time": "2022-12-29T20:33:17.092133",
     "status": "completed"
    },
    "tags": []
   },
   "outputs": [
    {
     "data": {
      "text/html": [
       "<div>\n",
       "<style scoped>\n",
       "    .dataframe tbody tr th:only-of-type {\n",
       "        vertical-align: middle;\n",
       "    }\n",
       "\n",
       "    .dataframe tbody tr th {\n",
       "        vertical-align: top;\n",
       "    }\n",
       "\n",
       "    .dataframe thead th {\n",
       "        text-align: right;\n",
       "    }\n",
       "</style>\n",
       "<table border=\"1\" class=\"dataframe\">\n",
       "  <thead>\n",
       "    <tr style=\"text-align: right;\">\n",
       "      <th></th>\n",
       "      <th>PassengerId</th>\n",
       "      <th>Survived</th>\n",
       "      <th>Pclass</th>\n",
       "      <th>Name</th>\n",
       "      <th>Sex</th>\n",
       "      <th>Age</th>\n",
       "      <th>SibSp</th>\n",
       "      <th>Parch</th>\n",
       "      <th>Ticket</th>\n",
       "      <th>Fare</th>\n",
       "      <th>Cabin</th>\n",
       "      <th>Embarked</th>\n",
       "    </tr>\n",
       "  </thead>\n",
       "  <tbody>\n",
       "    <tr>\n",
       "      <th>0</th>\n",
       "      <td>1</td>\n",
       "      <td>0</td>\n",
       "      <td>3</td>\n",
       "      <td>Braund, Mr. Owen Harris</td>\n",
       "      <td>male</td>\n",
       "      <td>22.0</td>\n",
       "      <td>1</td>\n",
       "      <td>0</td>\n",
       "      <td>A/5 21171</td>\n",
       "      <td>7.2500</td>\n",
       "      <td>NaN</td>\n",
       "      <td>S</td>\n",
       "    </tr>\n",
       "    <tr>\n",
       "      <th>1</th>\n",
       "      <td>2</td>\n",
       "      <td>1</td>\n",
       "      <td>1</td>\n",
       "      <td>Cumings, Mrs. John Bradley (Florence Briggs Th...</td>\n",
       "      <td>female</td>\n",
       "      <td>38.0</td>\n",
       "      <td>1</td>\n",
       "      <td>0</td>\n",
       "      <td>PC 17599</td>\n",
       "      <td>71.2833</td>\n",
       "      <td>C85</td>\n",
       "      <td>C</td>\n",
       "    </tr>\n",
       "    <tr>\n",
       "      <th>2</th>\n",
       "      <td>3</td>\n",
       "      <td>1</td>\n",
       "      <td>3</td>\n",
       "      <td>Heikkinen, Miss. Laina</td>\n",
       "      <td>female</td>\n",
       "      <td>26.0</td>\n",
       "      <td>0</td>\n",
       "      <td>0</td>\n",
       "      <td>STON/O2. 3101282</td>\n",
       "      <td>7.9250</td>\n",
       "      <td>NaN</td>\n",
       "      <td>S</td>\n",
       "    </tr>\n",
       "    <tr>\n",
       "      <th>3</th>\n",
       "      <td>4</td>\n",
       "      <td>1</td>\n",
       "      <td>1</td>\n",
       "      <td>Futrelle, Mrs. Jacques Heath (Lily May Peel)</td>\n",
       "      <td>female</td>\n",
       "      <td>35.0</td>\n",
       "      <td>1</td>\n",
       "      <td>0</td>\n",
       "      <td>113803</td>\n",
       "      <td>53.1000</td>\n",
       "      <td>C123</td>\n",
       "      <td>S</td>\n",
       "    </tr>\n",
       "    <tr>\n",
       "      <th>4</th>\n",
       "      <td>5</td>\n",
       "      <td>0</td>\n",
       "      <td>3</td>\n",
       "      <td>Allen, Mr. William Henry</td>\n",
       "      <td>male</td>\n",
       "      <td>35.0</td>\n",
       "      <td>0</td>\n",
       "      <td>0</td>\n",
       "      <td>373450</td>\n",
       "      <td>8.0500</td>\n",
       "      <td>NaN</td>\n",
       "      <td>S</td>\n",
       "    </tr>\n",
       "  </tbody>\n",
       "</table>\n",
       "</div>"
      ],
      "text/plain": [
       "   PassengerId  Survived  Pclass  \\\n",
       "0            1         0       3   \n",
       "1            2         1       1   \n",
       "2            3         1       3   \n",
       "3            4         1       1   \n",
       "4            5         0       3   \n",
       "\n",
       "                                                Name     Sex   Age  SibSp  \\\n",
       "0                            Braund, Mr. Owen Harris    male  22.0      1   \n",
       "1  Cumings, Mrs. John Bradley (Florence Briggs Th...  female  38.0      1   \n",
       "2                             Heikkinen, Miss. Laina  female  26.0      0   \n",
       "3       Futrelle, Mrs. Jacques Heath (Lily May Peel)  female  35.0      1   \n",
       "4                           Allen, Mr. William Henry    male  35.0      0   \n",
       "\n",
       "   Parch            Ticket     Fare Cabin Embarked  \n",
       "0      0         A/5 21171   7.2500   NaN        S  \n",
       "1      0          PC 17599  71.2833   C85        C  \n",
       "2      0  STON/O2. 3101282   7.9250   NaN        S  \n",
       "3      0            113803  53.1000  C123        S  \n",
       "4      0            373450   8.0500   NaN        S  "
      ]
     },
     "execution_count": 4,
     "metadata": {},
     "output_type": "execute_result"
    }
   ],
   "source": [
    "training_set.head()"
   ]
  },
  {
   "cell_type": "markdown",
   "id": "71613ebe",
   "metadata": {
    "papermill": {
     "duration": 0.013028,
     "end_time": "2022-12-29T20:33:17.159610",
     "exception": false,
     "start_time": "2022-12-29T20:33:17.146582",
     "status": "completed"
    },
    "tags": []
   },
   "source": [
    "## Importing testing set"
   ]
  },
  {
   "cell_type": "code",
   "execution_count": 5,
   "id": "c4f8dcb7",
   "metadata": {
    "execution": {
     "iopub.execute_input": "2022-12-29T20:33:17.189265Z",
     "iopub.status.busy": "2022-12-29T20:33:17.188387Z",
     "iopub.status.idle": "2022-12-29T20:33:17.202810Z",
     "shell.execute_reply": "2022-12-29T20:33:17.201753Z"
    },
    "papermill": {
     "duration": 0.032505,
     "end_time": "2022-12-29T20:33:17.205539",
     "exception": false,
     "start_time": "2022-12-29T20:33:17.173034",
     "status": "completed"
    },
    "tags": []
   },
   "outputs": [],
   "source": [
    "testing_set = pd.read_csv('/kaggle/input/titanic/test.csv')"
   ]
  },
  {
   "cell_type": "code",
   "execution_count": 6,
   "id": "10d159ba",
   "metadata": {
    "execution": {
     "iopub.execute_input": "2022-12-29T20:33:17.235181Z",
     "iopub.status.busy": "2022-12-29T20:33:17.234333Z",
     "iopub.status.idle": "2022-12-29T20:33:17.251184Z",
     "shell.execute_reply": "2022-12-29T20:33:17.249141Z"
    },
    "papermill": {
     "duration": 0.034844,
     "end_time": "2022-12-29T20:33:17.254004",
     "exception": false,
     "start_time": "2022-12-29T20:33:17.219160",
     "status": "completed"
    },
    "tags": []
   },
   "outputs": [
    {
     "name": "stdout",
     "output_type": "stream",
     "text": [
      "<class 'pandas.core.frame.DataFrame'>\n",
      "RangeIndex: 418 entries, 0 to 417\n",
      "Data columns (total 11 columns):\n",
      " #   Column       Non-Null Count  Dtype  \n",
      "---  ------       --------------  -----  \n",
      " 0   PassengerId  418 non-null    int64  \n",
      " 1   Pclass       418 non-null    int64  \n",
      " 2   Name         418 non-null    object \n",
      " 3   Sex          418 non-null    object \n",
      " 4   Age          332 non-null    float64\n",
      " 5   SibSp        418 non-null    int64  \n",
      " 6   Parch        418 non-null    int64  \n",
      " 7   Ticket       418 non-null    object \n",
      " 8   Fare         417 non-null    float64\n",
      " 9   Cabin        91 non-null     object \n",
      " 10  Embarked     418 non-null    object \n",
      "dtypes: float64(2), int64(4), object(5)\n",
      "memory usage: 36.0+ KB\n"
     ]
    }
   ],
   "source": [
    "testing_set.info()"
   ]
  },
  {
   "cell_type": "code",
   "execution_count": 7,
   "id": "c1f0265f",
   "metadata": {
    "execution": {
     "iopub.execute_input": "2022-12-29T20:33:17.283538Z",
     "iopub.status.busy": "2022-12-29T20:33:17.283047Z",
     "iopub.status.idle": "2022-12-29T20:33:17.300561Z",
     "shell.execute_reply": "2022-12-29T20:33:17.299626Z"
    },
    "papermill": {
     "duration": 0.035055,
     "end_time": "2022-12-29T20:33:17.302700",
     "exception": false,
     "start_time": "2022-12-29T20:33:17.267645",
     "status": "completed"
    },
    "tags": []
   },
   "outputs": [
    {
     "data": {
      "text/html": [
       "<div>\n",
       "<style scoped>\n",
       "    .dataframe tbody tr th:only-of-type {\n",
       "        vertical-align: middle;\n",
       "    }\n",
       "\n",
       "    .dataframe tbody tr th {\n",
       "        vertical-align: top;\n",
       "    }\n",
       "\n",
       "    .dataframe thead th {\n",
       "        text-align: right;\n",
       "    }\n",
       "</style>\n",
       "<table border=\"1\" class=\"dataframe\">\n",
       "  <thead>\n",
       "    <tr style=\"text-align: right;\">\n",
       "      <th></th>\n",
       "      <th>PassengerId</th>\n",
       "      <th>Pclass</th>\n",
       "      <th>Name</th>\n",
       "      <th>Sex</th>\n",
       "      <th>Age</th>\n",
       "      <th>SibSp</th>\n",
       "      <th>Parch</th>\n",
       "      <th>Ticket</th>\n",
       "      <th>Fare</th>\n",
       "      <th>Cabin</th>\n",
       "      <th>Embarked</th>\n",
       "    </tr>\n",
       "  </thead>\n",
       "  <tbody>\n",
       "    <tr>\n",
       "      <th>0</th>\n",
       "      <td>892</td>\n",
       "      <td>3</td>\n",
       "      <td>Kelly, Mr. James</td>\n",
       "      <td>male</td>\n",
       "      <td>34.5</td>\n",
       "      <td>0</td>\n",
       "      <td>0</td>\n",
       "      <td>330911</td>\n",
       "      <td>7.8292</td>\n",
       "      <td>NaN</td>\n",
       "      <td>Q</td>\n",
       "    </tr>\n",
       "    <tr>\n",
       "      <th>1</th>\n",
       "      <td>893</td>\n",
       "      <td>3</td>\n",
       "      <td>Wilkes, Mrs. James (Ellen Needs)</td>\n",
       "      <td>female</td>\n",
       "      <td>47.0</td>\n",
       "      <td>1</td>\n",
       "      <td>0</td>\n",
       "      <td>363272</td>\n",
       "      <td>7.0000</td>\n",
       "      <td>NaN</td>\n",
       "      <td>S</td>\n",
       "    </tr>\n",
       "    <tr>\n",
       "      <th>2</th>\n",
       "      <td>894</td>\n",
       "      <td>2</td>\n",
       "      <td>Myles, Mr. Thomas Francis</td>\n",
       "      <td>male</td>\n",
       "      <td>62.0</td>\n",
       "      <td>0</td>\n",
       "      <td>0</td>\n",
       "      <td>240276</td>\n",
       "      <td>9.6875</td>\n",
       "      <td>NaN</td>\n",
       "      <td>Q</td>\n",
       "    </tr>\n",
       "    <tr>\n",
       "      <th>3</th>\n",
       "      <td>895</td>\n",
       "      <td>3</td>\n",
       "      <td>Wirz, Mr. Albert</td>\n",
       "      <td>male</td>\n",
       "      <td>27.0</td>\n",
       "      <td>0</td>\n",
       "      <td>0</td>\n",
       "      <td>315154</td>\n",
       "      <td>8.6625</td>\n",
       "      <td>NaN</td>\n",
       "      <td>S</td>\n",
       "    </tr>\n",
       "    <tr>\n",
       "      <th>4</th>\n",
       "      <td>896</td>\n",
       "      <td>3</td>\n",
       "      <td>Hirvonen, Mrs. Alexander (Helga E Lindqvist)</td>\n",
       "      <td>female</td>\n",
       "      <td>22.0</td>\n",
       "      <td>1</td>\n",
       "      <td>1</td>\n",
       "      <td>3101298</td>\n",
       "      <td>12.2875</td>\n",
       "      <td>NaN</td>\n",
       "      <td>S</td>\n",
       "    </tr>\n",
       "  </tbody>\n",
       "</table>\n",
       "</div>"
      ],
      "text/plain": [
       "   PassengerId  Pclass                                          Name     Sex  \\\n",
       "0          892       3                              Kelly, Mr. James    male   \n",
       "1          893       3              Wilkes, Mrs. James (Ellen Needs)  female   \n",
       "2          894       2                     Myles, Mr. Thomas Francis    male   \n",
       "3          895       3                              Wirz, Mr. Albert    male   \n",
       "4          896       3  Hirvonen, Mrs. Alexander (Helga E Lindqvist)  female   \n",
       "\n",
       "    Age  SibSp  Parch   Ticket     Fare Cabin Embarked  \n",
       "0  34.5      0      0   330911   7.8292   NaN        Q  \n",
       "1  47.0      1      0   363272   7.0000   NaN        S  \n",
       "2  62.0      0      0   240276   9.6875   NaN        Q  \n",
       "3  27.0      0      0   315154   8.6625   NaN        S  \n",
       "4  22.0      1      1  3101298  12.2875   NaN        S  "
      ]
     },
     "execution_count": 7,
     "metadata": {},
     "output_type": "execute_result"
    }
   ],
   "source": [
    "testing_set.head()"
   ]
  },
  {
   "cell_type": "markdown",
   "id": "61755af1",
   "metadata": {
    "papermill": {
     "duration": 0.013341,
     "end_time": "2022-12-29T20:33:17.329919",
     "exception": false,
     "start_time": "2022-12-29T20:33:17.316578",
     "status": "completed"
    },
    "tags": []
   },
   "source": [
    "## Data selection"
   ]
  },
  {
   "cell_type": "markdown",
   "id": "a3d3990e",
   "metadata": {
    "papermill": {
     "duration": 0.014504,
     "end_time": "2022-12-29T20:33:17.358055",
     "exception": false,
     "start_time": "2022-12-29T20:33:17.343551",
     "status": "completed"
    },
    "tags": []
   },
   "source": [
    "We assume that some of the columns are not useful to reach our goal. \n",
    "The first step is therefore selecting columns based on their (hypothetical) influence on avoiding passengers death. \n",
    "\n",
    "* **PassengerId** (we keep it only to have a reference);\n",
    "* **Pclass** (i.e. the third class was located in bow and stern: it is likely that passengers in these positions died in different proportions);\n",
    "* **Sex** (it may seem a cognitive bias, but if we study the disposition of unmarried people we can see that they were located in different parts of the ship);\n",
    "* **Age** (we can assume old people were most likely to die in an emergency situation: this is a weak hypothesis);\n",
    "* **Parch** (to be parent of a child might have been a reason of having more chances to get on a lifeboat);\n",
    "* **SibSp** (to be spoused or )\n",
    "* **Survived** (if survived or not). "
   ]
  },
  {
   "cell_type": "code",
   "execution_count": 8,
   "id": "c7b976e6",
   "metadata": {
    "execution": {
     "iopub.execute_input": "2022-12-29T20:33:17.387998Z",
     "iopub.status.busy": "2022-12-29T20:33:17.387207Z",
     "iopub.status.idle": "2022-12-29T20:33:17.395140Z",
     "shell.execute_reply": "2022-12-29T20:33:17.393953Z"
    },
    "papermill": {
     "duration": 0.026168,
     "end_time": "2022-12-29T20:33:17.397850",
     "exception": false,
     "start_time": "2022-12-29T20:33:17.371682",
     "status": "completed"
    },
    "tags": []
   },
   "outputs": [],
   "source": [
    "clean_training_set = training_set[[\"PassengerId\", \"Pclass\", \"Sex\", \"Age\", \"Parch\", \"SibSp\", \"Survived\"]]"
   ]
  },
  {
   "cell_type": "code",
   "execution_count": 9,
   "id": "b70249af",
   "metadata": {
    "execution": {
     "iopub.execute_input": "2022-12-29T20:33:17.428493Z",
     "iopub.status.busy": "2022-12-29T20:33:17.428005Z",
     "iopub.status.idle": "2022-12-29T20:33:17.444438Z",
     "shell.execute_reply": "2022-12-29T20:33:17.442409Z"
    },
    "papermill": {
     "duration": 0.034541,
     "end_time": "2022-12-29T20:33:17.447025",
     "exception": false,
     "start_time": "2022-12-29T20:33:17.412484",
     "status": "completed"
    },
    "tags": []
   },
   "outputs": [
    {
     "name": "stdout",
     "output_type": "stream",
     "text": [
      "<class 'pandas.core.frame.DataFrame'>\n",
      "RangeIndex: 891 entries, 0 to 890\n",
      "Data columns (total 7 columns):\n",
      " #   Column       Non-Null Count  Dtype  \n",
      "---  ------       --------------  -----  \n",
      " 0   PassengerId  891 non-null    int64  \n",
      " 1   Pclass       891 non-null    int64  \n",
      " 2   Sex          891 non-null    object \n",
      " 3   Age          714 non-null    float64\n",
      " 4   Parch        891 non-null    int64  \n",
      " 5   SibSp        891 non-null    int64  \n",
      " 6   Survived     891 non-null    int64  \n",
      "dtypes: float64(1), int64(5), object(1)\n",
      "memory usage: 48.9+ KB\n"
     ]
    }
   ],
   "source": [
    "clean_training_set.info()"
   ]
  },
  {
   "cell_type": "markdown",
   "id": "9f0704b4",
   "metadata": {
    "papermill": {
     "duration": 0.013731,
     "end_time": "2022-12-29T20:33:17.475158",
     "exception": false,
     "start_time": "2022-12-29T20:33:17.461427",
     "status": "completed"
    },
    "tags": []
   },
   "source": [
    "## Generic correlation"
   ]
  },
  {
   "cell_type": "markdown",
   "id": "d87a2a32",
   "metadata": {
    "papermill": {
     "duration": 0.013381,
     "end_time": "2022-12-29T20:33:17.502640",
     "exception": false,
     "start_time": "2022-12-29T20:33:17.489259",
     "status": "completed"
    },
    "tags": []
   },
   "source": [
    "### la heatmap dimostra la correlazione tra le varie colonne del dataset"
   ]
  },
  {
   "cell_type": "code",
   "execution_count": 10,
   "id": "3803363d",
   "metadata": {
    "execution": {
     "iopub.execute_input": "2022-12-29T20:33:17.540395Z",
     "iopub.status.busy": "2022-12-29T20:33:17.539223Z",
     "iopub.status.idle": "2022-12-29T20:33:18.184515Z",
     "shell.execute_reply": "2022-12-29T20:33:18.182872Z"
    },
    "papermill": {
     "duration": 0.670012,
     "end_time": "2022-12-29T20:33:18.187022",
     "exception": false,
     "start_time": "2022-12-29T20:33:17.517010",
     "status": "completed"
    },
    "tags": []
   },
   "outputs": [
    {
     "data": {
      "image/png": "[encoded data removed]",
      "text/plain": [
       "<Figure size 432x288 with 2 Axes>"
      ]
     },
     "metadata": {
      "needs_background": "light"
     },
     "output_type": "display_data"
    }
   ],
   "source": [
    "ax = sns.heatmap(training_set.corr(), annot=True)"
   ]
  },
  {
   "cell_type": "markdown",
   "id": "c08ed48d",
   "metadata": {
    "papermill": {
     "duration": 0.01402,
     "end_time": "2022-12-29T20:33:18.215499",
     "exception": false,
     "start_time": "2022-12-29T20:33:18.201479",
     "status": "completed"
    },
    "tags": []
   },
   "source": [
    "### Relation between class and death"
   ]
  },
  {
   "cell_type": "markdown",
   "id": "45b4e716",
   "metadata": {
    "papermill": {
     "duration": 0.013984,
     "end_time": "2022-12-29T20:33:18.243765",
     "exception": false,
     "start_time": "2022-12-29T20:33:18.229781",
     "status": "completed"
    },
    "tags": []
   },
   "source": [
    "Passengers death seems to be highly correlated to their (travel) class: "
   ]
  },
  {
   "cell_type": "code",
   "execution_count": 11,
   "id": "061612c8",
   "metadata": {
    "execution": {
     "iopub.execute_input": "2022-12-29T20:33:18.274954Z",
     "iopub.status.busy": "2022-12-29T20:33:18.274472Z",
     "iopub.status.idle": "2022-12-29T20:33:18.516915Z",
     "shell.execute_reply": "2022-12-29T20:33:18.515582Z"
    },
    "papermill": {
     "duration": 0.26139,
     "end_time": "2022-12-29T20:33:18.519621",
     "exception": false,
     "start_time": "2022-12-29T20:33:18.258231",
     "status": "completed"
    },
    "tags": []
   },
   "outputs": [
    {
     "data": {
      "text/plain": [
       "<AxesSubplot:title={'center':'Class and death relation'}, xlabel='travel class', ylabel='deaths'>"
      ]
     },
     "execution_count": 11,
     "metadata": {},
     "output_type": "execute_result"
    },
    {
     "data": {
      "image/png": "[encoded data removed]",
      "text/plain": [
       "<Figure size 432x288 with 1 Axes>"
      ]
     },
     "metadata": {
      "needs_background": "light"
     },
     "output_type": "display_data"
    }
   ],
   "source": [
    "class_scheme = clean_training_set.groupby('Pclass')['Survived'].apply(lambda x: (x==0).mean())\n",
    "class_scheme.plot(kind='bar', color='darkorange', width = 0.5, title='Class and death relation', ylabel='deaths', xlabel='travel class')"
   ]
  },
  {
   "cell_type": "markdown",
   "id": "c54feedd",
   "metadata": {
    "papermill": {
     "duration": 0.015453,
     "end_time": "2022-12-29T20:33:18.551288",
     "exception": false,
     "start_time": "2022-12-29T20:33:18.535835",
     "status": "completed"
    },
    "tags": []
   },
   "source": [
    "## Relation between sex and death"
   ]
  },
  {
   "cell_type": "markdown",
   "id": "011449f5",
   "metadata": {
    "papermill": {
     "duration": 0.014878,
     "end_time": "2022-12-29T20:33:18.581594",
     "exception": false,
     "start_time": "2022-12-29T20:33:18.566716",
     "status": "completed"
    },
    "tags": []
   },
   "source": [
    "As we can see, males death rate is greater than females one. "
   ]
  },
  {
   "cell_type": "code",
   "execution_count": 12,
   "id": "8e82acfb",
   "metadata": {
    "execution": {
     "iopub.execute_input": "2022-12-29T20:33:18.614692Z",
     "iopub.status.busy": "2022-12-29T20:33:18.613964Z",
     "iopub.status.idle": "2022-12-29T20:33:18.838848Z",
     "shell.execute_reply": "2022-12-29T20:33:18.837918Z"
    },
    "papermill": {
     "duration": 0.244697,
     "end_time": "2022-12-29T20:33:18.841457",
     "exception": false,
     "start_time": "2022-12-29T20:33:18.596760",
     "status": "completed"
    },
    "tags": []
   },
   "outputs": [
    {
     "data": {
      "text/plain": [
       "<AxesSubplot:title={'center':'Sex and death relation'}, xlabel='sex', ylabel='deaths'>"
      ]
     },
     "execution_count": 12,
     "metadata": {},
     "output_type": "execute_result"
    },
    {
     "data": {
      "image/png": "[encoded data removed]",
      "text/plain": [
       "<Figure size 432x288 with 1 Axes>"
      ]
     },
     "metadata": {
      "needs_background": "light"
     },
     "output_type": "display_data"
    }
   ],
   "source": [
    "sex_scheme = clean_training_set.groupby('Sex')['Survived'].apply(lambda x: (x==0).mean())\n",
    "sex_scheme.plot(kind='bar', color='darkorange', width = 0.4, title='Sex and death relation', ylabel='deaths', xlabel='sex')"
   ]
  },
  {
   "cell_type": "markdown",
   "id": "302d2b8c",
   "metadata": {
    "papermill": {
     "duration": 0.015188,
     "end_time": "2022-12-29T20:33:18.873456",
     "exception": false,
     "start_time": "2022-12-29T20:33:18.858268",
     "status": "completed"
    },
    "tags": []
   },
   "source": [
    "## Relation between age and death"
   ]
  },
  {
   "cell_type": "markdown",
   "id": "788af6dc",
   "metadata": {
    "papermill": {
     "duration": 0.015108,
     "end_time": "2022-12-29T20:33:18.904160",
     "exception": false,
     "start_time": "2022-12-29T20:33:18.889052",
     "status": "completed"
    },
    "tags": []
   },
   "source": [
    "Children and elderlies on Titanic died less that middle age people (probably because they had priority on lifeboats): "
   ]
  },
  {
   "cell_type": "code",
   "execution_count": 13,
   "id": "6c9c97b1",
   "metadata": {
    "execution": {
     "iopub.execute_input": "2022-12-29T20:33:18.938408Z",
     "iopub.status.busy": "2022-12-29T20:33:18.937522Z",
     "iopub.status.idle": "2022-12-29T20:33:19.187846Z",
     "shell.execute_reply": "2022-12-29T20:33:19.186266Z"
    },
    "papermill": {
     "duration": 0.271536,
     "end_time": "2022-12-29T20:33:19.191121",
     "exception": false,
     "start_time": "2022-12-29T20:33:18.919585",
     "status": "completed"
    },
    "tags": []
   },
   "outputs": [
    {
     "data": {
      "text/plain": [
       "<AxesSubplot:title={'center':'Age and death relation'}, xlabel='age', ylabel='survived'>"
      ]
     },
     "execution_count": 13,
     "metadata": {},
     "output_type": "execute_result"
    },
    {
     "data": {
      "image/png": "[encoded data removed]",
      "text/plain": [
       "<Figure size 432x288 with 1 Axes>"
      ]
     },
     "metadata": {
      "needs_background": "light"
     },
     "output_type": "display_data"
    }
   ],
   "source": [
    "age_scheme = clean_training_set.groupby('Age')['Survived'].mean()\n",
    "age_scheme.plot(kind='line', color='darkorange', title='Age and death relation', ylabel='survived', xlabel='age')"
   ]
  },
  {
   "cell_type": "markdown",
   "id": "e7548f26",
   "metadata": {
    "papermill": {
     "duration": 0.015752,
     "end_time": "2022-12-29T20:33:19.223229",
     "exception": false,
     "start_time": "2022-12-29T20:33:19.207477",
     "status": "completed"
    },
    "tags": []
   },
   "source": [
    "## Relation between SibSp and death"
   ]
  },
  {
   "cell_type": "markdown",
   "id": "ee3c9f96",
   "metadata": {
    "papermill": {
     "duration": 0.01536,
     "end_time": "2022-12-29T20:33:19.254365",
     "exception": false,
     "start_time": "2022-12-29T20:33:19.239005",
     "status": "completed"
    },
    "tags": []
   },
   "source": [
    "Death probability increases with increasing relationship"
   ]
  },
  {
   "cell_type": "code",
   "execution_count": 14,
   "id": "4c5f8d26",
   "metadata": {
    "execution": {
     "iopub.execute_input": "2022-12-29T20:33:19.287719Z",
     "iopub.status.busy": "2022-12-29T20:33:19.287316Z",
     "iopub.status.idle": "2022-12-29T20:33:19.527927Z",
     "shell.execute_reply": "2022-12-29T20:33:19.526649Z"
    },
    "papermill": {
     "duration": 0.260495,
     "end_time": "2022-12-29T20:33:19.530511",
     "exception": false,
     "start_time": "2022-12-29T20:33:19.270016",
     "status": "completed"
    },
    "tags": []
   },
   "outputs": [
    {
     "data": {
      "text/plain": [
       "<AxesSubplot:title={'center':'SibSp and death relation'}, xlabel='SibSp', ylabel='deaths'>"
      ]
     },
     "execution_count": 14,
     "metadata": {},
     "output_type": "execute_result"
    },
    {
     "data": {
      "image/png": "[encoded data removed]",
      "text/plain": [
       "<Figure size 432x288 with 1 Axes>"
      ]
     },
     "metadata": {
      "needs_background": "light"
     },
     "output_type": "display_data"
    }
   ],
   "source": [
    "sibsp_scheme = clean_training_set.groupby('SibSp')['Survived'].apply(lambda x: (x==0).mean())\n",
    "sibsp_scheme.plot(kind='bar', color='darkorange', width = 0.8, title='SibSp and death relation', ylabel='deaths', xlabel='SibSp')"
   ]
  },
  {
   "cell_type": "markdown",
   "id": "f9c73fd8",
   "metadata": {
    "papermill": {
     "duration": 0.015817,
     "end_time": "2022-12-29T20:33:19.562627",
     "exception": false,
     "start_time": "2022-12-29T20:33:19.546810",
     "status": "completed"
    },
    "tags": []
   },
   "source": [
    "## Relation between Parch and death"
   ]
  },
  {
   "cell_type": "code",
   "execution_count": 15,
   "id": "3bc5c8bc",
   "metadata": {
    "execution": {
     "iopub.execute_input": "2022-12-29T20:33:19.598108Z",
     "iopub.status.busy": "2022-12-29T20:33:19.597222Z",
     "iopub.status.idle": "2022-12-29T20:33:19.830115Z",
     "shell.execute_reply": "2022-12-29T20:33:19.828689Z"
    },
    "papermill": {
     "duration": 0.254213,
     "end_time": "2022-12-29T20:33:19.833025",
     "exception": false,
     "start_time": "2022-12-29T20:33:19.578812",
     "status": "completed"
    },
    "tags": []
   },
   "outputs": [
    {
     "data": {
      "text/plain": [
       "<AxesSubplot:title={'center':'SibSp and death relation'}, xlabel='Parch', ylabel='deaths'>"
      ]
     },
     "execution_count": 15,
     "metadata": {},
     "output_type": "execute_result"
    },
    {
     "data": {
      "image/png": "[encoded data removed]",
      "text/plain": [
       "<Figure size 432x288 with 1 Axes>"
      ]
     },
     "metadata": {
      "needs_background": "light"
     },
     "output_type": "display_data"
    }
   ],
   "source": [
    "parch_scheme = clean_training_set.groupby('Parch')['Survived'].apply(lambda x: (x==0).mean())\n",
    "parch_scheme.plot(kind='bar', color='darkorange', width = 0.8, title='SibSp and death relation', ylabel='deaths', xlabel='Parch')"
   ]
  },
  {
   "cell_type": "markdown",
   "id": "ef8851fd",
   "metadata": {
    "papermill": {
     "duration": 0.016543,
     "end_time": "2022-12-29T20:33:19.866746",
     "exception": false,
     "start_time": "2022-12-29T20:33:19.850203",
     "status": "completed"
    },
    "tags": []
   },
   "source": [
    "## Training set normalization"
   ]
  },
  {
   "cell_type": "markdown",
   "id": "440d393c",
   "metadata": {
    "papermill": {
     "duration": 0.016562,
     "end_time": "2022-12-29T20:33:19.900441",
     "exception": false,
     "start_time": "2022-12-29T20:33:19.883879",
     "status": "completed"
    },
    "tags": []
   },
   "source": [
    "## Training set traduction (strings to numbers)"
   ]
  },
  {
   "cell_type": "markdown",
   "id": "2edaf3f5",
   "metadata": {
    "papermill": {
     "duration": 0.016588,
     "end_time": "2022-12-29T20:33:19.934042",
     "exception": false,
     "start_time": "2022-12-29T20:33:19.917454",
     "status": "completed"
    },
    "tags": []
   },
   "source": [
    "Here we convert males to value 0 and females to value 1"
   ]
  },
  {
   "cell_type": "code",
   "execution_count": 16,
   "id": "f86d0b3d",
   "metadata": {
    "execution": {
     "iopub.execute_input": "2022-12-29T20:33:19.971418Z",
     "iopub.status.busy": "2022-12-29T20:33:19.970004Z",
     "iopub.status.idle": "2022-12-29T20:33:19.992923Z",
     "shell.execute_reply": "2022-12-29T20:33:19.991708Z"
    },
    "papermill": {
     "duration": 0.043937,
     "end_time": "2022-12-29T20:33:19.995466",
     "exception": false,
     "start_time": "2022-12-29T20:33:19.951529",
     "status": "completed"
    },
    "tags": []
   },
   "outputs": [
    {
     "data": {
      "text/html": [
       "<div>\n",
       "<style scoped>\n",
       "    .dataframe tbody tr th:only-of-type {\n",
       "        vertical-align: middle;\n",
       "    }\n",
       "\n",
       "    .dataframe tbody tr th {\n",
       "        vertical-align: top;\n",
       "    }\n",
       "\n",
       "    .dataframe thead th {\n",
       "        text-align: right;\n",
       "    }\n",
       "</style>\n",
       "<table border=\"1\" class=\"dataframe\">\n",
       "  <thead>\n",
       "    <tr style=\"text-align: right;\">\n",
       "      <th></th>\n",
       "      <th>PassengerId</th>\n",
       "      <th>Pclass</th>\n",
       "      <th>Sex</th>\n",
       "      <th>Age</th>\n",
       "      <th>Parch</th>\n",
       "      <th>SibSp</th>\n",
       "      <th>Survived</th>\n",
       "    </tr>\n",
       "  </thead>\n",
       "  <tbody>\n",
       "    <tr>\n",
       "      <th>0</th>\n",
       "      <td>1</td>\n",
       "      <td>3</td>\n",
       "      <td>0</td>\n",
       "      <td>22.0</td>\n",
       "      <td>0</td>\n",
       "      <td>1</td>\n",
       "      <td>0</td>\n",
       "    </tr>\n",
       "    <tr>\n",
       "      <th>1</th>\n",
       "      <td>2</td>\n",
       "      <td>1</td>\n",
       "      <td>1</td>\n",
       "      <td>38.0</td>\n",
       "      <td>0</td>\n",
       "      <td>1</td>\n",
       "      <td>1</td>\n",
       "    </tr>\n",
       "    <tr>\n",
       "      <th>2</th>\n",
       "      <td>3</td>\n",
       "      <td>3</td>\n",
       "      <td>1</td>\n",
       "      <td>26.0</td>\n",
       "      <td>0</td>\n",
       "      <td>0</td>\n",
       "      <td>1</td>\n",
       "    </tr>\n",
       "    <tr>\n",
       "      <th>3</th>\n",
       "      <td>4</td>\n",
       "      <td>1</td>\n",
       "      <td>1</td>\n",
       "      <td>35.0</td>\n",
       "      <td>0</td>\n",
       "      <td>1</td>\n",
       "      <td>1</td>\n",
       "    </tr>\n",
       "    <tr>\n",
       "      <th>4</th>\n",
       "      <td>5</td>\n",
       "      <td>3</td>\n",
       "      <td>0</td>\n",
       "      <td>35.0</td>\n",
       "      <td>0</td>\n",
       "      <td>0</td>\n",
       "      <td>0</td>\n",
       "    </tr>\n",
       "    <tr>\n",
       "      <th>...</th>\n",
       "      <td>...</td>\n",
       "      <td>...</td>\n",
       "      <td>...</td>\n",
       "      <td>...</td>\n",
       "      <td>...</td>\n",
       "      <td>...</td>\n",
       "      <td>...</td>\n",
       "    </tr>\n",
       "    <tr>\n",
       "      <th>886</th>\n",
       "      <td>887</td>\n",
       "      <td>2</td>\n",
       "      <td>0</td>\n",
       "      <td>27.0</td>\n",
       "      <td>0</td>\n",
       "      <td>0</td>\n",
       "      <td>0</td>\n",
       "    </tr>\n",
       "    <tr>\n",
       "      <th>887</th>\n",
       "      <td>888</td>\n",
       "      <td>1</td>\n",
       "      <td>1</td>\n",
       "      <td>19.0</td>\n",
       "      <td>0</td>\n",
       "      <td>0</td>\n",
       "      <td>1</td>\n",
       "    </tr>\n",
       "    <tr>\n",
       "      <th>888</th>\n",
       "      <td>889</td>\n",
       "      <td>3</td>\n",
       "      <td>1</td>\n",
       "      <td>NaN</td>\n",
       "      <td>2</td>\n",
       "      <td>1</td>\n",
       "      <td>0</td>\n",
       "    </tr>\n",
       "    <tr>\n",
       "      <th>889</th>\n",
       "      <td>890</td>\n",
       "      <td>1</td>\n",
       "      <td>0</td>\n",
       "      <td>26.0</td>\n",
       "      <td>0</td>\n",
       "      <td>0</td>\n",
       "      <td>1</td>\n",
       "    </tr>\n",
       "    <tr>\n",
       "      <th>890</th>\n",
       "      <td>891</td>\n",
       "      <td>3</td>\n",
       "      <td>0</td>\n",
       "      <td>32.0</td>\n",
       "      <td>0</td>\n",
       "      <td>0</td>\n",
       "      <td>0</td>\n",
       "    </tr>\n",
       "  </tbody>\n",
       "</table>\n",
       "<p>891 rows × 7 columns</p>\n",
       "</div>"
      ],
      "text/plain": [
       "     PassengerId  Pclass  Sex   Age  Parch  SibSp  Survived\n",
       "0              1       3    0  22.0      0      1         0\n",
       "1              2       1    1  38.0      0      1         1\n",
       "2              3       3    1  26.0      0      0         1\n",
       "3              4       1    1  35.0      0      1         1\n",
       "4              5       3    0  35.0      0      0         0\n",
       "..           ...     ...  ...   ...    ...    ...       ...\n",
       "886          887       2    0  27.0      0      0         0\n",
       "887          888       1    1  19.0      0      0         1\n",
       "888          889       3    1   NaN      2      1         0\n",
       "889          890       1    0  26.0      0      0         1\n",
       "890          891       3    0  32.0      0      0         0\n",
       "\n",
       "[891 rows x 7 columns]"
      ]
     },
     "execution_count": 16,
     "metadata": {},
     "output_type": "execute_result"
    }
   ],
   "source": [
    "df = clean_training_set[clean_training_set['Sex'].notnull()].copy()\n",
    "df['Sex'] = df['Sex'].astype(str).copy()\n",
    "df[\"Sex\"]=df.Sex.map({\"male\":0,\"female\":1})\n",
    "\n",
    "df"
   ]
  },
  {
   "cell_type": "markdown",
   "id": "3ae4e0d1",
   "metadata": {
    "papermill": {
     "duration": 0.017172,
     "end_time": "2022-12-29T20:33:20.030613",
     "exception": false,
     "start_time": "2022-12-29T20:33:20.013441",
     "status": "completed"
    },
    "tags": []
   },
   "source": [
    "As we can see Age column has NaN values that have to be replaced with the medium value of age"
   ]
  },
  {
   "cell_type": "code",
   "execution_count": 17,
   "id": "0ef159d0",
   "metadata": {
    "execution": {
     "iopub.execute_input": "2022-12-29T20:33:20.069458Z",
     "iopub.status.busy": "2022-12-29T20:33:20.068532Z",
     "iopub.status.idle": "2022-12-29T20:33:20.076563Z",
     "shell.execute_reply": "2022-12-29T20:33:20.074929Z"
    },
    "papermill": {
     "duration": 0.031086,
     "end_time": "2022-12-29T20:33:20.080203",
     "exception": false,
     "start_time": "2022-12-29T20:33:20.049117",
     "status": "completed"
    },
    "tags": []
   },
   "outputs": [
    {
     "name": "stdout",
     "output_type": "stream",
     "text": [
      "True\n"
     ]
    }
   ],
   "source": [
    "check_nan = df['Age'].isnull().values.any()\n",
    "print(check_nan)"
   ]
  },
  {
   "cell_type": "code",
   "execution_count": 18,
   "id": "eef62178",
   "metadata": {
    "execution": {
     "iopub.execute_input": "2022-12-29T20:33:20.117050Z",
     "iopub.status.busy": "2022-12-29T20:33:20.116524Z",
     "iopub.status.idle": "2022-12-29T20:33:20.124775Z",
     "shell.execute_reply": "2022-12-29T20:33:20.123379Z"
    },
    "papermill": {
     "duration": 0.029468,
     "end_time": "2022-12-29T20:33:20.127336",
     "exception": false,
     "start_time": "2022-12-29T20:33:20.097868",
     "status": "completed"
    },
    "tags": []
   },
   "outputs": [
    {
     "name": "stdout",
     "output_type": "stream",
     "text": [
      "Mean age: 29\n"
     ]
    }
   ],
   "source": [
    "mean_age = int(df['Age'].mean())\n",
    "print(\"Mean age: \" + str(mean_age))"
   ]
  },
  {
   "cell_type": "code",
   "execution_count": 19,
   "id": "70443225",
   "metadata": {
    "execution": {
     "iopub.execute_input": "2022-12-29T20:33:20.165946Z",
     "iopub.status.busy": "2022-12-29T20:33:20.165473Z",
     "iopub.status.idle": "2022-12-29T20:33:20.173214Z",
     "shell.execute_reply": "2022-12-29T20:33:20.171682Z"
    },
    "papermill": {
     "duration": 0.029921,
     "end_time": "2022-12-29T20:33:20.175776",
     "exception": false,
     "start_time": "2022-12-29T20:33:20.145855",
     "status": "completed"
    },
    "tags": []
   },
   "outputs": [],
   "source": [
    "df.loc[ pd.isna(df['Age']), 'Age'] = mean_age"
   ]
  },
  {
   "cell_type": "code",
   "execution_count": 20,
   "id": "2bce11de",
   "metadata": {
    "execution": {
     "iopub.execute_input": "2022-12-29T20:33:20.214594Z",
     "iopub.status.busy": "2022-12-29T20:33:20.214150Z",
     "iopub.status.idle": "2022-12-29T20:33:20.221390Z",
     "shell.execute_reply": "2022-12-29T20:33:20.219938Z"
    },
    "papermill": {
     "duration": 0.029821,
     "end_time": "2022-12-29T20:33:20.223914",
     "exception": false,
     "start_time": "2022-12-29T20:33:20.194093",
     "status": "completed"
    },
    "tags": []
   },
   "outputs": [
    {
     "name": "stdout",
     "output_type": "stream",
     "text": [
      "Now we don't have NaN values anymore: False\n"
     ]
    }
   ],
   "source": [
    "check_nan = df['Age'].isnull().values.any()\n",
    "print(\"Now we don't have NaN values anymore: \" + str(check_nan))"
   ]
  },
  {
   "cell_type": "code",
   "execution_count": 21,
   "id": "2dc2b097",
   "metadata": {
    "execution": {
     "iopub.execute_input": "2022-12-29T20:33:20.262597Z",
     "iopub.status.busy": "2022-12-29T20:33:20.262178Z",
     "iopub.status.idle": "2022-12-29T20:33:20.273456Z",
     "shell.execute_reply": "2022-12-29T20:33:20.272161Z"
    },
    "papermill": {
     "duration": 0.034086,
     "end_time": "2022-12-29T20:33:20.275766",
     "exception": false,
     "start_time": "2022-12-29T20:33:20.241680",
     "status": "completed"
    },
    "tags": []
   },
   "outputs": [
    {
     "data": {
      "text/plain": [
       "PassengerId    0\n",
       "Pclass         0\n",
       "Sex            0\n",
       "Age            0\n",
       "Parch          0\n",
       "SibSp          0\n",
       "Survived       0\n",
       "dtype: int64"
      ]
     },
     "execution_count": 21,
     "metadata": {},
     "output_type": "execute_result"
    }
   ],
   "source": [
    "df.isnull().sum()"
   ]
  },
  {
   "cell_type": "code",
   "execution_count": 22,
   "id": "7076afe0",
   "metadata": {
    "execution": {
     "iopub.execute_input": "2022-12-29T20:33:20.315623Z",
     "iopub.status.busy": "2022-12-29T20:33:20.315175Z",
     "iopub.status.idle": "2022-12-29T20:33:20.334155Z",
     "shell.execute_reply": "2022-12-29T20:33:20.332669Z"
    },
    "papermill": {
     "duration": 0.042684,
     "end_time": "2022-12-29T20:33:20.336454",
     "exception": false,
     "start_time": "2022-12-29T20:33:20.293770",
     "status": "completed"
    },
    "tags": []
   },
   "outputs": [
    {
     "data": {
      "text/html": [
       "<div>\n",
       "<style scoped>\n",
       "    .dataframe tbody tr th:only-of-type {\n",
       "        vertical-align: middle;\n",
       "    }\n",
       "\n",
       "    .dataframe tbody tr th {\n",
       "        vertical-align: top;\n",
       "    }\n",
       "\n",
       "    .dataframe thead th {\n",
       "        text-align: right;\n",
       "    }\n",
       "</style>\n",
       "<table border=\"1\" class=\"dataframe\">\n",
       "  <thead>\n",
       "    <tr style=\"text-align: right;\">\n",
       "      <th></th>\n",
       "      <th>PassengerId</th>\n",
       "      <th>Pclass</th>\n",
       "      <th>Sex</th>\n",
       "      <th>Age</th>\n",
       "      <th>Parch</th>\n",
       "      <th>SibSp</th>\n",
       "      <th>Survived</th>\n",
       "    </tr>\n",
       "  </thead>\n",
       "  <tbody>\n",
       "    <tr>\n",
       "      <th>0</th>\n",
       "      <td>1</td>\n",
       "      <td>3</td>\n",
       "      <td>0</td>\n",
       "      <td>22.0</td>\n",
       "      <td>0</td>\n",
       "      <td>1</td>\n",
       "      <td>0</td>\n",
       "    </tr>\n",
       "    <tr>\n",
       "      <th>1</th>\n",
       "      <td>2</td>\n",
       "      <td>1</td>\n",
       "      <td>1</td>\n",
       "      <td>38.0</td>\n",
       "      <td>0</td>\n",
       "      <td>1</td>\n",
       "      <td>1</td>\n",
       "    </tr>\n",
       "    <tr>\n",
       "      <th>2</th>\n",
       "      <td>3</td>\n",
       "      <td>3</td>\n",
       "      <td>1</td>\n",
       "      <td>26.0</td>\n",
       "      <td>0</td>\n",
       "      <td>0</td>\n",
       "      <td>1</td>\n",
       "    </tr>\n",
       "    <tr>\n",
       "      <th>3</th>\n",
       "      <td>4</td>\n",
       "      <td>1</td>\n",
       "      <td>1</td>\n",
       "      <td>35.0</td>\n",
       "      <td>0</td>\n",
       "      <td>1</td>\n",
       "      <td>1</td>\n",
       "    </tr>\n",
       "    <tr>\n",
       "      <th>4</th>\n",
       "      <td>5</td>\n",
       "      <td>3</td>\n",
       "      <td>0</td>\n",
       "      <td>35.0</td>\n",
       "      <td>0</td>\n",
       "      <td>0</td>\n",
       "      <td>0</td>\n",
       "    </tr>\n",
       "    <tr>\n",
       "      <th>...</th>\n",
       "      <td>...</td>\n",
       "      <td>...</td>\n",
       "      <td>...</td>\n",
       "      <td>...</td>\n",
       "      <td>...</td>\n",
       "      <td>...</td>\n",
       "      <td>...</td>\n",
       "    </tr>\n",
       "    <tr>\n",
       "      <th>886</th>\n",
       "      <td>887</td>\n",
       "      <td>2</td>\n",
       "      <td>0</td>\n",
       "      <td>27.0</td>\n",
       "      <td>0</td>\n",
       "      <td>0</td>\n",
       "      <td>0</td>\n",
       "    </tr>\n",
       "    <tr>\n",
       "      <th>887</th>\n",
       "      <td>888</td>\n",
       "      <td>1</td>\n",
       "      <td>1</td>\n",
       "      <td>19.0</td>\n",
       "      <td>0</td>\n",
       "      <td>0</td>\n",
       "      <td>1</td>\n",
       "    </tr>\n",
       "    <tr>\n",
       "      <th>888</th>\n",
       "      <td>889</td>\n",
       "      <td>3</td>\n",
       "      <td>1</td>\n",
       "      <td>29.0</td>\n",
       "      <td>2</td>\n",
       "      <td>1</td>\n",
       "      <td>0</td>\n",
       "    </tr>\n",
       "    <tr>\n",
       "      <th>889</th>\n",
       "      <td>890</td>\n",
       "      <td>1</td>\n",
       "      <td>0</td>\n",
       "      <td>26.0</td>\n",
       "      <td>0</td>\n",
       "      <td>0</td>\n",
       "      <td>1</td>\n",
       "    </tr>\n",
       "    <tr>\n",
       "      <th>890</th>\n",
       "      <td>891</td>\n",
       "      <td>3</td>\n",
       "      <td>0</td>\n",
       "      <td>32.0</td>\n",
       "      <td>0</td>\n",
       "      <td>0</td>\n",
       "      <td>0</td>\n",
       "    </tr>\n",
       "  </tbody>\n",
       "</table>\n",
       "<p>891 rows × 7 columns</p>\n",
       "</div>"
      ],
      "text/plain": [
       "     PassengerId  Pclass  Sex   Age  Parch  SibSp  Survived\n",
       "0              1       3    0  22.0      0      1         0\n",
       "1              2       1    1  38.0      0      1         1\n",
       "2              3       3    1  26.0      0      0         1\n",
       "3              4       1    1  35.0      0      1         1\n",
       "4              5       3    0  35.0      0      0         0\n",
       "..           ...     ...  ...   ...    ...    ...       ...\n",
       "886          887       2    0  27.0      0      0         0\n",
       "887          888       1    1  19.0      0      0         1\n",
       "888          889       3    1  29.0      2      1         0\n",
       "889          890       1    0  26.0      0      0         1\n",
       "890          891       3    0  32.0      0      0         0\n",
       "\n",
       "[891 rows x 7 columns]"
      ]
     },
     "execution_count": 22,
     "metadata": {},
     "output_type": "execute_result"
    }
   ],
   "source": [
    "df"
   ]
  },
  {
   "cell_type": "markdown",
   "id": "3230977f",
   "metadata": {
    "papermill": {
     "duration": 0.01865,
     "end_time": "2022-12-29T20:33:20.373510",
     "exception": false,
     "start_time": "2022-12-29T20:33:20.354860",
     "status": "completed"
    },
    "tags": []
   },
   "source": [
    "## Now we're going to obtain a range of age to define better death probability"
   ]
  },
  {
   "cell_type": "markdown",
   "id": "36b51aa4",
   "metadata": {
    "papermill": {
     "duration": 0.018217,
     "end_time": "2022-12-29T20:33:20.410523",
     "exception": false,
     "start_time": "2022-12-29T20:33:20.392306",
     "status": "completed"
    },
    "tags": []
   },
   "source": [
    "We split Age into three different columns as follows: "
   ]
  },
  {
   "cell_type": "code",
   "execution_count": 23,
   "id": "ae11f139",
   "metadata": {
    "execution": {
     "iopub.execute_input": "2022-12-29T20:33:20.448985Z",
     "iopub.status.busy": "2022-12-29T20:33:20.448540Z",
     "iopub.status.idle": "2022-12-29T20:33:20.463354Z",
     "shell.execute_reply": "2022-12-29T20:33:20.461926Z"
    },
    "papermill": {
     "duration": 0.03759,
     "end_time": "2022-12-29T20:33:20.466293",
     "exception": false,
     "start_time": "2022-12-29T20:33:20.428703",
     "status": "completed"
    },
    "tags": []
   },
   "outputs": [],
   "source": [
    "child_list = df['Age'].apply(lambda x: 1 if x < 18 else 0)\n",
    "df.insert(4, \"Child\", child_list, True)\n",
    "\n",
    "adult_list = df['Age'].apply(lambda x: 1 if x >= 18 and x < 50 else 0)\n",
    "df.insert(5, \"Adult\", adult_list, True)\n",
    "\n",
    "elderly_list = df['Age'].apply(lambda x: 1 if x > 50 else 0)\n",
    "df.insert(6, \"Elderly\", elderly_list, True)\n",
    "\n",
    "df = df.drop(columns=['Age'], axis = 1)"
   ]
  },
  {
   "cell_type": "markdown",
   "id": "0aeba9a4",
   "metadata": {
    "papermill": {
     "duration": 0.018179,
     "end_time": "2022-12-29T20:33:20.503016",
     "exception": false,
     "start_time": "2022-12-29T20:33:20.484837",
     "status": "completed"
    },
    "tags": []
   },
   "source": [
    "## Grafici di Giulio: "
   ]
  },
  {
   "cell_type": "code",
   "execution_count": 24,
   "id": "a92d4989",
   "metadata": {
    "execution": {
     "iopub.execute_input": "2022-12-29T20:33:20.542073Z",
     "iopub.status.busy": "2022-12-29T20:33:20.541680Z",
     "iopub.status.idle": "2022-12-29T20:33:20.546152Z",
     "shell.execute_reply": "2022-12-29T20:33:20.544982Z"
    },
    "papermill": {
     "duration": 0.027653,
     "end_time": "2022-12-29T20:33:20.549063",
     "exception": false,
     "start_time": "2022-12-29T20:33:20.521410",
     "status": "completed"
    },
    "tags": []
   },
   "outputs": [],
   "source": [
    "#children = df.groupby('Child').Survived.mean()\n",
    "#adults = df.groupby('Adult').Survived.mean()\n",
    "#elderlies = df.groupby('Elderly').Survived.mean()\n",
    "\n",
    "#.plot(kind='bar', color='darkorange', width = 0.8, title='Children survived', ylabel='deaths', xlabel='Parch')"
   ]
  },
  {
   "cell_type": "code",
   "execution_count": 25,
   "id": "d09ea7b2",
   "metadata": {
    "execution": {
     "iopub.execute_input": "2022-12-29T20:33:20.586957Z",
     "iopub.status.busy": "2022-12-29T20:33:20.586518Z",
     "iopub.status.idle": "2022-12-29T20:33:20.599843Z",
     "shell.execute_reply": "2022-12-29T20:33:20.598818Z"
    },
    "papermill": {
     "duration": 0.035376,
     "end_time": "2022-12-29T20:33:20.602952",
     "exception": false,
     "start_time": "2022-12-29T20:33:20.567576",
     "status": "completed"
    },
    "tags": []
   },
   "outputs": [
    {
     "name": "stdout",
     "output_type": "stream",
     "text": [
      "<class 'pandas.core.frame.DataFrame'>\n",
      "Int64Index: 891 entries, 0 to 890\n",
      "Data columns (total 9 columns):\n",
      " #   Column       Non-Null Count  Dtype\n",
      "---  ------       --------------  -----\n",
      " 0   PassengerId  891 non-null    int64\n",
      " 1   Pclass       891 non-null    int64\n",
      " 2   Sex          891 non-null    int64\n",
      " 3   Child        891 non-null    int64\n",
      " 4   Adult        891 non-null    int64\n",
      " 5   Elderly      891 non-null    int64\n",
      " 6   Parch        891 non-null    int64\n",
      " 7   SibSp        891 non-null    int64\n",
      " 8   Survived     891 non-null    int64\n",
      "dtypes: int64(9)\n",
      "memory usage: 69.6 KB\n"
     ]
    }
   ],
   "source": [
    "clean_training_set = df.copy()\n",
    "clean_training_set.info()"
   ]
  },
  {
   "cell_type": "markdown",
   "id": "c525ffc5",
   "metadata": {
    "papermill": {
     "duration": 0.017042,
     "end_time": "2022-12-29T20:33:20.638559",
     "exception": false,
     "start_time": "2022-12-29T20:33:20.621517",
     "status": "completed"
    },
    "tags": []
   },
   "source": [
    "## Testing set preparation"
   ]
  },
  {
   "cell_type": "code",
   "execution_count": 26,
   "id": "fae21513",
   "metadata": {
    "execution": {
     "iopub.execute_input": "2022-12-29T20:33:20.677259Z",
     "iopub.status.busy": "2022-12-29T20:33:20.676773Z",
     "iopub.status.idle": "2022-12-29T20:33:20.683485Z",
     "shell.execute_reply": "2022-12-29T20:33:20.682561Z"
    },
    "papermill": {
     "duration": 0.029462,
     "end_time": "2022-12-29T20:33:20.685988",
     "exception": false,
     "start_time": "2022-12-29T20:33:20.656526",
     "status": "completed"
    },
    "tags": []
   },
   "outputs": [],
   "source": [
    "clean_testing_set = testing_set[[\"PassengerId\", \"Pclass\", \"Sex\", \"Age\", \"Parch\", \"SibSp\"]]"
   ]
  },
  {
   "cell_type": "code",
   "execution_count": 27,
   "id": "22afa7be",
   "metadata": {
    "execution": {
     "iopub.execute_input": "2022-12-29T20:33:20.724153Z",
     "iopub.status.busy": "2022-12-29T20:33:20.723709Z",
     "iopub.status.idle": "2022-12-29T20:33:20.745835Z",
     "shell.execute_reply": "2022-12-29T20:33:20.744577Z"
    },
    "papermill": {
     "duration": 0.043695,
     "end_time": "2022-12-29T20:33:20.748251",
     "exception": false,
     "start_time": "2022-12-29T20:33:20.704556",
     "status": "completed"
    },
    "tags": []
   },
   "outputs": [
    {
     "data": {
      "text/html": [
       "<div>\n",
       "<style scoped>\n",
       "    .dataframe tbody tr th:only-of-type {\n",
       "        vertical-align: middle;\n",
       "    }\n",
       "\n",
       "    .dataframe tbody tr th {\n",
       "        vertical-align: top;\n",
       "    }\n",
       "\n",
       "    .dataframe thead th {\n",
       "        text-align: right;\n",
       "    }\n",
       "</style>\n",
       "<table border=\"1\" class=\"dataframe\">\n",
       "  <thead>\n",
       "    <tr style=\"text-align: right;\">\n",
       "      <th></th>\n",
       "      <th>PassengerId</th>\n",
       "      <th>Pclass</th>\n",
       "      <th>Sex</th>\n",
       "      <th>Age</th>\n",
       "      <th>Parch</th>\n",
       "      <th>SibSp</th>\n",
       "    </tr>\n",
       "  </thead>\n",
       "  <tbody>\n",
       "    <tr>\n",
       "      <th>0</th>\n",
       "      <td>892</td>\n",
       "      <td>3</td>\n",
       "      <td>0</td>\n",
       "      <td>34.5</td>\n",
       "      <td>0</td>\n",
       "      <td>0</td>\n",
       "    </tr>\n",
       "    <tr>\n",
       "      <th>1</th>\n",
       "      <td>893</td>\n",
       "      <td>3</td>\n",
       "      <td>1</td>\n",
       "      <td>47.0</td>\n",
       "      <td>0</td>\n",
       "      <td>1</td>\n",
       "    </tr>\n",
       "    <tr>\n",
       "      <th>2</th>\n",
       "      <td>894</td>\n",
       "      <td>2</td>\n",
       "      <td>0</td>\n",
       "      <td>62.0</td>\n",
       "      <td>0</td>\n",
       "      <td>0</td>\n",
       "    </tr>\n",
       "    <tr>\n",
       "      <th>3</th>\n",
       "      <td>895</td>\n",
       "      <td>3</td>\n",
       "      <td>0</td>\n",
       "      <td>27.0</td>\n",
       "      <td>0</td>\n",
       "      <td>0</td>\n",
       "    </tr>\n",
       "    <tr>\n",
       "      <th>4</th>\n",
       "      <td>896</td>\n",
       "      <td>3</td>\n",
       "      <td>1</td>\n",
       "      <td>22.0</td>\n",
       "      <td>1</td>\n",
       "      <td>1</td>\n",
       "    </tr>\n",
       "    <tr>\n",
       "      <th>...</th>\n",
       "      <td>...</td>\n",
       "      <td>...</td>\n",
       "      <td>...</td>\n",
       "      <td>...</td>\n",
       "      <td>...</td>\n",
       "      <td>...</td>\n",
       "    </tr>\n",
       "    <tr>\n",
       "      <th>413</th>\n",
       "      <td>1305</td>\n",
       "      <td>3</td>\n",
       "      <td>0</td>\n",
       "      <td>NaN</td>\n",
       "      <td>0</td>\n",
       "      <td>0</td>\n",
       "    </tr>\n",
       "    <tr>\n",
       "      <th>414</th>\n",
       "      <td>1306</td>\n",
       "      <td>1</td>\n",
       "      <td>1</td>\n",
       "      <td>39.0</td>\n",
       "      <td>0</td>\n",
       "      <td>0</td>\n",
       "    </tr>\n",
       "    <tr>\n",
       "      <th>415</th>\n",
       "      <td>1307</td>\n",
       "      <td>3</td>\n",
       "      <td>0</td>\n",
       "      <td>38.5</td>\n",
       "      <td>0</td>\n",
       "      <td>0</td>\n",
       "    </tr>\n",
       "    <tr>\n",
       "      <th>416</th>\n",
       "      <td>1308</td>\n",
       "      <td>3</td>\n",
       "      <td>0</td>\n",
       "      <td>NaN</td>\n",
       "      <td>0</td>\n",
       "      <td>0</td>\n",
       "    </tr>\n",
       "    <tr>\n",
       "      <th>417</th>\n",
       "      <td>1309</td>\n",
       "      <td>3</td>\n",
       "      <td>0</td>\n",
       "      <td>NaN</td>\n",
       "      <td>1</td>\n",
       "      <td>1</td>\n",
       "    </tr>\n",
       "  </tbody>\n",
       "</table>\n",
       "<p>418 rows × 6 columns</p>\n",
       "</div>"
      ],
      "text/plain": [
       "     PassengerId  Pclass  Sex   Age  Parch  SibSp\n",
       "0            892       3    0  34.5      0      0\n",
       "1            893       3    1  47.0      0      1\n",
       "2            894       2    0  62.0      0      0\n",
       "3            895       3    0  27.0      0      0\n",
       "4            896       3    1  22.0      1      1\n",
       "..           ...     ...  ...   ...    ...    ...\n",
       "413         1305       3    0   NaN      0      0\n",
       "414         1306       1    1  39.0      0      0\n",
       "415         1307       3    0  38.5      0      0\n",
       "416         1308       3    0   NaN      0      0\n",
       "417         1309       3    0   NaN      1      1\n",
       "\n",
       "[418 rows x 6 columns]"
      ]
     },
     "execution_count": 27,
     "metadata": {},
     "output_type": "execute_result"
    }
   ],
   "source": [
    "df = clean_testing_set[clean_testing_set['Sex'].notnull()].copy()\n",
    "df['Sex'] = df['Sex'].astype(str).copy()\n",
    "df[\"Sex\"]=df.Sex.map({\"male\":0,\"female\":1})\n",
    "\n",
    "df"
   ]
  },
  {
   "cell_type": "code",
   "execution_count": 28,
   "id": "c36a82a6",
   "metadata": {
    "execution": {
     "iopub.execute_input": "2022-12-29T20:33:20.785484Z",
     "iopub.status.busy": "2022-12-29T20:33:20.785102Z",
     "iopub.status.idle": "2022-12-29T20:33:20.792155Z",
     "shell.execute_reply": "2022-12-29T20:33:20.790638Z"
    },
    "papermill": {
     "duration": 0.028641,
     "end_time": "2022-12-29T20:33:20.794709",
     "exception": false,
     "start_time": "2022-12-29T20:33:20.766068",
     "status": "completed"
    },
    "tags": []
   },
   "outputs": [
    {
     "name": "stdout",
     "output_type": "stream",
     "text": [
      "True\n"
     ]
    }
   ],
   "source": [
    "check_nan = df['Age'].isnull().values.any()\n",
    "print(check_nan)"
   ]
  },
  {
   "cell_type": "code",
   "execution_count": 29,
   "id": "0ba825c3",
   "metadata": {
    "execution": {
     "iopub.execute_input": "2022-12-29T20:33:20.834665Z",
     "iopub.status.busy": "2022-12-29T20:33:20.834295Z",
     "iopub.status.idle": "2022-12-29T20:33:20.841301Z",
     "shell.execute_reply": "2022-12-29T20:33:20.839979Z"
    },
    "papermill": {
     "duration": 0.030452,
     "end_time": "2022-12-29T20:33:20.844330",
     "exception": false,
     "start_time": "2022-12-29T20:33:20.813878",
     "status": "completed"
    },
    "tags": []
   },
   "outputs": [
    {
     "name": "stdout",
     "output_type": "stream",
     "text": [
      "Mean age: 30\n"
     ]
    }
   ],
   "source": [
    "mean_age = int(df['Age'].mean())\n",
    "print(\"Mean age: \" + str(mean_age))"
   ]
  },
  {
   "cell_type": "code",
   "execution_count": 30,
   "id": "b5e805bb",
   "metadata": {
    "execution": {
     "iopub.execute_input": "2022-12-29T20:33:20.883836Z",
     "iopub.status.busy": "2022-12-29T20:33:20.883358Z",
     "iopub.status.idle": "2022-12-29T20:33:20.891272Z",
     "shell.execute_reply": "2022-12-29T20:33:20.889812Z"
    },
    "papermill": {
     "duration": 0.029995,
     "end_time": "2022-12-29T20:33:20.893613",
     "exception": false,
     "start_time": "2022-12-29T20:33:20.863618",
     "status": "completed"
    },
    "tags": []
   },
   "outputs": [],
   "source": [
    "df.loc[ pd.isna(df['Age']), 'Age'] = mean_age"
   ]
  },
  {
   "cell_type": "code",
   "execution_count": 31,
   "id": "591abe3b",
   "metadata": {
    "execution": {
     "iopub.execute_input": "2022-12-29T20:33:20.932348Z",
     "iopub.status.busy": "2022-12-29T20:33:20.931559Z",
     "iopub.status.idle": "2022-12-29T20:33:20.938837Z",
     "shell.execute_reply": "2022-12-29T20:33:20.937167Z"
    },
    "papermill": {
     "duration": 0.029544,
     "end_time": "2022-12-29T20:33:20.941173",
     "exception": false,
     "start_time": "2022-12-29T20:33:20.911629",
     "status": "completed"
    },
    "tags": []
   },
   "outputs": [
    {
     "name": "stdout",
     "output_type": "stream",
     "text": [
      "Now we don't have NaN values anymore: False\n"
     ]
    }
   ],
   "source": [
    "check_nan = df['Age'].isnull().values.any()\n",
    "print(\"Now we don't have NaN values anymore: \" + str(check_nan))"
   ]
  },
  {
   "cell_type": "code",
   "execution_count": 32,
   "id": "98790a49",
   "metadata": {
    "execution": {
     "iopub.execute_input": "2022-12-29T20:33:20.979020Z",
     "iopub.status.busy": "2022-12-29T20:33:20.978220Z",
     "iopub.status.idle": "2022-12-29T20:33:20.988328Z",
     "shell.execute_reply": "2022-12-29T20:33:20.987045Z"
    },
    "papermill": {
     "duration": 0.031926,
     "end_time": "2022-12-29T20:33:20.990864",
     "exception": false,
     "start_time": "2022-12-29T20:33:20.958938",
     "status": "completed"
    },
    "tags": []
   },
   "outputs": [
    {
     "data": {
      "text/plain": [
       "PassengerId    0\n",
       "Pclass         0\n",
       "Sex            0\n",
       "Age            0\n",
       "Parch          0\n",
       "SibSp          0\n",
       "dtype: int64"
      ]
     },
     "execution_count": 32,
     "metadata": {},
     "output_type": "execute_result"
    }
   ],
   "source": [
    "df.isnull().sum()"
   ]
  },
  {
   "cell_type": "code",
   "execution_count": 33,
   "id": "a0db816e",
   "metadata": {
    "execution": {
     "iopub.execute_input": "2022-12-29T20:33:21.029148Z",
     "iopub.status.busy": "2022-12-29T20:33:21.028554Z",
     "iopub.status.idle": "2022-12-29T20:33:21.043744Z",
     "shell.execute_reply": "2022-12-29T20:33:21.042445Z"
    },
    "papermill": {
     "duration": 0.037753,
     "end_time": "2022-12-29T20:33:21.046598",
     "exception": false,
     "start_time": "2022-12-29T20:33:21.008845",
     "status": "completed"
    },
    "tags": []
   },
   "outputs": [],
   "source": [
    "child_list = df['Age'].apply(lambda x: 1 if x < 18 else 0)\n",
    "df.insert(4, \"Child\", child_list, True)\n",
    "\n",
    "adult_list = df['Age'].apply(lambda x: 1 if x >= 18 and x < 50 else 0)\n",
    "df.insert(5, \"Adult\", adult_list, True)\n",
    "\n",
    "elderly_list = df['Age'].apply(lambda x: 1 if x > 50 else 0)\n",
    "df.insert(6, \"Elderly\", elderly_list, True)\n",
    "\n",
    "df = df.drop(columns=['Age'], axis = 1)"
   ]
  },
  {
   "cell_type": "code",
   "execution_count": 34,
   "id": "2192da31",
   "metadata": {
    "execution": {
     "iopub.execute_input": "2022-12-29T20:33:21.085793Z",
     "iopub.status.busy": "2022-12-29T20:33:21.085317Z",
     "iopub.status.idle": "2022-12-29T20:33:21.098672Z",
     "shell.execute_reply": "2022-12-29T20:33:21.097275Z"
    },
    "papermill": {
     "duration": 0.03718,
     "end_time": "2022-12-29T20:33:21.101755",
     "exception": false,
     "start_time": "2022-12-29T20:33:21.064575",
     "status": "completed"
    },
    "tags": []
   },
   "outputs": [
    {
     "name": "stdout",
     "output_type": "stream",
     "text": [
      "<class 'pandas.core.frame.DataFrame'>\n",
      "Int64Index: 418 entries, 0 to 417\n",
      "Data columns (total 8 columns):\n",
      " #   Column       Non-Null Count  Dtype\n",
      "---  ------       --------------  -----\n",
      " 0   PassengerId  418 non-null    int64\n",
      " 1   Pclass       418 non-null    int64\n",
      " 2   Sex          418 non-null    int64\n",
      " 3   Child        418 non-null    int64\n",
      " 4   Adult        418 non-null    int64\n",
      " 5   Elderly      418 non-null    int64\n",
      " 6   Parch        418 non-null    int64\n",
      " 7   SibSp        418 non-null    int64\n",
      "dtypes: int64(8)\n",
      "memory usage: 29.4 KB\n"
     ]
    }
   ],
   "source": [
    "clean_testing_set = df.copy()\n",
    "clean_testing_set.info()"
   ]
  },
  {
   "cell_type": "markdown",
   "id": "c21a4589",
   "metadata": {
    "papermill": {
     "duration": 0.01767,
     "end_time": "2022-12-29T20:33:21.138330",
     "exception": false,
     "start_time": "2022-12-29T20:33:21.120660",
     "status": "completed"
    },
    "tags": []
   },
   "source": [
    "# Support Vector Classification algorithm"
   ]
  },
  {
   "cell_type": "code",
   "execution_count": 35,
   "id": "c55f3893",
   "metadata": {
    "execution": {
     "iopub.execute_input": "2022-12-29T20:33:21.178498Z",
     "iopub.status.busy": "2022-12-29T20:33:21.175875Z",
     "iopub.status.idle": "2022-12-29T20:33:21.274510Z",
     "shell.execute_reply": "2022-12-29T20:33:21.273339Z"
    },
    "papermill": {
     "duration": 0.12123,
     "end_time": "2022-12-29T20:33:21.277628",
     "exception": false,
     "start_time": "2022-12-29T20:33:21.156398",
     "status": "completed"
    },
    "tags": []
   },
   "outputs": [],
   "source": [
    "from sklearn.model_selection import train_test_split\n",
    "\n",
    "# In a standart situation we would use these steps:\n",
    "\"\"\"\n",
    "X_train = clean_training_set[[\"Pclass\", \"Sex\", \"Child\", \"Adult\", \"Elderly\", \"Parch\", \"SibSp\"]]\n",
    "\n",
    "Y_train = clean_training_set['Survived']\n",
    "\n",
    "\"\"\"\n",
    "X_test = clean_testing_set[[\"Pclass\", \"Sex\", \"Child\", \"Adult\", \"Elderly\", \"Parch\", \"SibSp\"]]\n",
    "\n",
    "\n",
    "# But at the moment we want to check if our predictions are accurate or not,\n",
    "# so we split the training set into two pieces so that we obtain a smaller training set\n",
    "# and a testing set that provides a Survived column: \n",
    "# -----------------------------------------------------------------------------------------------\n",
    "X = clean_training_set[[\"Pclass\", \"Sex\", \"Child\", \"Adult\", \"Elderly\", \"Parch\", \"SibSp\"]]\n",
    "Y = clean_training_set['Survived']\n",
    "X_train, x_test, Y_train, y_test = train_test_split(X, Y, test_size=0.2, random_state=0)"
   ]
  },
  {
   "cell_type": "code",
   "execution_count": 36,
   "id": "d15b52ba",
   "metadata": {
    "execution": {
     "iopub.execute_input": "2022-12-29T20:33:21.316850Z",
     "iopub.status.busy": "2022-12-29T20:33:21.316385Z",
     "iopub.status.idle": "2022-12-29T20:33:21.331328Z",
     "shell.execute_reply": "2022-12-29T20:33:21.329719Z"
    },
    "papermill": {
     "duration": 0.037758,
     "end_time": "2022-12-29T20:33:21.334011",
     "exception": false,
     "start_time": "2022-12-29T20:33:21.296253",
     "status": "completed"
    },
    "tags": []
   },
   "outputs": [
    {
     "name": "stdout",
     "output_type": "stream",
     "text": [
      "<class 'pandas.core.frame.DataFrame'>\n",
      "Int64Index: 712 entries, 140 to 684\n",
      "Data columns (total 7 columns):\n",
      " #   Column   Non-Null Count  Dtype\n",
      "---  ------   --------------  -----\n",
      " 0   Pclass   712 non-null    int64\n",
      " 1   Sex      712 non-null    int64\n",
      " 2   Child    712 non-null    int64\n",
      " 3   Adult    712 non-null    int64\n",
      " 4   Elderly  712 non-null    int64\n",
      " 5   Parch    712 non-null    int64\n",
      " 6   SibSp    712 non-null    int64\n",
      "dtypes: int64(7)\n",
      "memory usage: 44.5 KB\n"
     ]
    }
   ],
   "source": [
    "X_train.info()"
   ]
  },
  {
   "cell_type": "code",
   "execution_count": 37,
   "id": "0d55a240",
   "metadata": {
    "execution": {
     "iopub.execute_input": "2022-12-29T20:33:21.373234Z",
     "iopub.status.busy": "2022-12-29T20:33:21.372385Z",
     "iopub.status.idle": "2022-12-29T20:33:21.385871Z",
     "shell.execute_reply": "2022-12-29T20:33:21.384387Z"
    },
    "papermill": {
     "duration": 0.03594,
     "end_time": "2022-12-29T20:33:21.388469",
     "exception": false,
     "start_time": "2022-12-29T20:33:21.352529",
     "status": "completed"
    },
    "tags": []
   },
   "outputs": [
    {
     "data": {
      "text/html": [
       "<div>\n",
       "<style scoped>\n",
       "    .dataframe tbody tr th:only-of-type {\n",
       "        vertical-align: middle;\n",
       "    }\n",
       "\n",
       "    .dataframe tbody tr th {\n",
       "        vertical-align: top;\n",
       "    }\n",
       "\n",
       "    .dataframe thead th {\n",
       "        text-align: right;\n",
       "    }\n",
       "</style>\n",
       "<table border=\"1\" class=\"dataframe\">\n",
       "  <thead>\n",
       "    <tr style=\"text-align: right;\">\n",
       "      <th></th>\n",
       "      <th>Pclass</th>\n",
       "      <th>Sex</th>\n",
       "      <th>Child</th>\n",
       "      <th>Adult</th>\n",
       "      <th>Elderly</th>\n",
       "      <th>Parch</th>\n",
       "      <th>SibSp</th>\n",
       "    </tr>\n",
       "  </thead>\n",
       "  <tbody>\n",
       "    <tr>\n",
       "      <th>140</th>\n",
       "      <td>3</td>\n",
       "      <td>1</td>\n",
       "      <td>0</td>\n",
       "      <td>1</td>\n",
       "      <td>0</td>\n",
       "      <td>2</td>\n",
       "      <td>0</td>\n",
       "    </tr>\n",
       "    <tr>\n",
       "      <th>439</th>\n",
       "      <td>2</td>\n",
       "      <td>0</td>\n",
       "      <td>0</td>\n",
       "      <td>1</td>\n",
       "      <td>0</td>\n",
       "      <td>0</td>\n",
       "      <td>0</td>\n",
       "    </tr>\n",
       "    <tr>\n",
       "      <th>817</th>\n",
       "      <td>2</td>\n",
       "      <td>0</td>\n",
       "      <td>0</td>\n",
       "      <td>1</td>\n",
       "      <td>0</td>\n",
       "      <td>1</td>\n",
       "      <td>1</td>\n",
       "    </tr>\n",
       "    <tr>\n",
       "      <th>378</th>\n",
       "      <td>3</td>\n",
       "      <td>0</td>\n",
       "      <td>0</td>\n",
       "      <td>1</td>\n",
       "      <td>0</td>\n",
       "      <td>0</td>\n",
       "      <td>0</td>\n",
       "    </tr>\n",
       "    <tr>\n",
       "      <th>491</th>\n",
       "      <td>3</td>\n",
       "      <td>0</td>\n",
       "      <td>0</td>\n",
       "      <td>1</td>\n",
       "      <td>0</td>\n",
       "      <td>0</td>\n",
       "      <td>0</td>\n",
       "    </tr>\n",
       "  </tbody>\n",
       "</table>\n",
       "</div>"
      ],
      "text/plain": [
       "     Pclass  Sex  Child  Adult  Elderly  Parch  SibSp\n",
       "140       3    1      0      1        0      2      0\n",
       "439       2    0      0      1        0      0      0\n",
       "817       2    0      0      1        0      1      1\n",
       "378       3    0      0      1        0      0      0\n",
       "491       3    0      0      1        0      0      0"
      ]
     },
     "execution_count": 37,
     "metadata": {},
     "output_type": "execute_result"
    }
   ],
   "source": [
    "X_train.head()"
   ]
  },
  {
   "cell_type": "code",
   "execution_count": 38,
   "id": "3c9f3ce5",
   "metadata": {
    "execution": {
     "iopub.execute_input": "2022-12-29T20:33:21.428957Z",
     "iopub.status.busy": "2022-12-29T20:33:21.428556Z",
     "iopub.status.idle": "2022-12-29T20:33:21.437769Z",
     "shell.execute_reply": "2022-12-29T20:33:21.436471Z"
    },
    "papermill": {
     "duration": 0.032025,
     "end_time": "2022-12-29T20:33:21.440059",
     "exception": false,
     "start_time": "2022-12-29T20:33:21.408034",
     "status": "completed"
    },
    "tags": []
   },
   "outputs": [
    {
     "data": {
      "text/plain": [
       "140    0\n",
       "439    0\n",
       "817    0\n",
       "378    0\n",
       "491    0\n",
       "Name: Survived, dtype: int64"
      ]
     },
     "execution_count": 38,
     "metadata": {},
     "output_type": "execute_result"
    }
   ],
   "source": [
    "Y_train.head()"
   ]
  },
  {
   "cell_type": "markdown",
   "id": "406f125b",
   "metadata": {
    "papermill": {
     "duration": 0.019783,
     "end_time": "2022-12-29T20:33:21.479051",
     "exception": false,
     "start_time": "2022-12-29T20:33:21.459268",
     "status": "completed"
    },
    "tags": []
   },
   "source": [
    "# Multi-layer Perceptron classifier (MLP)"
   ]
  },
  {
   "cell_type": "code",
   "execution_count": 39,
   "id": "69fded50",
   "metadata": {
    "execution": {
     "iopub.execute_input": "2022-12-29T20:33:21.520442Z",
     "iopub.status.busy": "2022-12-29T20:33:21.520020Z",
     "iopub.status.idle": "2022-12-29T20:33:21.526710Z",
     "shell.execute_reply": "2022-12-29T20:33:21.525818Z"
    },
    "papermill": {
     "duration": 0.030796,
     "end_time": "2022-12-29T20:33:21.529637",
     "exception": false,
     "start_time": "2022-12-29T20:33:21.498841",
     "status": "completed"
    },
    "tags": []
   },
   "outputs": [],
   "source": [
    "X = clean_training_set[[\"Pclass\", \"Sex\", \"Child\", \"Adult\", \"Elderly\", \"Parch\", \"SibSp\"]]\n",
    "Y = clean_training_set['Survived']\n",
    "X = X.astype(float)\n",
    "Y = Y.astype(float)"
   ]
  },
  {
   "cell_type": "code",
   "execution_count": 40,
   "id": "711302dc",
   "metadata": {
    "execution": {
     "iopub.execute_input": "2022-12-29T20:33:21.569493Z",
     "iopub.status.busy": "2022-12-29T20:33:21.568403Z",
     "iopub.status.idle": "2022-12-29T20:33:21.875903Z",
     "shell.execute_reply": "2022-12-29T20:33:21.874429Z"
    },
    "papermill": {
     "duration": 0.330384,
     "end_time": "2022-12-29T20:33:21.879145",
     "exception": false,
     "start_time": "2022-12-29T20:33:21.548761",
     "status": "completed"
    },
    "tags": []
   },
   "outputs": [],
   "source": [
    "from sklearn.neural_network import MLPClassifier\n",
    "from sklearn.datasets import make_classification\n",
    "from sklearn.model_selection import train_test_split\n",
    "X, Y = make_classification(n_samples=100, random_state=1)\n",
    "X_train, X_test, y_train, y_test = train_test_split(X, Y, test_size=0.2,random_state=1)\n",
    "\n",
    "clf = MLPClassifier(random_state=1, max_iter=300).fit(X_train, y_train)\n",
    "#clf.predict_proba(X_test[:1])\n",
    "#clf.predict(X_test[:5, :])\n",
    "\n",
    "MLP_score = clf.score(X_test, y_test)\n"
   ]
  },
  {
   "cell_type": "code",
   "execution_count": 41,
   "id": "0929969f",
   "metadata": {
    "execution": {
     "iopub.execute_input": "2022-12-29T20:33:21.919648Z",
     "iopub.status.busy": "2022-12-29T20:33:21.919204Z",
     "iopub.status.idle": "2022-12-29T20:33:21.925688Z",
     "shell.execute_reply": "2022-12-29T20:33:21.924579Z"
    },
    "papermill": {
     "duration": 0.030141,
     "end_time": "2022-12-29T20:33:21.928517",
     "exception": false,
     "start_time": "2022-12-29T20:33:21.898376",
     "status": "completed"
    },
    "tags": []
   },
   "outputs": [
    {
     "name": "stdout",
     "output_type": "stream",
     "text": [
      "So the accuracy of the Multi-layer Perceptron classifier is 90.0\n"
     ]
    }
   ],
   "source": [
    "print('So the accuracy of the Multi-layer Perceptron classifier is',round(MLP_score*100,2))"
   ]
  }
 ],
 "metadata": {
  "kernelspec": {
   "display_name": "Python 3",
   "language": "python",
   "name": "python3"
  },
  "language_info": {
   "codemirror_mode": {
    "name": "ipython",
    "version": 3
   },
   "file_extension": ".py",
   "mimetype": "text/x-python",
   "name": "python",
   "nbconvert_exporter": "python",
   "pygments_lexer": "ipython3",
   "version": "3.7.12"
  },
  "papermill": {
   "default_parameters": {},
   "duration": 16.393335,
   "end_time": "2022-12-29T20:33:22.973538",
   "environment_variables": {},
   "exception": null,
   "input_path": "__notebook__.ipynb",
   "output_path": "__notebook__.ipynb",
   "parameters": {},
   "start_time": "2022-12-29T20:33:06.580203",
   "version": "2.3.4"
  }
 },
 "nbformat": 4,
 "nbformat_minor": 5
}
