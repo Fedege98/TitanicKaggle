{
 "cells": [
  {
   "cell_type": "markdown",
   "id": "4b867fb6",
   "metadata": {
    "_cell_guid": "b1076dfc-b9ad-4769-8c92-a6c4dae69d19",
    "_uuid": "8f2839f25d086af736a60e9eeb907d3b93b6e0e5",
    "papermill": {
     "duration": 0.005297,
     "end_time": "2022-12-21T10:53:57.529422",
     "exception": false,
     "start_time": "2022-12-21T10:53:57.524125",
     "status": "completed"
    },
    "tags": []
   },
   "source": [
    "# Titanic Challenge"
   ]
  },
  {
   "cell_type": "markdown",
   "id": "77d6b4ef",
   "metadata": {
    "papermill": {
     "duration": 0.003702,
     "end_time": "2022-12-21T10:53:57.537284",
     "exception": false,
     "start_time": "2022-12-21T10:53:57.533582",
     "status": "completed"
    },
    "tags": []
   },
   "source": [
    "Useful libraries import"
   ]
  },
  {
   "cell_type": "code",
   "execution_count": 1,
   "id": "9e81b3a6",
   "metadata": {
    "execution": {
     "iopub.execute_input": "2022-12-21T10:53:57.548421Z",
     "iopub.status.busy": "2022-12-21T10:53:57.546702Z",
     "iopub.status.idle": "2022-12-21T10:53:58.745066Z",
     "shell.execute_reply": "2022-12-21T10:53:58.743739Z"
    },
    "papermill": {
     "duration": 1.2072,
     "end_time": "2022-12-21T10:53:58.748347",
     "exception": false,
     "start_time": "2022-12-21T10:53:57.541147",
     "status": "completed"
    },
    "tags": []
   },
   "outputs": [],
   "source": [
    "import pandas as pd\n",
    "import matplotlib as plt\n",
    "import numpy as np\n",
    "import sklearn as sl"
   ]
  },
  {
   "cell_type": "markdown",
   "id": "478fa0c9",
   "metadata": {
    "papermill": {
     "duration": 0.003901,
     "end_time": "2022-12-21T10:53:58.756736",
     "exception": false,
     "start_time": "2022-12-21T10:53:58.752835",
     "status": "completed"
    },
    "tags": []
   },
   "source": [
    "## Importing training set"
   ]
  },
  {
   "cell_type": "code",
   "execution_count": 2,
   "id": "e0f8bdfc",
   "metadata": {
    "execution": {
     "iopub.execute_input": "2022-12-21T10:53:58.767603Z",
     "iopub.status.busy": "2022-12-21T10:53:58.767116Z",
     "iopub.status.idle": "2022-12-21T10:53:58.789819Z",
     "shell.execute_reply": "2022-12-21T10:53:58.788628Z"
    },
    "papermill": {
     "duration": 0.032162,
     "end_time": "2022-12-21T10:53:58.793005",
     "exception": false,
     "start_time": "2022-12-21T10:53:58.760843",
     "status": "completed"
    },
    "tags": []
   },
   "outputs": [],
   "source": [
    "training_set = pd.read_csv('/kaggle/input/titanic/train.csv')"
   ]
  },
  {
   "cell_type": "code",
   "execution_count": 3,
   "id": "e34cba35",
   "metadata": {
    "execution": {
     "iopub.execute_input": "2022-12-21T10:53:58.803837Z",
     "iopub.status.busy": "2022-12-21T10:53:58.803348Z",
     "iopub.status.idle": "2022-12-21T10:53:58.835352Z",
     "shell.execute_reply": "2022-12-21T10:53:58.834202Z"
    },
    "papermill": {
     "duration": 0.040974,
     "end_time": "2022-12-21T10:53:58.838453",
     "exception": false,
     "start_time": "2022-12-21T10:53:58.797479",
     "status": "completed"
    },
    "tags": []
   },
   "outputs": [
    {
     "name": "stdout",
     "output_type": "stream",
     "text": [
      "<class 'pandas.core.frame.DataFrame'>\n",
      "RangeIndex: 891 entries, 0 to 890\n",
      "Data columns (total 12 columns):\n",
      " #   Column       Non-Null Count  Dtype  \n",
      "---  ------       --------------  -----  \n",
      " 0   PassengerId  891 non-null    int64  \n",
      " 1   Survived     891 non-null    int64  \n",
      " 2   Pclass       891 non-null    int64  \n",
      " 3   Name         891 non-null    object \n",
      " 4   Sex          891 non-null    object \n",
      " 5   Age          714 non-null    float64\n",
      " 6   SibSp        891 non-null    int64  \n",
      " 7   Parch        891 non-null    int64  \n",
      " 8   Ticket       891 non-null    object \n",
      " 9   Fare         891 non-null    float64\n",
      " 10  Cabin        204 non-null    object \n",
      " 11  Embarked     889 non-null    object \n",
      "dtypes: float64(2), int64(5), object(5)\n",
      "memory usage: 83.7+ KB\n"
     ]
    }
   ],
   "source": [
    "training_set.info()"
   ]
  },
  {
   "cell_type": "code",
   "execution_count": 4,
   "id": "cd44cac4",
   "metadata": {
    "execution": {
     "iopub.execute_input": "2022-12-21T10:53:58.849641Z",
     "iopub.status.busy": "2022-12-21T10:53:58.849139Z",
     "iopub.status.idle": "2022-12-21T10:53:58.875789Z",
     "shell.execute_reply": "2022-12-21T10:53:58.874514Z"
    },
    "papermill": {
     "duration": 0.035659,
     "end_time": "2022-12-21T10:53:58.878622",
     "exception": false,
     "start_time": "2022-12-21T10:53:58.842963",
     "status": "completed"
    },
    "tags": []
   },
   "outputs": [
    {
     "data": {
      "text/html": [
       "<div>\n",
       "<style scoped>\n",
       "    .dataframe tbody tr th:only-of-type {\n",
       "        vertical-align: middle;\n",
       "    }\n",
       "\n",
       "    .dataframe tbody tr th {\n",
       "        vertical-align: top;\n",
       "    }\n",
       "\n",
       "    .dataframe thead th {\n",
       "        text-align: right;\n",
       "    }\n",
       "</style>\n",
       "<table border=\"1\" class=\"dataframe\">\n",
       "  <thead>\n",
       "    <tr style=\"text-align: right;\">\n",
       "      <th></th>\n",
       "      <th>PassengerId</th>\n",
       "      <th>Survived</th>\n",
       "      <th>Pclass</th>\n",
       "      <th>Name</th>\n",
       "      <th>Sex</th>\n",
       "      <th>Age</th>\n",
       "      <th>SibSp</th>\n",
       "      <th>Parch</th>\n",
       "      <th>Ticket</th>\n",
       "      <th>Fare</th>\n",
       "      <th>Cabin</th>\n",
       "      <th>Embarked</th>\n",
       "    </tr>\n",
       "  </thead>\n",
       "  <tbody>\n",
       "    <tr>\n",
       "      <th>0</th>\n",
       "      <td>1</td>\n",
       "      <td>0</td>\n",
       "      <td>3</td>\n",
       "      <td>Braund, Mr. Owen Harris</td>\n",
       "      <td>male</td>\n",
       "      <td>22.0</td>\n",
       "      <td>1</td>\n",
       "      <td>0</td>\n",
       "      <td>A/5 21171</td>\n",
       "      <td>7.2500</td>\n",
       "      <td>NaN</td>\n",
       "      <td>S</td>\n",
       "    </tr>\n",
       "    <tr>\n",
       "      <th>1</th>\n",
       "      <td>2</td>\n",
       "      <td>1</td>\n",
       "      <td>1</td>\n",
       "      <td>Cumings, Mrs. John Bradley (Florence Briggs Th...</td>\n",
       "      <td>female</td>\n",
       "      <td>38.0</td>\n",
       "      <td>1</td>\n",
       "      <td>0</td>\n",
       "      <td>PC 17599</td>\n",
       "      <td>71.2833</td>\n",
       "      <td>C85</td>\n",
       "      <td>C</td>\n",
       "    </tr>\n",
       "    <tr>\n",
       "      <th>2</th>\n",
       "      <td>3</td>\n",
       "      <td>1</td>\n",
       "      <td>3</td>\n",
       "      <td>Heikkinen, Miss. Laina</td>\n",
       "      <td>female</td>\n",
       "      <td>26.0</td>\n",
       "      <td>0</td>\n",
       "      <td>0</td>\n",
       "      <td>STON/O2. 3101282</td>\n",
       "      <td>7.9250</td>\n",
       "      <td>NaN</td>\n",
       "      <td>S</td>\n",
       "    </tr>\n",
       "    <tr>\n",
       "      <th>3</th>\n",
       "      <td>4</td>\n",
       "      <td>1</td>\n",
       "      <td>1</td>\n",
       "      <td>Futrelle, Mrs. Jacques Heath (Lily May Peel)</td>\n",
       "      <td>female</td>\n",
       "      <td>35.0</td>\n",
       "      <td>1</td>\n",
       "      <td>0</td>\n",
       "      <td>113803</td>\n",
       "      <td>53.1000</td>\n",
       "      <td>C123</td>\n",
       "      <td>S</td>\n",
       "    </tr>\n",
       "    <tr>\n",
       "      <th>4</th>\n",
       "      <td>5</td>\n",
       "      <td>0</td>\n",
       "      <td>3</td>\n",
       "      <td>Allen, Mr. William Henry</td>\n",
       "      <td>male</td>\n",
       "      <td>35.0</td>\n",
       "      <td>0</td>\n",
       "      <td>0</td>\n",
       "      <td>373450</td>\n",
       "      <td>8.0500</td>\n",
       "      <td>NaN</td>\n",
       "      <td>S</td>\n",
       "    </tr>\n",
       "  </tbody>\n",
       "</table>\n",
       "</div>"
      ],
      "text/plain": [
       "   PassengerId  Survived  Pclass  \\\n",
       "0            1         0       3   \n",
       "1            2         1       1   \n",
       "2            3         1       3   \n",
       "3            4         1       1   \n",
       "4            5         0       3   \n",
       "\n",
       "                                                Name     Sex   Age  SibSp  \\\n",
       "0                            Braund, Mr. Owen Harris    male  22.0      1   \n",
       "1  Cumings, Mrs. John Bradley (Florence Briggs Th...  female  38.0      1   \n",
       "2                             Heikkinen, Miss. Laina  female  26.0      0   \n",
       "3       Futrelle, Mrs. Jacques Heath (Lily May Peel)  female  35.0      1   \n",
       "4                           Allen, Mr. William Henry    male  35.0      0   \n",
       "\n",
       "   Parch            Ticket     Fare Cabin Embarked  \n",
       "0      0         A/5 21171   7.2500   NaN        S  \n",
       "1      0          PC 17599  71.2833   C85        C  \n",
       "2      0  STON/O2. 3101282   7.9250   NaN        S  \n",
       "3      0            113803  53.1000  C123        S  \n",
       "4      0            373450   8.0500   NaN        S  "
      ]
     },
     "execution_count": 4,
     "metadata": {},
     "output_type": "execute_result"
    }
   ],
   "source": [
    "training_set.head()"
   ]
  },
  {
   "cell_type": "markdown",
   "id": "5d31331b",
   "metadata": {
    "papermill": {
     "duration": 0.004328,
     "end_time": "2022-12-21T10:53:58.887791",
     "exception": false,
     "start_time": "2022-12-21T10:53:58.883463",
     "status": "completed"
    },
    "tags": []
   },
   "source": [
    "## Importing testing set"
   ]
  },
  {
   "cell_type": "code",
   "execution_count": 5,
   "id": "71cf2164",
   "metadata": {
    "execution": {
     "iopub.execute_input": "2022-12-21T10:53:58.898884Z",
     "iopub.status.busy": "2022-12-21T10:53:58.898389Z",
     "iopub.status.idle": "2022-12-21T10:53:58.912878Z",
     "shell.execute_reply": "2022-12-21T10:53:58.911735Z"
    },
    "papermill": {
     "duration": 0.023249,
     "end_time": "2022-12-21T10:53:58.915580",
     "exception": false,
     "start_time": "2022-12-21T10:53:58.892331",
     "status": "completed"
    },
    "tags": []
   },
   "outputs": [],
   "source": [
    "testing_set = pd.read_csv('/kaggle/input/titanic/test.csv')"
   ]
  },
  {
   "cell_type": "code",
   "execution_count": 6,
   "id": "ea1df81b",
   "metadata": {
    "execution": {
     "iopub.execute_input": "2022-12-21T10:53:58.928094Z",
     "iopub.status.busy": "2022-12-21T10:53:58.926740Z",
     "iopub.status.idle": "2022-12-21T10:53:58.944025Z",
     "shell.execute_reply": "2022-12-21T10:53:58.942628Z"
    },
    "papermill": {
     "duration": 0.026562,
     "end_time": "2022-12-21T10:53:58.947058",
     "exception": false,
     "start_time": "2022-12-21T10:53:58.920496",
     "status": "completed"
    },
    "tags": []
   },
   "outputs": [
    {
     "name": "stdout",
     "output_type": "stream",
     "text": [
      "<class 'pandas.core.frame.DataFrame'>\n",
      "RangeIndex: 418 entries, 0 to 417\n",
      "Data columns (total 11 columns):\n",
      " #   Column       Non-Null Count  Dtype  \n",
      "---  ------       --------------  -----  \n",
      " 0   PassengerId  418 non-null    int64  \n",
      " 1   Pclass       418 non-null    int64  \n",
      " 2   Name         418 non-null    object \n",
      " 3   Sex          418 non-null    object \n",
      " 4   Age          332 non-null    float64\n",
      " 5   SibSp        418 non-null    int64  \n",
      " 6   Parch        418 non-null    int64  \n",
      " 7   Ticket       418 non-null    object \n",
      " 8   Fare         417 non-null    float64\n",
      " 9   Cabin        91 non-null     object \n",
      " 10  Embarked     418 non-null    object \n",
      "dtypes: float64(2), int64(4), object(5)\n",
      "memory usage: 36.0+ KB\n"
     ]
    }
   ],
   "source": [
    "testing_set.info()"
   ]
  },
  {
   "cell_type": "code",
   "execution_count": 7,
   "id": "e655d77b",
   "metadata": {
    "execution": {
     "iopub.execute_input": "2022-12-21T10:53:58.959619Z",
     "iopub.status.busy": "2022-12-21T10:53:58.958759Z",
     "iopub.status.idle": "2022-12-21T10:53:58.977572Z",
     "shell.execute_reply": "2022-12-21T10:53:58.976295Z"
    },
    "papermill": {
     "duration": 0.028134,
     "end_time": "2022-12-21T10:53:58.980252",
     "exception": false,
     "start_time": "2022-12-21T10:53:58.952118",
     "status": "completed"
    },
    "tags": []
   },
   "outputs": [
    {
     "data": {
      "text/html": [
       "<div>\n",
       "<style scoped>\n",
       "    .dataframe tbody tr th:only-of-type {\n",
       "        vertical-align: middle;\n",
       "    }\n",
       "\n",
       "    .dataframe tbody tr th {\n",
       "        vertical-align: top;\n",
       "    }\n",
       "\n",
       "    .dataframe thead th {\n",
       "        text-align: right;\n",
       "    }\n",
       "</style>\n",
       "<table border=\"1\" class=\"dataframe\">\n",
       "  <thead>\n",
       "    <tr style=\"text-align: right;\">\n",
       "      <th></th>\n",
       "      <th>PassengerId</th>\n",
       "      <th>Pclass</th>\n",
       "      <th>Name</th>\n",
       "      <th>Sex</th>\n",
       "      <th>Age</th>\n",
       "      <th>SibSp</th>\n",
       "      <th>Parch</th>\n",
       "      <th>Ticket</th>\n",
       "      <th>Fare</th>\n",
       "      <th>Cabin</th>\n",
       "      <th>Embarked</th>\n",
       "    </tr>\n",
       "  </thead>\n",
       "  <tbody>\n",
       "    <tr>\n",
       "      <th>0</th>\n",
       "      <td>892</td>\n",
       "      <td>3</td>\n",
       "      <td>Kelly, Mr. James</td>\n",
       "      <td>male</td>\n",
       "      <td>34.5</td>\n",
       "      <td>0</td>\n",
       "      <td>0</td>\n",
       "      <td>330911</td>\n",
       "      <td>7.8292</td>\n",
       "      <td>NaN</td>\n",
       "      <td>Q</td>\n",
       "    </tr>\n",
       "    <tr>\n",
       "      <th>1</th>\n",
       "      <td>893</td>\n",
       "      <td>3</td>\n",
       "      <td>Wilkes, Mrs. James (Ellen Needs)</td>\n",
       "      <td>female</td>\n",
       "      <td>47.0</td>\n",
       "      <td>1</td>\n",
       "      <td>0</td>\n",
       "      <td>363272</td>\n",
       "      <td>7.0000</td>\n",
       "      <td>NaN</td>\n",
       "      <td>S</td>\n",
       "    </tr>\n",
       "    <tr>\n",
       "      <th>2</th>\n",
       "      <td>894</td>\n",
       "      <td>2</td>\n",
       "      <td>Myles, Mr. Thomas Francis</td>\n",
       "      <td>male</td>\n",
       "      <td>62.0</td>\n",
       "      <td>0</td>\n",
       "      <td>0</td>\n",
       "      <td>240276</td>\n",
       "      <td>9.6875</td>\n",
       "      <td>NaN</td>\n",
       "      <td>Q</td>\n",
       "    </tr>\n",
       "    <tr>\n",
       "      <th>3</th>\n",
       "      <td>895</td>\n",
       "      <td>3</td>\n",
       "      <td>Wirz, Mr. Albert</td>\n",
       "      <td>male</td>\n",
       "      <td>27.0</td>\n",
       "      <td>0</td>\n",
       "      <td>0</td>\n",
       "      <td>315154</td>\n",
       "      <td>8.6625</td>\n",
       "      <td>NaN</td>\n",
       "      <td>S</td>\n",
       "    </tr>\n",
       "    <tr>\n",
       "      <th>4</th>\n",
       "      <td>896</td>\n",
       "      <td>3</td>\n",
       "      <td>Hirvonen, Mrs. Alexander (Helga E Lindqvist)</td>\n",
       "      <td>female</td>\n",
       "      <td>22.0</td>\n",
       "      <td>1</td>\n",
       "      <td>1</td>\n",
       "      <td>3101298</td>\n",
       "      <td>12.2875</td>\n",
       "      <td>NaN</td>\n",
       "      <td>S</td>\n",
       "    </tr>\n",
       "  </tbody>\n",
       "</table>\n",
       "</div>"
      ],
      "text/plain": [
       "   PassengerId  Pclass                                          Name     Sex  \\\n",
       "0          892       3                              Kelly, Mr. James    male   \n",
       "1          893       3              Wilkes, Mrs. James (Ellen Needs)  female   \n",
       "2          894       2                     Myles, Mr. Thomas Francis    male   \n",
       "3          895       3                              Wirz, Mr. Albert    male   \n",
       "4          896       3  Hirvonen, Mrs. Alexander (Helga E Lindqvist)  female   \n",
       "\n",
       "    Age  SibSp  Parch   Ticket     Fare Cabin Embarked  \n",
       "0  34.5      0      0   330911   7.8292   NaN        Q  \n",
       "1  47.0      1      0   363272   7.0000   NaN        S  \n",
       "2  62.0      0      0   240276   9.6875   NaN        Q  \n",
       "3  27.0      0      0   315154   8.6625   NaN        S  \n",
       "4  22.0      1      1  3101298  12.2875   NaN        S  "
      ]
     },
     "execution_count": 7,
     "metadata": {},
     "output_type": "execute_result"
    }
   ],
   "source": [
    "testing_set.head()"
   ]
  },
  {
   "cell_type": "markdown",
   "id": "cbb7c7a5",
   "metadata": {
    "papermill": {
     "duration": 0.00478,
     "end_time": "2022-12-21T10:53:58.990573",
     "exception": false,
     "start_time": "2022-12-21T10:53:58.985793",
     "status": "completed"
    },
    "tags": []
   },
   "source": [
    "## Data selection"
   ]
  },
  {
   "cell_type": "markdown",
   "id": "092a3cad",
   "metadata": {
    "papermill": {
     "duration": 0.004711,
     "end_time": "2022-12-21T10:53:59.000441",
     "exception": false,
     "start_time": "2022-12-21T10:53:58.995730",
     "status": "completed"
    },
    "tags": []
   },
   "source": [
    "We assume that some of the columns are not useful to reach our goal. \n",
    "The first step is therefore selecting columns based on their (hypothetical) influence on avoiding passengers death. \n",
    "\n",
    "* **PassengerId** (we keep it only to have a reference);\n",
    "* **Pclass** (i.e. the third class was located in bow and stern: it is likely that passengers in these positions died in different proportions);\n",
    "* **Sex** (it may seem a cognitive bias, but if we study the disposition of unmarried people we can see that they were located in different parts of the ship);\n",
    "* **Age** (we can assume old people were most likely to die in an emergency situation: this is a weak hypothesis);\n",
    "* **Parch** (to be parent of a child might have been a reason of having more chances to get on a lifeboat);\n",
    "* **Fare** (ticket price might be strongly correlated with the position of passengers inside Titanic);\n",
    "* **Cabin** (cabin position is likely to be a factor on passengers death). "
   ]
  },
  {
   "cell_type": "code",
   "execution_count": 8,
   "id": "7392590c",
   "metadata": {
    "execution": {
     "iopub.execute_input": "2022-12-21T10:53:59.014652Z",
     "iopub.status.busy": "2022-12-21T10:53:59.013756Z",
     "iopub.status.idle": "2022-12-21T10:53:59.023777Z",
     "shell.execute_reply": "2022-12-21T10:53:59.022311Z"
    },
    "papermill": {
     "duration": 0.019743,
     "end_time": "2022-12-21T10:53:59.026672",
     "exception": false,
     "start_time": "2022-12-21T10:53:59.006929",
     "status": "completed"
    },
    "tags": []
   },
   "outputs": [],
   "source": [
    "clean_training_set = training_set[[\"PassengerId\", \"Pclass\", \"Sex\", \"Age\", \"Parch\", \"Fare\", \"Cabin\"]]"
   ]
  },
  {
   "cell_type": "code",
   "execution_count": null,
   "id": "2f2542b3",
   "metadata": {
    "papermill": {
     "duration": 0.00484,
     "end_time": "2022-12-21T10:53:59.036850",
     "exception": false,
     "start_time": "2022-12-21T10:53:59.032010",
     "status": "completed"
    },
    "tags": []
   },
   "outputs": [],
   "source": []
  },
  {
   "cell_type": "markdown",
   "id": "89a7ba65",
   "metadata": {
    "papermill": {
     "duration": 0.005909,
     "end_time": "2022-12-21T10:53:59.047714",
     "exception": false,
     "start_time": "2022-12-21T10:53:59.041805",
     "status": "completed"
    },
    "tags": []
   },
   "source": []
  }
 ],
 "metadata": {
  "kernelspec": {
   "display_name": "Python 3",
   "language": "python",
   "name": "python3"
  },
  "language_info": {
   "codemirror_mode": {
    "name": "ipython",
    "version": 3
   },
   "file_extension": ".py",
   "mimetype": "text/x-python",
   "name": "python",
   "nbconvert_exporter": "python",
   "pygments_lexer": "ipython3",
   "version": "3.7.12"
  },
  "papermill": {
   "default_parameters": {},
   "duration": 12.016321,
   "end_time": "2022-12-21T10:54:00.082603",
   "environment_variables": {},
   "exception": null,
   "input_path": "__notebook__.ipynb",
   "output_path": "__notebook__.ipynb",
   "parameters": {},
   "start_time": "2022-12-21T10:53:48.066282",
   "version": "2.3.4"
  }
 },
 "nbformat": 4,
 "nbformat_minor": 5
}
