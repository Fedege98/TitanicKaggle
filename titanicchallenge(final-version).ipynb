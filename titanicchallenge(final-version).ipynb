{
 "cells": [
  {
   "cell_type": "markdown",
   "id": "2cfe6a99",
   "metadata": {
    "_cell_guid": "b1076dfc-b9ad-4769-8c92-a6c4dae69d19",
    "_uuid": "8f2839f25d086af736a60e9eeb907d3b93b6e0e5",
    "papermill": {
     "duration": 0.019644,
     "end_time": "2023-01-12T11:01:34.649271",
     "exception": false,
     "start_time": "2023-01-12T11:01:34.629627",
     "status": "completed"
    },
    "tags": []
   },
   "source": [
    "# Titanic Challenge (final version)"
   ]
  },
  {
   "cell_type": "markdown",
   "id": "95ab24bf",
   "metadata": {
    "papermill": {
     "duration": 0.015247,
     "end_time": "2023-01-12T11:01:34.682156",
     "exception": false,
     "start_time": "2023-01-12T11:01:34.666909",
     "status": "completed"
    },
    "tags": []
   },
   "source": [
    "Useful libraries import"
   ]
  },
  {
   "cell_type": "code",
   "execution_count": 1,
   "id": "8dc1960a",
   "metadata": {
    "execution": {
     "iopub.execute_input": "2023-01-12T11:01:34.717280Z",
     "iopub.status.busy": "2023-01-12T11:01:34.716340Z",
     "iopub.status.idle": "2023-01-12T11:01:35.985973Z",
     "shell.execute_reply": "2023-01-12T11:01:35.984959Z"
    },
    "papermill": {
     "duration": 1.290834,
     "end_time": "2023-01-12T11:01:35.989772",
     "exception": false,
     "start_time": "2023-01-12T11:01:34.698938",
     "status": "completed"
    },
    "tags": []
   },
   "outputs": [],
   "source": [
    "import pandas as pd\n",
    "import matplotlib as plt\n",
    "import numpy as np\n",
    "import sklearn as sl\n",
    "import matplotlib.pyplot as plt"
   ]
  },
  {
   "cell_type": "markdown",
   "id": "93fc6d5b",
   "metadata": {
    "papermill": {
     "duration": 0.017676,
     "end_time": "2023-01-12T11:01:36.022463",
     "exception": false,
     "start_time": "2023-01-12T11:01:36.004787",
     "status": "completed"
    },
    "tags": []
   },
   "source": [
    "## Importing training set"
   ]
  },
  {
   "cell_type": "code",
   "execution_count": 2,
   "id": "b9d7072a",
   "metadata": {
    "execution": {
     "iopub.execute_input": "2023-01-12T11:01:36.059899Z",
     "iopub.status.busy": "2023-01-12T11:01:36.059109Z",
     "iopub.status.idle": "2023-01-12T11:01:36.093102Z",
     "shell.execute_reply": "2023-01-12T11:01:36.091940Z"
    },
    "papermill": {
     "duration": 0.056492,
     "end_time": "2023-01-12T11:01:36.097122",
     "exception": false,
     "start_time": "2023-01-12T11:01:36.040630",
     "status": "completed"
    },
    "tags": []
   },
   "outputs": [],
   "source": [
    "training_set = pd.read_csv('/kaggle/input/titanic/train.csv')"
   ]
  },
  {
   "cell_type": "code",
   "execution_count": 3,
   "id": "f45480db",
   "metadata": {
    "execution": {
     "iopub.execute_input": "2023-01-12T11:01:36.133624Z",
     "iopub.status.busy": "2023-01-12T11:01:36.132867Z",
     "iopub.status.idle": "2023-01-12T11:01:36.169433Z",
     "shell.execute_reply": "2023-01-12T11:01:36.167669Z"
    },
    "papermill": {
     "duration": 0.05898,
     "end_time": "2023-01-12T11:01:36.173393",
     "exception": false,
     "start_time": "2023-01-12T11:01:36.114413",
     "status": "completed"
    },
    "tags": []
   },
   "outputs": [
    {
     "name": "stdout",
     "output_type": "stream",
     "text": [
      "<class 'pandas.core.frame.DataFrame'>\n",
      "RangeIndex: 891 entries, 0 to 890\n",
      "Data columns (total 12 columns):\n",
      " #   Column       Non-Null Count  Dtype  \n",
      "---  ------       --------------  -----  \n",
      " 0   PassengerId  891 non-null    int64  \n",
      " 1   Survived     891 non-null    int64  \n",
      " 2   Pclass       891 non-null    int64  \n",
      " 3   Name         891 non-null    object \n",
      " 4   Sex          891 non-null    object \n",
      " 5   Age          714 non-null    float64\n",
      " 6   SibSp        891 non-null    int64  \n",
      " 7   Parch        891 non-null    int64  \n",
      " 8   Ticket       891 non-null    object \n",
      " 9   Fare         891 non-null    float64\n",
      " 10  Cabin        204 non-null    object \n",
      " 11  Embarked     889 non-null    object \n",
      "dtypes: float64(2), int64(5), object(5)\n",
      "memory usage: 83.7+ KB\n"
     ]
    }
   ],
   "source": [
    "training_set.info()"
   ]
  },
  {
   "cell_type": "code",
   "execution_count": 4,
   "id": "e88d9e41",
   "metadata": {
    "execution": {
     "iopub.execute_input": "2023-01-12T11:01:36.209035Z",
     "iopub.status.busy": "2023-01-12T11:01:36.208161Z",
     "iopub.status.idle": "2023-01-12T11:01:36.236956Z",
     "shell.execute_reply": "2023-01-12T11:01:36.235616Z"
    },
    "papermill": {
     "duration": 0.049498,
     "end_time": "2023-01-12T11:01:36.239716",
     "exception": false,
     "start_time": "2023-01-12T11:01:36.190218",
     "status": "completed"
    },
    "tags": []
   },
   "outputs": [
    {
     "data": {
      "text/html": [
       "<div>\n",
       "<style scoped>\n",
       "    .dataframe tbody tr th:only-of-type {\n",
       "        vertical-align: middle;\n",
       "    }\n",
       "\n",
       "    .dataframe tbody tr th {\n",
       "        vertical-align: top;\n",
       "    }\n",
       "\n",
       "    .dataframe thead th {\n",
       "        text-align: right;\n",
       "    }\n",
       "</style>\n",
       "<table border=\"1\" class=\"dataframe\">\n",
       "  <thead>\n",
       "    <tr style=\"text-align: right;\">\n",
       "      <th></th>\n",
       "      <th>PassengerId</th>\n",
       "      <th>Survived</th>\n",
       "      <th>Pclass</th>\n",
       "      <th>Name</th>\n",
       "      <th>Sex</th>\n",
       "      <th>Age</th>\n",
       "      <th>SibSp</th>\n",
       "      <th>Parch</th>\n",
       "      <th>Ticket</th>\n",
       "      <th>Fare</th>\n",
       "      <th>Cabin</th>\n",
       "      <th>Embarked</th>\n",
       "    </tr>\n",
       "  </thead>\n",
       "  <tbody>\n",
       "    <tr>\n",
       "      <th>0</th>\n",
       "      <td>1</td>\n",
       "      <td>0</td>\n",
       "      <td>3</td>\n",
       "      <td>Braund, Mr. Owen Harris</td>\n",
       "      <td>male</td>\n",
       "      <td>22.0</td>\n",
       "      <td>1</td>\n",
       "      <td>0</td>\n",
       "      <td>A/5 21171</td>\n",
       "      <td>7.2500</td>\n",
       "      <td>NaN</td>\n",
       "      <td>S</td>\n",
       "    </tr>\n",
       "    <tr>\n",
       "      <th>1</th>\n",
       "      <td>2</td>\n",
       "      <td>1</td>\n",
       "      <td>1</td>\n",
       "      <td>Cumings, Mrs. John Bradley (Florence Briggs Th...</td>\n",
       "      <td>female</td>\n",
       "      <td>38.0</td>\n",
       "      <td>1</td>\n",
       "      <td>0</td>\n",
       "      <td>PC 17599</td>\n",
       "      <td>71.2833</td>\n",
       "      <td>C85</td>\n",
       "      <td>C</td>\n",
       "    </tr>\n",
       "    <tr>\n",
       "      <th>2</th>\n",
       "      <td>3</td>\n",
       "      <td>1</td>\n",
       "      <td>3</td>\n",
       "      <td>Heikkinen, Miss. Laina</td>\n",
       "      <td>female</td>\n",
       "      <td>26.0</td>\n",
       "      <td>0</td>\n",
       "      <td>0</td>\n",
       "      <td>STON/O2. 3101282</td>\n",
       "      <td>7.9250</td>\n",
       "      <td>NaN</td>\n",
       "      <td>S</td>\n",
       "    </tr>\n",
       "    <tr>\n",
       "      <th>3</th>\n",
       "      <td>4</td>\n",
       "      <td>1</td>\n",
       "      <td>1</td>\n",
       "      <td>Futrelle, Mrs. Jacques Heath (Lily May Peel)</td>\n",
       "      <td>female</td>\n",
       "      <td>35.0</td>\n",
       "      <td>1</td>\n",
       "      <td>0</td>\n",
       "      <td>113803</td>\n",
       "      <td>53.1000</td>\n",
       "      <td>C123</td>\n",
       "      <td>S</td>\n",
       "    </tr>\n",
       "    <tr>\n",
       "      <th>4</th>\n",
       "      <td>5</td>\n",
       "      <td>0</td>\n",
       "      <td>3</td>\n",
       "      <td>Allen, Mr. William Henry</td>\n",
       "      <td>male</td>\n",
       "      <td>35.0</td>\n",
       "      <td>0</td>\n",
       "      <td>0</td>\n",
       "      <td>373450</td>\n",
       "      <td>8.0500</td>\n",
       "      <td>NaN</td>\n",
       "      <td>S</td>\n",
       "    </tr>\n",
       "  </tbody>\n",
       "</table>\n",
       "</div>"
      ],
      "text/plain": [
       "   PassengerId  Survived  Pclass  \\\n",
       "0            1         0       3   \n",
       "1            2         1       1   \n",
       "2            3         1       3   \n",
       "3            4         1       1   \n",
       "4            5         0       3   \n",
       "\n",
       "                                                Name     Sex   Age  SibSp  \\\n",
       "0                            Braund, Mr. Owen Harris    male  22.0      1   \n",
       "1  Cumings, Mrs. John Bradley (Florence Briggs Th...  female  38.0      1   \n",
       "2                             Heikkinen, Miss. Laina  female  26.0      0   \n",
       "3       Futrelle, Mrs. Jacques Heath (Lily May Peel)  female  35.0      1   \n",
       "4                           Allen, Mr. William Henry    male  35.0      0   \n",
       "\n",
       "   Parch            Ticket     Fare Cabin Embarked  \n",
       "0      0         A/5 21171   7.2500   NaN        S  \n",
       "1      0          PC 17599  71.2833   C85        C  \n",
       "2      0  STON/O2. 3101282   7.9250   NaN        S  \n",
       "3      0            113803  53.1000  C123        S  \n",
       "4      0            373450   8.0500   NaN        S  "
      ]
     },
     "execution_count": 4,
     "metadata": {},
     "output_type": "execute_result"
    }
   ],
   "source": [
    "training_set.head()"
   ]
  },
  {
   "cell_type": "markdown",
   "id": "7027e64a",
   "metadata": {
    "papermill": {
     "duration": 0.016379,
     "end_time": "2023-01-12T11:01:36.272605",
     "exception": false,
     "start_time": "2023-01-12T11:01:36.256226",
     "status": "completed"
    },
    "tags": []
   },
   "source": [
    "## Importing testing set"
   ]
  },
  {
   "cell_type": "code",
   "execution_count": 5,
   "id": "bd77f62b",
   "metadata": {
    "execution": {
     "iopub.execute_input": "2023-01-12T11:01:36.304740Z",
     "iopub.status.busy": "2023-01-12T11:01:36.304282Z",
     "iopub.status.idle": "2023-01-12T11:01:36.319101Z",
     "shell.execute_reply": "2023-01-12T11:01:36.317877Z"
    },
    "papermill": {
     "duration": 0.034507,
     "end_time": "2023-01-12T11:01:36.322393",
     "exception": false,
     "start_time": "2023-01-12T11:01:36.287886",
     "status": "completed"
    },
    "tags": []
   },
   "outputs": [],
   "source": [
    "testing_set = pd.read_csv('/kaggle/input/titanic/test.csv')"
   ]
  },
  {
   "cell_type": "code",
   "execution_count": 6,
   "id": "ac8dda3e",
   "metadata": {
    "execution": {
     "iopub.execute_input": "2023-01-12T11:01:36.355506Z",
     "iopub.status.busy": "2023-01-12T11:01:36.355065Z",
     "iopub.status.idle": "2023-01-12T11:01:36.370242Z",
     "shell.execute_reply": "2023-01-12T11:01:36.368209Z"
    },
    "papermill": {
     "duration": 0.034635,
     "end_time": "2023-01-12T11:01:36.373017",
     "exception": false,
     "start_time": "2023-01-12T11:01:36.338382",
     "status": "completed"
    },
    "tags": []
   },
   "outputs": [
    {
     "name": "stdout",
     "output_type": "stream",
     "text": [
      "<class 'pandas.core.frame.DataFrame'>\n",
      "RangeIndex: 418 entries, 0 to 417\n",
      "Data columns (total 11 columns):\n",
      " #   Column       Non-Null Count  Dtype  \n",
      "---  ------       --------------  -----  \n",
      " 0   PassengerId  418 non-null    int64  \n",
      " 1   Pclass       418 non-null    int64  \n",
      " 2   Name         418 non-null    object \n",
      " 3   Sex          418 non-null    object \n",
      " 4   Age          332 non-null    float64\n",
      " 5   SibSp        418 non-null    int64  \n",
      " 6   Parch        418 non-null    int64  \n",
      " 7   Ticket       418 non-null    object \n",
      " 8   Fare         417 non-null    float64\n",
      " 9   Cabin        91 non-null     object \n",
      " 10  Embarked     418 non-null    object \n",
      "dtypes: float64(2), int64(4), object(5)\n",
      "memory usage: 36.0+ KB\n"
     ]
    }
   ],
   "source": [
    "testing_set.info()"
   ]
  },
  {
   "cell_type": "code",
   "execution_count": 7,
   "id": "c251183a",
   "metadata": {
    "execution": {
     "iopub.execute_input": "2023-01-12T11:01:36.408825Z",
     "iopub.status.busy": "2023-01-12T11:01:36.408092Z",
     "iopub.status.idle": "2023-01-12T11:01:36.426486Z",
     "shell.execute_reply": "2023-01-12T11:01:36.424527Z"
    },
    "papermill": {
     "duration": 0.042212,
     "end_time": "2023-01-12T11:01:36.431857",
     "exception": false,
     "start_time": "2023-01-12T11:01:36.389645",
     "status": "completed"
    },
    "tags": []
   },
   "outputs": [
    {
     "data": {
      "text/html": [
       "<div>\n",
       "<style scoped>\n",
       "    .dataframe tbody tr th:only-of-type {\n",
       "        vertical-align: middle;\n",
       "    }\n",
       "\n",
       "    .dataframe tbody tr th {\n",
       "        vertical-align: top;\n",
       "    }\n",
       "\n",
       "    .dataframe thead th {\n",
       "        text-align: right;\n",
       "    }\n",
       "</style>\n",
       "<table border=\"1\" class=\"dataframe\">\n",
       "  <thead>\n",
       "    <tr style=\"text-align: right;\">\n",
       "      <th></th>\n",
       "      <th>PassengerId</th>\n",
       "      <th>Pclass</th>\n",
       "      <th>Name</th>\n",
       "      <th>Sex</th>\n",
       "      <th>Age</th>\n",
       "      <th>SibSp</th>\n",
       "      <th>Parch</th>\n",
       "      <th>Ticket</th>\n",
       "      <th>Fare</th>\n",
       "      <th>Cabin</th>\n",
       "      <th>Embarked</th>\n",
       "    </tr>\n",
       "  </thead>\n",
       "  <tbody>\n",
       "    <tr>\n",
       "      <th>0</th>\n",
       "      <td>892</td>\n",
       "      <td>3</td>\n",
       "      <td>Kelly, Mr. James</td>\n",
       "      <td>male</td>\n",
       "      <td>34.5</td>\n",
       "      <td>0</td>\n",
       "      <td>0</td>\n",
       "      <td>330911</td>\n",
       "      <td>7.8292</td>\n",
       "      <td>NaN</td>\n",
       "      <td>Q</td>\n",
       "    </tr>\n",
       "    <tr>\n",
       "      <th>1</th>\n",
       "      <td>893</td>\n",
       "      <td>3</td>\n",
       "      <td>Wilkes, Mrs. James (Ellen Needs)</td>\n",
       "      <td>female</td>\n",
       "      <td>47.0</td>\n",
       "      <td>1</td>\n",
       "      <td>0</td>\n",
       "      <td>363272</td>\n",
       "      <td>7.0000</td>\n",
       "      <td>NaN</td>\n",
       "      <td>S</td>\n",
       "    </tr>\n",
       "    <tr>\n",
       "      <th>2</th>\n",
       "      <td>894</td>\n",
       "      <td>2</td>\n",
       "      <td>Myles, Mr. Thomas Francis</td>\n",
       "      <td>male</td>\n",
       "      <td>62.0</td>\n",
       "      <td>0</td>\n",
       "      <td>0</td>\n",
       "      <td>240276</td>\n",
       "      <td>9.6875</td>\n",
       "      <td>NaN</td>\n",
       "      <td>Q</td>\n",
       "    </tr>\n",
       "    <tr>\n",
       "      <th>3</th>\n",
       "      <td>895</td>\n",
       "      <td>3</td>\n",
       "      <td>Wirz, Mr. Albert</td>\n",
       "      <td>male</td>\n",
       "      <td>27.0</td>\n",
       "      <td>0</td>\n",
       "      <td>0</td>\n",
       "      <td>315154</td>\n",
       "      <td>8.6625</td>\n",
       "      <td>NaN</td>\n",
       "      <td>S</td>\n",
       "    </tr>\n",
       "    <tr>\n",
       "      <th>4</th>\n",
       "      <td>896</td>\n",
       "      <td>3</td>\n",
       "      <td>Hirvonen, Mrs. Alexander (Helga E Lindqvist)</td>\n",
       "      <td>female</td>\n",
       "      <td>22.0</td>\n",
       "      <td>1</td>\n",
       "      <td>1</td>\n",
       "      <td>3101298</td>\n",
       "      <td>12.2875</td>\n",
       "      <td>NaN</td>\n",
       "      <td>S</td>\n",
       "    </tr>\n",
       "  </tbody>\n",
       "</table>\n",
       "</div>"
      ],
      "text/plain": [
       "   PassengerId  Pclass                                          Name     Sex  \\\n",
       "0          892       3                              Kelly, Mr. James    male   \n",
       "1          893       3              Wilkes, Mrs. James (Ellen Needs)  female   \n",
       "2          894       2                     Myles, Mr. Thomas Francis    male   \n",
       "3          895       3                              Wirz, Mr. Albert    male   \n",
       "4          896       3  Hirvonen, Mrs. Alexander (Helga E Lindqvist)  female   \n",
       "\n",
       "    Age  SibSp  Parch   Ticket     Fare Cabin Embarked  \n",
       "0  34.5      0      0   330911   7.8292   NaN        Q  \n",
       "1  47.0      1      0   363272   7.0000   NaN        S  \n",
       "2  62.0      0      0   240276   9.6875   NaN        Q  \n",
       "3  27.0      0      0   315154   8.6625   NaN        S  \n",
       "4  22.0      1      1  3101298  12.2875   NaN        S  "
      ]
     },
     "execution_count": 7,
     "metadata": {},
     "output_type": "execute_result"
    }
   ],
   "source": [
    "testing_set.head()"
   ]
  },
  {
   "cell_type": "markdown",
   "id": "c26a382d",
   "metadata": {
    "papermill": {
     "duration": 0.016444,
     "end_time": "2023-01-12T11:01:36.466812",
     "exception": false,
     "start_time": "2023-01-12T11:01:36.450368",
     "status": "completed"
    },
    "tags": []
   },
   "source": [
    "## Data selection\n",
    "We assume that some of the columns are not useful to reach our goal. \n",
    "The first step is therefore selecting columns based on their (hypothetical) influence on avoiding passengers death. \n",
    "\n",
    "* **Pclass** (i.e. the third class was located in bow and stern: it is likely that passengers in these positions died in different proportions);\n",
    "* **Sex** (it may seem a cognitive bias, but if we study the disposition of unmarried people we can see that they were located in different parts of the ship);\n",
    "* **Age** (we can assume old people were most likely to die in an emergency situation: this is a weak hypothesis);\n",
    "* **Parch** (to be parent of a child might have been a reason of having more chances to get on a lifeboat);\n",
    "* **SibSp** (to be spoused or not might have had an influence on the survival)\n",
    "* **Embarked** (i.e. being embarked in Southampton instead of Queenstown)\n",
    "* **Survived** (if survived or not). "
   ]
  },
  {
   "cell_type": "code",
   "execution_count": 8,
   "id": "7cf7b01d",
   "metadata": {
    "execution": {
     "iopub.execute_input": "2023-01-12T11:01:36.501298Z",
     "iopub.status.busy": "2023-01-12T11:01:36.500852Z",
     "iopub.status.idle": "2023-01-12T11:01:36.510076Z",
     "shell.execute_reply": "2023-01-12T11:01:36.508235Z"
    },
    "papermill": {
     "duration": 0.03055,
     "end_time": "2023-01-12T11:01:36.513364",
     "exception": false,
     "start_time": "2023-01-12T11:01:36.482814",
     "status": "completed"
    },
    "tags": []
   },
   "outputs": [],
   "source": [
    "clean_training_set = training_set[[\"Pclass\", \"Sex\", \"Age\", \"Parch\", \"SibSp\", \"Embarked\", \"Survived\"]]"
   ]
  },
  {
   "cell_type": "code",
   "execution_count": 9,
   "id": "5ddf5bbb",
   "metadata": {
    "execution": {
     "iopub.execute_input": "2023-01-12T11:01:36.551206Z",
     "iopub.status.busy": "2023-01-12T11:01:36.549395Z",
     "iopub.status.idle": "2023-01-12T11:01:36.569664Z",
     "shell.execute_reply": "2023-01-12T11:01:36.566481Z"
    },
    "papermill": {
     "duration": 0.04233,
     "end_time": "2023-01-12T11:01:36.572620",
     "exception": false,
     "start_time": "2023-01-12T11:01:36.530290",
     "status": "completed"
    },
    "tags": []
   },
   "outputs": [
    {
     "name": "stdout",
     "output_type": "stream",
     "text": [
      "<class 'pandas.core.frame.DataFrame'>\n",
      "RangeIndex: 891 entries, 0 to 890\n",
      "Data columns (total 7 columns):\n",
      " #   Column    Non-Null Count  Dtype  \n",
      "---  ------    --------------  -----  \n",
      " 0   Pclass    891 non-null    int64  \n",
      " 1   Sex       891 non-null    object \n",
      " 2   Age       714 non-null    float64\n",
      " 3   Parch     891 non-null    int64  \n",
      " 4   SibSp     891 non-null    int64  \n",
      " 5   Embarked  889 non-null    object \n",
      " 6   Survived  891 non-null    int64  \n",
      "dtypes: float64(1), int64(4), object(2)\n",
      "memory usage: 48.9+ KB\n"
     ]
    }
   ],
   "source": [
    "clean_training_set.info()"
   ]
  },
  {
   "cell_type": "markdown",
   "id": "e0b22094",
   "metadata": {
    "papermill": {
     "duration": 0.015477,
     "end_time": "2023-01-12T11:01:36.605298",
     "exception": false,
     "start_time": "2023-01-12T11:01:36.589821",
     "status": "completed"
    },
    "tags": []
   },
   "source": [
    "## Generic correlation\n",
    "The following graph shows correlations between columns"
   ]
  },
  {
   "cell_type": "code",
   "execution_count": 10,
   "id": "6a41a90b",
   "metadata": {
    "execution": {
     "iopub.execute_input": "2023-01-12T11:01:36.643441Z",
     "iopub.status.busy": "2023-01-12T11:01:36.642362Z",
     "iopub.status.idle": "2023-01-12T11:01:37.268771Z",
     "shell.execute_reply": "2023-01-12T11:01:37.266453Z"
    },
    "papermill": {
     "duration": 0.651726,
     "end_time": "2023-01-12T11:01:37.273668",
     "exception": false,
     "start_time": "2023-01-12T11:01:36.621942",
     "status": "completed"
    },
    "tags": []
   },
   "outputs": [
    {
     "data": {
      "image/png": "[encoded data removed]",
      "text/plain": [
       "<Figure size 432x288 with 2 Axes>"
      ]
     },
     "metadata": {
      "needs_background": "light"
     },
     "output_type": "display_data"
    }
   ],
   "source": [
    "import seaborn as sns\n",
    "ax = sns.heatmap(clean_training_set.corr(), annot=True)"
   ]
  },
  {
   "cell_type": "markdown",
   "id": "aa28636e",
   "metadata": {
    "papermill": {
     "duration": 0.016994,
     "end_time": "2023-01-12T11:01:37.309438",
     "exception": false,
     "start_time": "2023-01-12T11:01:37.292444",
     "status": "completed"
    },
    "tags": []
   },
   "source": [
    "### Relation between class and death\n",
    "Passengers death seems to be highly correlated to their (travel) class: "
   ]
  },
  {
   "cell_type": "code",
   "execution_count": 11,
   "id": "25890cd6",
   "metadata": {
    "execution": {
     "iopub.execute_input": "2023-01-12T11:01:37.347342Z",
     "iopub.status.busy": "2023-01-12T11:01:37.346866Z",
     "iopub.status.idle": "2023-01-12T11:01:37.558349Z",
     "shell.execute_reply": "2023-01-12T11:01:37.556627Z"
    },
    "papermill": {
     "duration": 0.233742,
     "end_time": "2023-01-12T11:01:37.561168",
     "exception": false,
     "start_time": "2023-01-12T11:01:37.327426",
     "status": "completed"
    },
    "tags": []
   },
   "outputs": [
    {
     "data": {
      "text/plain": [
       "<AxesSubplot:title={'center':'Class and death relation'}, xlabel='travel class', ylabel='deaths (%)'>"
      ]
     },
     "execution_count": 11,
     "metadata": {},
     "output_type": "execute_result"
    },
    {
     "data": {
      "image/png": "[encoded data removed]",
      "text/plain": [
       "<Figure size 432x288 with 1 Axes>"
      ]
     },
     "metadata": {
      "needs_background": "light"
     },
     "output_type": "display_data"
    }
   ],
   "source": [
    "class_scheme = clean_training_set.groupby('Pclass')['Survived'].apply(lambda x: (x==0).mean()*100)\n",
    "class_scheme.plot(kind='bar', color='darkorange', width = 0.5, title='Class and death relation', ylabel='deaths (%)', xlabel='travel class')"
   ]
  },
  {
   "cell_type": "markdown",
   "id": "a04feb82",
   "metadata": {
    "papermill": {
     "duration": 0.017238,
     "end_time": "2023-01-12T11:01:37.595498",
     "exception": false,
     "start_time": "2023-01-12T11:01:37.578260",
     "status": "completed"
    },
    "tags": []
   },
   "source": [
    "## Relation between sex and death\n",
    "As we can see, males death rate is greater than females one. "
   ]
  },
  {
   "cell_type": "code",
   "execution_count": 12,
   "id": "d429fd42",
   "metadata": {
    "execution": {
     "iopub.execute_input": "2023-01-12T11:01:37.633980Z",
     "iopub.status.busy": "2023-01-12T11:01:37.632988Z",
     "iopub.status.idle": "2023-01-12T11:01:37.824488Z",
     "shell.execute_reply": "2023-01-12T11:01:37.823213Z"
    },
    "papermill": {
     "duration": 0.215722,
     "end_time": "2023-01-12T11:01:37.827971",
     "exception": false,
     "start_time": "2023-01-12T11:01:37.612249",
     "status": "completed"
    },
    "tags": []
   },
   "outputs": [
    {
     "data": {
      "text/plain": [
       "<AxesSubplot:title={'center':'Sex and death relation'}, xlabel='sex', ylabel='deaths (%)'>"
      ]
     },
     "execution_count": 12,
     "metadata": {},
     "output_type": "execute_result"
    },
    {
     "data": {
      "image/png": "[encoded data removed]",
      "text/plain": [
       "<Figure size 432x288 with 1 Axes>"
      ]
     },
     "metadata": {
      "needs_background": "light"
     },
     "output_type": "display_data"
    }
   ],
   "source": [
    "sex_scheme = clean_training_set.groupby('Sex')['Survived'].apply(lambda x: (x==0).mean()*100)\n",
    "sex_scheme.plot(kind='bar', color='darkorange', width = 0.4, title='Sex and death relation', ylabel='deaths (%)', xlabel='sex')"
   ]
  },
  {
   "cell_type": "markdown",
   "id": "26e22ee0",
   "metadata": {
    "papermill": {
     "duration": 0.017642,
     "end_time": "2023-01-12T11:01:37.863909",
     "exception": false,
     "start_time": "2023-01-12T11:01:37.846267",
     "status": "completed"
    },
    "tags": []
   },
   "source": [
    "## Relation between age and death\n",
    "Children and elderlies on Titanic died less that middle age people (probably because they had priority on lifeboats): "
   ]
  },
  {
   "cell_type": "code",
   "execution_count": 13,
   "id": "ed7924d9",
   "metadata": {
    "execution": {
     "iopub.execute_input": "2023-01-12T11:01:37.904194Z",
     "iopub.status.busy": "2023-01-12T11:01:37.903794Z",
     "iopub.status.idle": "2023-01-12T11:01:38.118513Z",
     "shell.execute_reply": "2023-01-12T11:01:38.117314Z"
    },
    "papermill": {
     "duration": 0.238407,
     "end_time": "2023-01-12T11:01:38.121850",
     "exception": false,
     "start_time": "2023-01-12T11:01:37.883443",
     "status": "completed"
    },
    "tags": []
   },
   "outputs": [
    {
     "data": {
      "text/plain": [
       "<AxesSubplot:title={'center':'Age and death relation'}, xlabel='age', ylabel='survived (%)'>"
      ]
     },
     "execution_count": 13,
     "metadata": {},
     "output_type": "execute_result"
    },
    {
     "data": {
      "image/png": "[encoded data removed]",
      "text/plain": [
       "<Figure size 432x288 with 1 Axes>"
      ]
     },
     "metadata": {
      "needs_background": "light"
     },
     "output_type": "display_data"
    }
   ],
   "source": [
    "age_scheme = clean_training_set.groupby('Age')['Survived'].mean()*100\n",
    "age_scheme.plot(kind='line', color='darkorange', title='Age and death relation', ylabel='survived (%)', xlabel='age')"
   ]
  },
  {
   "cell_type": "markdown",
   "id": "7bbade4f",
   "metadata": {
    "papermill": {
     "duration": 0.018894,
     "end_time": "2023-01-12T11:01:38.158609",
     "exception": false,
     "start_time": "2023-01-12T11:01:38.139715",
     "status": "completed"
    },
    "tags": []
   },
   "source": [
    "## Relation between SibSp and death\n",
    "Death probability increases with increasing relationship"
   ]
  },
  {
   "cell_type": "code",
   "execution_count": 14,
   "id": "99f16847",
   "metadata": {
    "execution": {
     "iopub.execute_input": "2023-01-12T11:01:38.196723Z",
     "iopub.status.busy": "2023-01-12T11:01:38.195698Z",
     "iopub.status.idle": "2023-01-12T11:01:38.382717Z",
     "shell.execute_reply": "2023-01-12T11:01:38.381785Z"
    },
    "papermill": {
     "duration": 0.209357,
     "end_time": "2023-01-12T11:01:38.385980",
     "exception": false,
     "start_time": "2023-01-12T11:01:38.176623",
     "status": "completed"
    },
    "tags": []
   },
   "outputs": [
    {
     "data": {
      "text/plain": [
       "<AxesSubplot:title={'center':'Sibling/spoused and death relation'}, xlabel='SibSp', ylabel='deaths (%)'>"
      ]
     },
     "execution_count": 14,
     "metadata": {},
     "output_type": "execute_result"
    },
    {
     "data": {
      "image/png": "[encoded data removed]",
      "text/plain": [
       "<Figure size 432x288 with 1 Axes>"
      ]
     },
     "metadata": {
      "needs_background": "light"
     },
     "output_type": "display_data"
    }
   ],
   "source": [
    "sibsp_scheme = clean_training_set.groupby('SibSp')['Survived'].apply(lambda x: (x==0).mean()*100)\n",
    "sibsp_scheme.plot(kind='bar', color='darkorange', width = 0.8, title='Sibling/spoused and death relation', ylabel='deaths (%)', xlabel='SibSp')"
   ]
  },
  {
   "cell_type": "markdown",
   "id": "93dbe580",
   "metadata": {
    "papermill": {
     "duration": 0.021161,
     "end_time": "2023-01-12T11:01:38.427493",
     "exception": false,
     "start_time": "2023-01-12T11:01:38.406332",
     "status": "completed"
    },
    "tags": []
   },
   "source": [
    "## Relation between Parch and death\n",
    "The children number seems to be a factor in death probability"
   ]
  },
  {
   "cell_type": "code",
   "execution_count": 15,
   "id": "7f78f860",
   "metadata": {
    "execution": {
     "iopub.execute_input": "2023-01-12T11:01:38.467902Z",
     "iopub.status.busy": "2023-01-12T11:01:38.467178Z",
     "iopub.status.idle": "2023-01-12T11:01:38.661895Z",
     "shell.execute_reply": "2023-01-12T11:01:38.660649Z"
    },
    "papermill": {
     "duration": 0.21803,
     "end_time": "2023-01-12T11:01:38.664505",
     "exception": false,
     "start_time": "2023-01-12T11:01:38.446475",
     "status": "completed"
    },
    "tags": []
   },
   "outputs": [
    {
     "data": {
      "text/plain": [
       "<AxesSubplot:title={'center':'Parent/child and death relation'}, xlabel='Parch', ylabel='deaths (%)'>"
      ]
     },
     "execution_count": 15,
     "metadata": {},
     "output_type": "execute_result"
    },
    {
     "data": {
      "image/png": "[encoded data removed]",
      "text/plain": [
       "<Figure size 432x288 with 1 Axes>"
      ]
     },
     "metadata": {
      "needs_background": "light"
     },
     "output_type": "display_data"
    }
   ],
   "source": [
    "parch_scheme = clean_training_set.groupby('Parch')['Survived'].apply(lambda x: (x==0).mean()*100)\n",
    "parch_scheme.plot(kind='bar', color='darkorange', width = 0.8, title='Parent/child and death relation', ylabel='deaths (%)', xlabel='Parch')"
   ]
  },
  {
   "cell_type": "markdown",
   "id": "eeed6ca2",
   "metadata": {
    "papermill": {
     "duration": 0.018392,
     "end_time": "2023-01-12T11:01:38.704576",
     "exception": false,
     "start_time": "2023-01-12T11:01:38.686184",
     "status": "completed"
    },
    "tags": []
   },
   "source": [
    "## Relation between port of embarkation and death\n",
    "People embarked in Cherbourg died less than people embarked in Queenstown or Southampton"
   ]
  },
  {
   "cell_type": "code",
   "execution_count": 16,
   "id": "25f14cc6",
   "metadata": {
    "execution": {
     "iopub.execute_input": "2023-01-12T11:01:38.747643Z",
     "iopub.status.busy": "2023-01-12T11:01:38.746796Z",
     "iopub.status.idle": "2023-01-12T11:01:38.917750Z",
     "shell.execute_reply": "2023-01-12T11:01:38.915772Z"
    },
    "papermill": {
     "duration": 0.197192,
     "end_time": "2023-01-12T11:01:38.922019",
     "exception": false,
     "start_time": "2023-01-12T11:01:38.724827",
     "status": "completed"
    },
    "tags": []
   },
   "outputs": [
    {
     "data": {
      "text/plain": [
       "<AxesSubplot:title={'center':'Embarked and death relation'}, xlabel='Embarked', ylabel='deaths (%)'>"
      ]
     },
     "execution_count": 16,
     "metadata": {},
     "output_type": "execute_result"
    },
    {
     "data": {
      "image/png": "[encoded data removed]",
      "text/plain": [
       "<Figure size 432x288 with 1 Axes>"
      ]
     },
     "metadata": {
      "needs_background": "light"
     },
     "output_type": "display_data"
    }
   ],
   "source": [
    "class_scheme = clean_training_set.groupby('Embarked')['Survived'].apply(lambda x: (x==0).mean()*100)\n",
    "class_scheme.plot(kind='bar', color='darkorange', width = 0.5, title='Embarked and death relation', ylabel='deaths (%)', xlabel='Embarked')"
   ]
  },
  {
   "cell_type": "markdown",
   "id": "f22906a7",
   "metadata": {
    "papermill": {
     "duration": 0.02002,
     "end_time": "2023-01-12T11:01:38.964684",
     "exception": false,
     "start_time": "2023-01-12T11:01:38.944664",
     "status": "completed"
    },
    "tags": []
   },
   "source": [
    "# Training set preparation"
   ]
  },
  {
   "cell_type": "markdown",
   "id": "0eb8e6d8",
   "metadata": {
    "papermill": {
     "duration": 0.019239,
     "end_time": "2023-01-12T11:01:39.004571",
     "exception": false,
     "start_time": "2023-01-12T11:01:38.985332",
     "status": "completed"
    },
    "tags": []
   },
   "source": [
    "## Training set traduction (strings to numbers)"
   ]
  },
  {
   "cell_type": "markdown",
   "id": "171244cc",
   "metadata": {
    "papermill": {
     "duration": 0.019971,
     "end_time": "2023-01-12T11:01:39.045724",
     "exception": false,
     "start_time": "2023-01-12T11:01:39.025753",
     "status": "completed"
    },
    "tags": []
   },
   "source": [
    "Here we convert males to value 0 and females to value 1"
   ]
  },
  {
   "cell_type": "code",
   "execution_count": 17,
   "id": "4f08a234",
   "metadata": {
    "execution": {
     "iopub.execute_input": "2023-01-12T11:01:39.085419Z",
     "iopub.status.busy": "2023-01-12T11:01:39.084605Z",
     "iopub.status.idle": "2023-01-12T11:01:39.111162Z",
     "shell.execute_reply": "2023-01-12T11:01:39.109458Z"
    },
    "papermill": {
     "duration": 0.050705,
     "end_time": "2023-01-12T11:01:39.114726",
     "exception": false,
     "start_time": "2023-01-12T11:01:39.064021",
     "status": "completed"
    },
    "tags": []
   },
   "outputs": [
    {
     "data": {
      "text/html": [
       "<div>\n",
       "<style scoped>\n",
       "    .dataframe tbody tr th:only-of-type {\n",
       "        vertical-align: middle;\n",
       "    }\n",
       "\n",
       "    .dataframe tbody tr th {\n",
       "        vertical-align: top;\n",
       "    }\n",
       "\n",
       "    .dataframe thead th {\n",
       "        text-align: right;\n",
       "    }\n",
       "</style>\n",
       "<table border=\"1\" class=\"dataframe\">\n",
       "  <thead>\n",
       "    <tr style=\"text-align: right;\">\n",
       "      <th></th>\n",
       "      <th>Pclass</th>\n",
       "      <th>Sex</th>\n",
       "      <th>Age</th>\n",
       "      <th>Parch</th>\n",
       "      <th>SibSp</th>\n",
       "      <th>Embarked</th>\n",
       "      <th>Survived</th>\n",
       "    </tr>\n",
       "  </thead>\n",
       "  <tbody>\n",
       "    <tr>\n",
       "      <th>0</th>\n",
       "      <td>3</td>\n",
       "      <td>0</td>\n",
       "      <td>22.0</td>\n",
       "      <td>0</td>\n",
       "      <td>1</td>\n",
       "      <td>S</td>\n",
       "      <td>0</td>\n",
       "    </tr>\n",
       "    <tr>\n",
       "      <th>1</th>\n",
       "      <td>1</td>\n",
       "      <td>1</td>\n",
       "      <td>38.0</td>\n",
       "      <td>0</td>\n",
       "      <td>1</td>\n",
       "      <td>C</td>\n",
       "      <td>1</td>\n",
       "    </tr>\n",
       "    <tr>\n",
       "      <th>2</th>\n",
       "      <td>3</td>\n",
       "      <td>1</td>\n",
       "      <td>26.0</td>\n",
       "      <td>0</td>\n",
       "      <td>0</td>\n",
       "      <td>S</td>\n",
       "      <td>1</td>\n",
       "    </tr>\n",
       "    <tr>\n",
       "      <th>3</th>\n",
       "      <td>1</td>\n",
       "      <td>1</td>\n",
       "      <td>35.0</td>\n",
       "      <td>0</td>\n",
       "      <td>1</td>\n",
       "      <td>S</td>\n",
       "      <td>1</td>\n",
       "    </tr>\n",
       "    <tr>\n",
       "      <th>4</th>\n",
       "      <td>3</td>\n",
       "      <td>0</td>\n",
       "      <td>35.0</td>\n",
       "      <td>0</td>\n",
       "      <td>0</td>\n",
       "      <td>S</td>\n",
       "      <td>0</td>\n",
       "    </tr>\n",
       "    <tr>\n",
       "      <th>...</th>\n",
       "      <td>...</td>\n",
       "      <td>...</td>\n",
       "      <td>...</td>\n",
       "      <td>...</td>\n",
       "      <td>...</td>\n",
       "      <td>...</td>\n",
       "      <td>...</td>\n",
       "    </tr>\n",
       "    <tr>\n",
       "      <th>886</th>\n",
       "      <td>2</td>\n",
       "      <td>0</td>\n",
       "      <td>27.0</td>\n",
       "      <td>0</td>\n",
       "      <td>0</td>\n",
       "      <td>S</td>\n",
       "      <td>0</td>\n",
       "    </tr>\n",
       "    <tr>\n",
       "      <th>887</th>\n",
       "      <td>1</td>\n",
       "      <td>1</td>\n",
       "      <td>19.0</td>\n",
       "      <td>0</td>\n",
       "      <td>0</td>\n",
       "      <td>S</td>\n",
       "      <td>1</td>\n",
       "    </tr>\n",
       "    <tr>\n",
       "      <th>888</th>\n",
       "      <td>3</td>\n",
       "      <td>1</td>\n",
       "      <td>NaN</td>\n",
       "      <td>2</td>\n",
       "      <td>1</td>\n",
       "      <td>S</td>\n",
       "      <td>0</td>\n",
       "    </tr>\n",
       "    <tr>\n",
       "      <th>889</th>\n",
       "      <td>1</td>\n",
       "      <td>0</td>\n",
       "      <td>26.0</td>\n",
       "      <td>0</td>\n",
       "      <td>0</td>\n",
       "      <td>C</td>\n",
       "      <td>1</td>\n",
       "    </tr>\n",
       "    <tr>\n",
       "      <th>890</th>\n",
       "      <td>3</td>\n",
       "      <td>0</td>\n",
       "      <td>32.0</td>\n",
       "      <td>0</td>\n",
       "      <td>0</td>\n",
       "      <td>Q</td>\n",
       "      <td>0</td>\n",
       "    </tr>\n",
       "  </tbody>\n",
       "</table>\n",
       "<p>891 rows × 7 columns</p>\n",
       "</div>"
      ],
      "text/plain": [
       "     Pclass  Sex   Age  Parch  SibSp Embarked  Survived\n",
       "0         3    0  22.0      0      1        S         0\n",
       "1         1    1  38.0      0      1        C         1\n",
       "2         3    1  26.0      0      0        S         1\n",
       "3         1    1  35.0      0      1        S         1\n",
       "4         3    0  35.0      0      0        S         0\n",
       "..      ...  ...   ...    ...    ...      ...       ...\n",
       "886       2    0  27.0      0      0        S         0\n",
       "887       1    1  19.0      0      0        S         1\n",
       "888       3    1   NaN      2      1        S         0\n",
       "889       1    0  26.0      0      0        C         1\n",
       "890       3    0  32.0      0      0        Q         0\n",
       "\n",
       "[891 rows x 7 columns]"
      ]
     },
     "execution_count": 17,
     "metadata": {},
     "output_type": "execute_result"
    }
   ],
   "source": [
    "df = clean_training_set[clean_training_set['Sex'].notnull()].copy()\n",
    "df['Sex'] = df['Sex'].astype(str).copy()\n",
    "df[\"Sex\"]=df.Sex.map({\"male\":0,\"female\":1})\n",
    "\n",
    "df"
   ]
  },
  {
   "cell_type": "markdown",
   "id": "9b142091",
   "metadata": {
    "papermill": {
     "duration": 0.020124,
     "end_time": "2023-01-12T11:01:39.154802",
     "exception": false,
     "start_time": "2023-01-12T11:01:39.134678",
     "status": "completed"
    },
    "tags": []
   },
   "source": [
    "As we can see Age column has NaN values that have to be replaced with the medium value of age"
   ]
  },
  {
   "cell_type": "code",
   "execution_count": 18,
   "id": "61980174",
   "metadata": {
    "execution": {
     "iopub.execute_input": "2023-01-12T11:01:39.198580Z",
     "iopub.status.busy": "2023-01-12T11:01:39.196960Z",
     "iopub.status.idle": "2023-01-12T11:01:39.205778Z",
     "shell.execute_reply": "2023-01-12T11:01:39.203419Z"
    },
    "papermill": {
     "duration": 0.033716,
     "end_time": "2023-01-12T11:01:39.208802",
     "exception": false,
     "start_time": "2023-01-12T11:01:39.175086",
     "status": "completed"
    },
    "tags": []
   },
   "outputs": [
    {
     "name": "stdout",
     "output_type": "stream",
     "text": [
      "True\n"
     ]
    }
   ],
   "source": [
    "check_nan = df['Age'].isnull().values.any()\n",
    "print(check_nan)"
   ]
  },
  {
   "cell_type": "code",
   "execution_count": 19,
   "id": "9384f5cc",
   "metadata": {
    "execution": {
     "iopub.execute_input": "2023-01-12T11:01:39.251637Z",
     "iopub.status.busy": "2023-01-12T11:01:39.251142Z",
     "iopub.status.idle": "2023-01-12T11:01:39.259640Z",
     "shell.execute_reply": "2023-01-12T11:01:39.257751Z"
    },
    "papermill": {
     "duration": 0.035311,
     "end_time": "2023-01-12T11:01:39.263792",
     "exception": false,
     "start_time": "2023-01-12T11:01:39.228481",
     "status": "completed"
    },
    "tags": []
   },
   "outputs": [
    {
     "name": "stdout",
     "output_type": "stream",
     "text": [
      "Mean age: 29\n"
     ]
    }
   ],
   "source": [
    "mean_age = int(df['Age'].mean())\n",
    "print(\"Mean age: \" + str(mean_age))"
   ]
  },
  {
   "cell_type": "code",
   "execution_count": 20,
   "id": "93e85f90",
   "metadata": {
    "execution": {
     "iopub.execute_input": "2023-01-12T11:01:39.309673Z",
     "iopub.status.busy": "2023-01-12T11:01:39.309217Z",
     "iopub.status.idle": "2023-01-12T11:01:39.316847Z",
     "shell.execute_reply": "2023-01-12T11:01:39.315193Z"
    },
    "papermill": {
     "duration": 0.034234,
     "end_time": "2023-01-12T11:01:39.319394",
     "exception": false,
     "start_time": "2023-01-12T11:01:39.285160",
     "status": "completed"
    },
    "tags": []
   },
   "outputs": [],
   "source": [
    "df.loc[ pd.isna(df['Age']), 'Age'] = mean_age"
   ]
  },
  {
   "cell_type": "code",
   "execution_count": 21,
   "id": "0021431d",
   "metadata": {
    "execution": {
     "iopub.execute_input": "2023-01-12T11:01:39.365900Z",
     "iopub.status.busy": "2023-01-12T11:01:39.364970Z",
     "iopub.status.idle": "2023-01-12T11:01:39.373338Z",
     "shell.execute_reply": "2023-01-12T11:01:39.371601Z"
    },
    "papermill": {
     "duration": 0.035815,
     "end_time": "2023-01-12T11:01:39.376806",
     "exception": false,
     "start_time": "2023-01-12T11:01:39.340991",
     "status": "completed"
    },
    "tags": []
   },
   "outputs": [
    {
     "name": "stdout",
     "output_type": "stream",
     "text": [
      "Now we don't have NaN values anymore: False\n"
     ]
    }
   ],
   "source": [
    "check_nan = df['Age'].isnull().values.any()\n",
    "print(\"Now we don't have NaN values anymore: \" + str(check_nan))"
   ]
  },
  {
   "cell_type": "code",
   "execution_count": 22,
   "id": "acd2b1a9",
   "metadata": {
    "execution": {
     "iopub.execute_input": "2023-01-12T11:01:39.425511Z",
     "iopub.status.busy": "2023-01-12T11:01:39.425121Z",
     "iopub.status.idle": "2023-01-12T11:01:39.437301Z",
     "shell.execute_reply": "2023-01-12T11:01:39.436075Z"
    },
    "papermill": {
     "duration": 0.039869,
     "end_time": "2023-01-12T11:01:39.440103",
     "exception": false,
     "start_time": "2023-01-12T11:01:39.400234",
     "status": "completed"
    },
    "tags": []
   },
   "outputs": [],
   "source": [
    "# removes NaN values from Embarked\n",
    "df.loc[ pd.isna(df['Embarked']), 'Embarked'] = 'S'\n",
    "# Transforms from numbers to strings\n",
    "df = df[df['Embarked'].notnull()].copy()\n",
    "df['Embarked'] = df['Embarked'].astype(str).copy()\n",
    "df[\"Embarked\"]=df.Embarked.map({\"C\":0,\"Q\":1, \"S\":2})"
   ]
  },
  {
   "cell_type": "code",
   "execution_count": 23,
   "id": "59637a72",
   "metadata": {
    "execution": {
     "iopub.execute_input": "2023-01-12T11:01:39.487362Z",
     "iopub.status.busy": "2023-01-12T11:01:39.486915Z",
     "iopub.status.idle": "2023-01-12T11:01:39.495946Z",
     "shell.execute_reply": "2023-01-12T11:01:39.494937Z"
    },
    "papermill": {
     "duration": 0.036974,
     "end_time": "2023-01-12T11:01:39.499203",
     "exception": false,
     "start_time": "2023-01-12T11:01:39.462229",
     "status": "completed"
    },
    "tags": []
   },
   "outputs": [
    {
     "data": {
      "text/plain": [
       "Pclass      0\n",
       "Sex         0\n",
       "Age         0\n",
       "Parch       0\n",
       "SibSp       0\n",
       "Embarked    0\n",
       "Survived    0\n",
       "dtype: int64"
      ]
     },
     "execution_count": 23,
     "metadata": {},
     "output_type": "execute_result"
    }
   ],
   "source": [
    "df.isnull().sum()"
   ]
  },
  {
   "cell_type": "markdown",
   "id": "1c00a773",
   "metadata": {
    "papermill": {
     "duration": 0.020938,
     "end_time": "2023-01-12T11:01:39.542764",
     "exception": false,
     "start_time": "2023-01-12T11:01:39.521826",
     "status": "completed"
    },
    "tags": []
   },
   "source": [
    "## Now we're going to obtain a range of age to better define death probability"
   ]
  },
  {
   "cell_type": "markdown",
   "id": "ea3dff76",
   "metadata": {
    "papermill": {
     "duration": 0.021791,
     "end_time": "2023-01-12T11:01:39.584824",
     "exception": false,
     "start_time": "2023-01-12T11:01:39.563033",
     "status": "completed"
    },
    "tags": []
   },
   "source": [
    "We split Age into three different columns as follows: "
   ]
  },
  {
   "cell_type": "code",
   "execution_count": 24,
   "id": "03caa9de",
   "metadata": {
    "execution": {
     "iopub.execute_input": "2023-01-12T11:01:39.631973Z",
     "iopub.status.busy": "2023-01-12T11:01:39.631130Z",
     "iopub.status.idle": "2023-01-12T11:01:39.646152Z",
     "shell.execute_reply": "2023-01-12T11:01:39.645140Z"
    },
    "papermill": {
     "duration": 0.042598,
     "end_time": "2023-01-12T11:01:39.649350",
     "exception": false,
     "start_time": "2023-01-12T11:01:39.606752",
     "status": "completed"
    },
    "tags": []
   },
   "outputs": [],
   "source": [
    "child_list = df['Age'].apply(lambda x: 1 if x < 18 else 0)\n",
    "df.insert(4, \"Child\", child_list, True)\n",
    "\n",
    "adult_list = df['Age'].apply(lambda x: 1 if x >= 18 and x < 50 else 0)\n",
    "df.insert(5, \"Adult\", adult_list, True)\n",
    "\n",
    "elderly_list = df['Age'].apply(lambda x: 1 if x >= 50 else 0)\n",
    "df.insert(6, \"Elderly\", elderly_list, True)\n",
    "\n",
    "df = df.drop(columns=['Age'], axis = 1)"
   ]
  },
  {
   "cell_type": "code",
   "execution_count": 25,
   "id": "55f914dc",
   "metadata": {
    "execution": {
     "iopub.execute_input": "2023-01-12T11:01:39.698134Z",
     "iopub.status.busy": "2023-01-12T11:01:39.695603Z",
     "iopub.status.idle": "2023-01-12T11:01:39.713147Z",
     "shell.execute_reply": "2023-01-12T11:01:39.711503Z"
    },
    "papermill": {
     "duration": 0.045255,
     "end_time": "2023-01-12T11:01:39.716749",
     "exception": false,
     "start_time": "2023-01-12T11:01:39.671494",
     "status": "completed"
    },
    "tags": []
   },
   "outputs": [
    {
     "name": "stdout",
     "output_type": "stream",
     "text": [
      "<class 'pandas.core.frame.DataFrame'>\n",
      "Int64Index: 891 entries, 0 to 890\n",
      "Data columns (total 9 columns):\n",
      " #   Column    Non-Null Count  Dtype\n",
      "---  ------    --------------  -----\n",
      " 0   Pclass    891 non-null    int64\n",
      " 1   Sex       891 non-null    int64\n",
      " 2   Parch     891 non-null    int64\n",
      " 3   Child     891 non-null    int64\n",
      " 4   Adult     891 non-null    int64\n",
      " 5   Elderly   891 non-null    int64\n",
      " 6   SibSp     891 non-null    int64\n",
      " 7   Embarked  891 non-null    int64\n",
      " 8   Survived  891 non-null    int64\n",
      "dtypes: int64(9)\n",
      "memory usage: 69.6 KB\n"
     ]
    }
   ],
   "source": [
    "clean_training_set = df.copy()\n",
    "clean_training_set.info()"
   ]
  },
  {
   "cell_type": "markdown",
   "id": "c11a09f1",
   "metadata": {
    "papermill": {
     "duration": 0.023617,
     "end_time": "2023-01-12T11:01:39.763178",
     "exception": false,
     "start_time": "2023-01-12T11:01:39.739561",
     "status": "completed"
    },
    "tags": []
   },
   "source": [
    "# Testing set preparation"
   ]
  },
  {
   "cell_type": "code",
   "execution_count": 26,
   "id": "34991828",
   "metadata": {
    "execution": {
     "iopub.execute_input": "2023-01-12T11:01:39.821032Z",
     "iopub.status.busy": "2023-01-12T11:01:39.819147Z",
     "iopub.status.idle": "2023-01-12T11:01:39.829119Z",
     "shell.execute_reply": "2023-01-12T11:01:39.828094Z"
    },
    "papermill": {
     "duration": 0.041548,
     "end_time": "2023-01-12T11:01:39.832254",
     "exception": false,
     "start_time": "2023-01-12T11:01:39.790706",
     "status": "completed"
    },
    "tags": []
   },
   "outputs": [],
   "source": [
    "clean_testing_set = testing_set[[\"PassengerId\", \"Pclass\", \"Sex\", \"Age\", \"Parch\", \"SibSp\", \"Embarked\"]]"
   ]
  },
  {
   "cell_type": "code",
   "execution_count": 27,
   "id": "3b603c4f",
   "metadata": {
    "execution": {
     "iopub.execute_input": "2023-01-12T11:01:39.881292Z",
     "iopub.status.busy": "2023-01-12T11:01:39.880209Z",
     "iopub.status.idle": "2023-01-12T11:01:39.908994Z",
     "shell.execute_reply": "2023-01-12T11:01:39.906834Z"
    },
    "papermill": {
     "duration": 0.058482,
     "end_time": "2023-01-12T11:01:39.912090",
     "exception": false,
     "start_time": "2023-01-12T11:01:39.853608",
     "status": "completed"
    },
    "tags": []
   },
   "outputs": [
    {
     "data": {
      "text/html": [
       "<div>\n",
       "<style scoped>\n",
       "    .dataframe tbody tr th:only-of-type {\n",
       "        vertical-align: middle;\n",
       "    }\n",
       "\n",
       "    .dataframe tbody tr th {\n",
       "        vertical-align: top;\n",
       "    }\n",
       "\n",
       "    .dataframe thead th {\n",
       "        text-align: right;\n",
       "    }\n",
       "</style>\n",
       "<table border=\"1\" class=\"dataframe\">\n",
       "  <thead>\n",
       "    <tr style=\"text-align: right;\">\n",
       "      <th></th>\n",
       "      <th>PassengerId</th>\n",
       "      <th>Pclass</th>\n",
       "      <th>Sex</th>\n",
       "      <th>Age</th>\n",
       "      <th>Parch</th>\n",
       "      <th>SibSp</th>\n",
       "      <th>Embarked</th>\n",
       "    </tr>\n",
       "  </thead>\n",
       "  <tbody>\n",
       "    <tr>\n",
       "      <th>0</th>\n",
       "      <td>892</td>\n",
       "      <td>3</td>\n",
       "      <td>0</td>\n",
       "      <td>34.5</td>\n",
       "      <td>0</td>\n",
       "      <td>0</td>\n",
       "      <td>Q</td>\n",
       "    </tr>\n",
       "    <tr>\n",
       "      <th>1</th>\n",
       "      <td>893</td>\n",
       "      <td>3</td>\n",
       "      <td>1</td>\n",
       "      <td>47.0</td>\n",
       "      <td>0</td>\n",
       "      <td>1</td>\n",
       "      <td>S</td>\n",
       "    </tr>\n",
       "    <tr>\n",
       "      <th>2</th>\n",
       "      <td>894</td>\n",
       "      <td>2</td>\n",
       "      <td>0</td>\n",
       "      <td>62.0</td>\n",
       "      <td>0</td>\n",
       "      <td>0</td>\n",
       "      <td>Q</td>\n",
       "    </tr>\n",
       "    <tr>\n",
       "      <th>3</th>\n",
       "      <td>895</td>\n",
       "      <td>3</td>\n",
       "      <td>0</td>\n",
       "      <td>27.0</td>\n",
       "      <td>0</td>\n",
       "      <td>0</td>\n",
       "      <td>S</td>\n",
       "    </tr>\n",
       "    <tr>\n",
       "      <th>4</th>\n",
       "      <td>896</td>\n",
       "      <td>3</td>\n",
       "      <td>1</td>\n",
       "      <td>22.0</td>\n",
       "      <td>1</td>\n",
       "      <td>1</td>\n",
       "      <td>S</td>\n",
       "    </tr>\n",
       "    <tr>\n",
       "      <th>...</th>\n",
       "      <td>...</td>\n",
       "      <td>...</td>\n",
       "      <td>...</td>\n",
       "      <td>...</td>\n",
       "      <td>...</td>\n",
       "      <td>...</td>\n",
       "      <td>...</td>\n",
       "    </tr>\n",
       "    <tr>\n",
       "      <th>413</th>\n",
       "      <td>1305</td>\n",
       "      <td>3</td>\n",
       "      <td>0</td>\n",
       "      <td>NaN</td>\n",
       "      <td>0</td>\n",
       "      <td>0</td>\n",
       "      <td>S</td>\n",
       "    </tr>\n",
       "    <tr>\n",
       "      <th>414</th>\n",
       "      <td>1306</td>\n",
       "      <td>1</td>\n",
       "      <td>1</td>\n",
       "      <td>39.0</td>\n",
       "      <td>0</td>\n",
       "      <td>0</td>\n",
       "      <td>C</td>\n",
       "    </tr>\n",
       "    <tr>\n",
       "      <th>415</th>\n",
       "      <td>1307</td>\n",
       "      <td>3</td>\n",
       "      <td>0</td>\n",
       "      <td>38.5</td>\n",
       "      <td>0</td>\n",
       "      <td>0</td>\n",
       "      <td>S</td>\n",
       "    </tr>\n",
       "    <tr>\n",
       "      <th>416</th>\n",
       "      <td>1308</td>\n",
       "      <td>3</td>\n",
       "      <td>0</td>\n",
       "      <td>NaN</td>\n",
       "      <td>0</td>\n",
       "      <td>0</td>\n",
       "      <td>S</td>\n",
       "    </tr>\n",
       "    <tr>\n",
       "      <th>417</th>\n",
       "      <td>1309</td>\n",
       "      <td>3</td>\n",
       "      <td>0</td>\n",
       "      <td>NaN</td>\n",
       "      <td>1</td>\n",
       "      <td>1</td>\n",
       "      <td>C</td>\n",
       "    </tr>\n",
       "  </tbody>\n",
       "</table>\n",
       "<p>418 rows × 7 columns</p>\n",
       "</div>"
      ],
      "text/plain": [
       "     PassengerId  Pclass  Sex   Age  Parch  SibSp Embarked\n",
       "0            892       3    0  34.5      0      0        Q\n",
       "1            893       3    1  47.0      0      1        S\n",
       "2            894       2    0  62.0      0      0        Q\n",
       "3            895       3    0  27.0      0      0        S\n",
       "4            896       3    1  22.0      1      1        S\n",
       "..           ...     ...  ...   ...    ...    ...      ...\n",
       "413         1305       3    0   NaN      0      0        S\n",
       "414         1306       1    1  39.0      0      0        C\n",
       "415         1307       3    0  38.5      0      0        S\n",
       "416         1308       3    0   NaN      0      0        S\n",
       "417         1309       3    0   NaN      1      1        C\n",
       "\n",
       "[418 rows x 7 columns]"
      ]
     },
     "execution_count": 27,
     "metadata": {},
     "output_type": "execute_result"
    }
   ],
   "source": [
    "df = clean_testing_set[clean_testing_set['Sex'].notnull()].copy()\n",
    "df['Sex'] = df['Sex'].astype(str).copy()\n",
    "df[\"Sex\"]=df.Sex.map({\"male\":0,\"female\":1})\n",
    "\n",
    "df"
   ]
  },
  {
   "cell_type": "code",
   "execution_count": 28,
   "id": "d01ded89",
   "metadata": {
    "execution": {
     "iopub.execute_input": "2023-01-12T11:01:39.959562Z",
     "iopub.status.busy": "2023-01-12T11:01:39.958434Z",
     "iopub.status.idle": "2023-01-12T11:01:39.972167Z",
     "shell.execute_reply": "2023-01-12T11:01:39.967150Z"
    },
    "papermill": {
     "duration": 0.042548,
     "end_time": "2023-01-12T11:01:39.977161",
     "exception": false,
     "start_time": "2023-01-12T11:01:39.934613",
     "status": "completed"
    },
    "tags": []
   },
   "outputs": [
    {
     "name": "stdout",
     "output_type": "stream",
     "text": [
      "True\n"
     ]
    }
   ],
   "source": [
    "check_nan = df['Age'].isnull().values.any()\n",
    "print(check_nan)"
   ]
  },
  {
   "cell_type": "code",
   "execution_count": 29,
   "id": "0bb3606e",
   "metadata": {
    "execution": {
     "iopub.execute_input": "2023-01-12T11:01:40.027397Z",
     "iopub.status.busy": "2023-01-12T11:01:40.026357Z",
     "iopub.status.idle": "2023-01-12T11:01:40.035001Z",
     "shell.execute_reply": "2023-01-12T11:01:40.033053Z"
    },
    "papermill": {
     "duration": 0.039994,
     "end_time": "2023-01-12T11:01:40.039293",
     "exception": false,
     "start_time": "2023-01-12T11:01:39.999299",
     "status": "completed"
    },
    "tags": []
   },
   "outputs": [
    {
     "name": "stdout",
     "output_type": "stream",
     "text": [
      "Mean age: 30\n"
     ]
    }
   ],
   "source": [
    "mean_age = int(df['Age'].mean())\n",
    "print(\"Mean age: \" + str(mean_age))"
   ]
  },
  {
   "cell_type": "code",
   "execution_count": 30,
   "id": "e0aab834",
   "metadata": {
    "execution": {
     "iopub.execute_input": "2023-01-12T11:01:40.091246Z",
     "iopub.status.busy": "2023-01-12T11:01:40.090033Z",
     "iopub.status.idle": "2023-01-12T11:01:40.099973Z",
     "shell.execute_reply": "2023-01-12T11:01:40.098710Z"
    },
    "papermill": {
     "duration": 0.039873,
     "end_time": "2023-01-12T11:01:40.102949",
     "exception": false,
     "start_time": "2023-01-12T11:01:40.063076",
     "status": "completed"
    },
    "tags": []
   },
   "outputs": [],
   "source": [
    "df.loc[ pd.isna(df['Age']), 'Age'] = mean_age"
   ]
  },
  {
   "cell_type": "code",
   "execution_count": 31,
   "id": "3308677c",
   "metadata": {
    "execution": {
     "iopub.execute_input": "2023-01-12T11:01:40.153774Z",
     "iopub.status.busy": "2023-01-12T11:01:40.153314Z",
     "iopub.status.idle": "2023-01-12T11:01:40.162057Z",
     "shell.execute_reply": "2023-01-12T11:01:40.159876Z"
    },
    "papermill": {
     "duration": 0.034819,
     "end_time": "2023-01-12T11:01:40.165189",
     "exception": false,
     "start_time": "2023-01-12T11:01:40.130370",
     "status": "completed"
    },
    "tags": []
   },
   "outputs": [
    {
     "name": "stdout",
     "output_type": "stream",
     "text": [
      "Now we don't have NaN values anymore: False\n"
     ]
    }
   ],
   "source": [
    "check_nan = df['Age'].isnull().values.any()\n",
    "print(\"Now we don't have NaN values anymore: \" + str(check_nan))"
   ]
  },
  {
   "cell_type": "code",
   "execution_count": 32,
   "id": "959d0fda",
   "metadata": {
    "execution": {
     "iopub.execute_input": "2023-01-12T11:01:40.216911Z",
     "iopub.status.busy": "2023-01-12T11:01:40.216463Z",
     "iopub.status.idle": "2023-01-12T11:01:40.228477Z",
     "shell.execute_reply": "2023-01-12T11:01:40.227293Z"
    },
    "papermill": {
     "duration": 0.042296,
     "end_time": "2023-01-12T11:01:40.232496",
     "exception": false,
     "start_time": "2023-01-12T11:01:40.190200",
     "status": "completed"
    },
    "tags": []
   },
   "outputs": [],
   "source": [
    "# removes NaN values from Embarked\n",
    "df.loc[ pd.isna(df['Embarked']), 'Embarked'] = 'S'\n",
    "# Transforms from numbers to strings\n",
    "df = df[df['Embarked'].notnull()].copy()\n",
    "df['Embarked'] = df['Embarked'].astype(str).copy()\n",
    "df[\"Embarked\"]=df.Embarked.map({\"C\":0,\"Q\":1, \"S\":2})"
   ]
  },
  {
   "cell_type": "code",
   "execution_count": 33,
   "id": "5bdf05fc",
   "metadata": {
    "execution": {
     "iopub.execute_input": "2023-01-12T11:01:40.285377Z",
     "iopub.status.busy": "2023-01-12T11:01:40.283783Z",
     "iopub.status.idle": "2023-01-12T11:01:40.297255Z",
     "shell.execute_reply": "2023-01-12T11:01:40.295129Z"
    },
    "papermill": {
     "duration": 0.042945,
     "end_time": "2023-01-12T11:01:40.300684",
     "exception": false,
     "start_time": "2023-01-12T11:01:40.257739",
     "status": "completed"
    },
    "tags": []
   },
   "outputs": [
    {
     "data": {
      "text/plain": [
       "PassengerId    0\n",
       "Pclass         0\n",
       "Sex            0\n",
       "Age            0\n",
       "Parch          0\n",
       "SibSp          0\n",
       "Embarked       0\n",
       "dtype: int64"
      ]
     },
     "execution_count": 33,
     "metadata": {},
     "output_type": "execute_result"
    }
   ],
   "source": [
    "df.isnull().sum()"
   ]
  },
  {
   "cell_type": "code",
   "execution_count": 34,
   "id": "04f98b64",
   "metadata": {
    "execution": {
     "iopub.execute_input": "2023-01-12T11:01:40.349730Z",
     "iopub.status.busy": "2023-01-12T11:01:40.349266Z",
     "iopub.status.idle": "2023-01-12T11:01:40.362711Z",
     "shell.execute_reply": "2023-01-12T11:01:40.361414Z"
    },
    "papermill": {
     "duration": 0.041483,
     "end_time": "2023-01-12T11:01:40.366438",
     "exception": false,
     "start_time": "2023-01-12T11:01:40.324955",
     "status": "completed"
    },
    "tags": []
   },
   "outputs": [],
   "source": [
    "child_list = df['Age'].apply(lambda x: 1 if x < 18 else 0)\n",
    "df.insert(4, \"Child\", child_list, True)\n",
    "\n",
    "adult_list = df['Age'].apply(lambda x: 1 if x >= 18 and x < 50 else 0)\n",
    "df.insert(5, \"Adult\", adult_list, True)\n",
    "\n",
    "elderly_list = df['Age'].apply(lambda x: 1 if x > 50 else 0)\n",
    "df.insert(6, \"Elderly\", elderly_list, True)\n",
    "\n",
    "df = df.drop(columns=['Age'], axis = 1)"
   ]
  },
  {
   "cell_type": "code",
   "execution_count": 35,
   "id": "2ed7ff25",
   "metadata": {
    "execution": {
     "iopub.execute_input": "2023-01-12T11:01:40.417557Z",
     "iopub.status.busy": "2023-01-12T11:01:40.415903Z",
     "iopub.status.idle": "2023-01-12T11:01:40.432904Z",
     "shell.execute_reply": "2023-01-12T11:01:40.430605Z"
    },
    "papermill": {
     "duration": 0.045734,
     "end_time": "2023-01-12T11:01:40.437921",
     "exception": false,
     "start_time": "2023-01-12T11:01:40.392187",
     "status": "completed"
    },
    "tags": []
   },
   "outputs": [
    {
     "name": "stdout",
     "output_type": "stream",
     "text": [
      "<class 'pandas.core.frame.DataFrame'>\n",
      "Int64Index: 418 entries, 0 to 417\n",
      "Data columns (total 9 columns):\n",
      " #   Column       Non-Null Count  Dtype\n",
      "---  ------       --------------  -----\n",
      " 0   PassengerId  418 non-null    int64\n",
      " 1   Pclass       418 non-null    int64\n",
      " 2   Sex          418 non-null    int64\n",
      " 3   Child        418 non-null    int64\n",
      " 4   Adult        418 non-null    int64\n",
      " 5   Elderly      418 non-null    int64\n",
      " 6   Parch        418 non-null    int64\n",
      " 7   SibSp        418 non-null    int64\n",
      " 8   Embarked     418 non-null    int64\n",
      "dtypes: int64(9)\n",
      "memory usage: 32.7 KB\n"
     ]
    }
   ],
   "source": [
    "clean_testing_set = df.copy()\n",
    "clean_testing_set.info()"
   ]
  },
  {
   "cell_type": "code",
   "execution_count": 36,
   "id": "4c13215a",
   "metadata": {
    "execution": {
     "iopub.execute_input": "2023-01-12T11:01:40.488403Z",
     "iopub.status.busy": "2023-01-12T11:01:40.486200Z",
     "iopub.status.idle": "2023-01-12T11:01:40.504667Z",
     "shell.execute_reply": "2023-01-12T11:01:40.502676Z"
    },
    "papermill": {
     "duration": 0.047757,
     "end_time": "2023-01-12T11:01:40.508054",
     "exception": false,
     "start_time": "2023-01-12T11:01:40.460297",
     "status": "completed"
    },
    "tags": []
   },
   "outputs": [
    {
     "data": {
      "text/html": [
       "<div>\n",
       "<style scoped>\n",
       "    .dataframe tbody tr th:only-of-type {\n",
       "        vertical-align: middle;\n",
       "    }\n",
       "\n",
       "    .dataframe tbody tr th {\n",
       "        vertical-align: top;\n",
       "    }\n",
       "\n",
       "    .dataframe thead th {\n",
       "        text-align: right;\n",
       "    }\n",
       "</style>\n",
       "<table border=\"1\" class=\"dataframe\">\n",
       "  <thead>\n",
       "    <tr style=\"text-align: right;\">\n",
       "      <th></th>\n",
       "      <th>PassengerId</th>\n",
       "      <th>Pclass</th>\n",
       "      <th>Sex</th>\n",
       "      <th>Child</th>\n",
       "      <th>Adult</th>\n",
       "      <th>Elderly</th>\n",
       "      <th>Parch</th>\n",
       "      <th>SibSp</th>\n",
       "      <th>Embarked</th>\n",
       "    </tr>\n",
       "  </thead>\n",
       "  <tbody>\n",
       "    <tr>\n",
       "      <th>0</th>\n",
       "      <td>892</td>\n",
       "      <td>3</td>\n",
       "      <td>0</td>\n",
       "      <td>0</td>\n",
       "      <td>1</td>\n",
       "      <td>0</td>\n",
       "      <td>0</td>\n",
       "      <td>0</td>\n",
       "      <td>1</td>\n",
       "    </tr>\n",
       "    <tr>\n",
       "      <th>1</th>\n",
       "      <td>893</td>\n",
       "      <td>3</td>\n",
       "      <td>1</td>\n",
       "      <td>0</td>\n",
       "      <td>1</td>\n",
       "      <td>0</td>\n",
       "      <td>0</td>\n",
       "      <td>1</td>\n",
       "      <td>2</td>\n",
       "    </tr>\n",
       "    <tr>\n",
       "      <th>2</th>\n",
       "      <td>894</td>\n",
       "      <td>2</td>\n",
       "      <td>0</td>\n",
       "      <td>0</td>\n",
       "      <td>0</td>\n",
       "      <td>1</td>\n",
       "      <td>0</td>\n",
       "      <td>0</td>\n",
       "      <td>1</td>\n",
       "    </tr>\n",
       "    <tr>\n",
       "      <th>3</th>\n",
       "      <td>895</td>\n",
       "      <td>3</td>\n",
       "      <td>0</td>\n",
       "      <td>0</td>\n",
       "      <td>1</td>\n",
       "      <td>0</td>\n",
       "      <td>0</td>\n",
       "      <td>0</td>\n",
       "      <td>2</td>\n",
       "    </tr>\n",
       "    <tr>\n",
       "      <th>4</th>\n",
       "      <td>896</td>\n",
       "      <td>3</td>\n",
       "      <td>1</td>\n",
       "      <td>0</td>\n",
       "      <td>1</td>\n",
       "      <td>0</td>\n",
       "      <td>1</td>\n",
       "      <td>1</td>\n",
       "      <td>2</td>\n",
       "    </tr>\n",
       "    <tr>\n",
       "      <th>...</th>\n",
       "      <td>...</td>\n",
       "      <td>...</td>\n",
       "      <td>...</td>\n",
       "      <td>...</td>\n",
       "      <td>...</td>\n",
       "      <td>...</td>\n",
       "      <td>...</td>\n",
       "      <td>...</td>\n",
       "      <td>...</td>\n",
       "    </tr>\n",
       "    <tr>\n",
       "      <th>413</th>\n",
       "      <td>1305</td>\n",
       "      <td>3</td>\n",
       "      <td>0</td>\n",
       "      <td>0</td>\n",
       "      <td>1</td>\n",
       "      <td>0</td>\n",
       "      <td>0</td>\n",
       "      <td>0</td>\n",
       "      <td>2</td>\n",
       "    </tr>\n",
       "    <tr>\n",
       "      <th>414</th>\n",
       "      <td>1306</td>\n",
       "      <td>1</td>\n",
       "      <td>1</td>\n",
       "      <td>0</td>\n",
       "      <td>1</td>\n",
       "      <td>0</td>\n",
       "      <td>0</td>\n",
       "      <td>0</td>\n",
       "      <td>0</td>\n",
       "    </tr>\n",
       "    <tr>\n",
       "      <th>415</th>\n",
       "      <td>1307</td>\n",
       "      <td>3</td>\n",
       "      <td>0</td>\n",
       "      <td>0</td>\n",
       "      <td>1</td>\n",
       "      <td>0</td>\n",
       "      <td>0</td>\n",
       "      <td>0</td>\n",
       "      <td>2</td>\n",
       "    </tr>\n",
       "    <tr>\n",
       "      <th>416</th>\n",
       "      <td>1308</td>\n",
       "      <td>3</td>\n",
       "      <td>0</td>\n",
       "      <td>0</td>\n",
       "      <td>1</td>\n",
       "      <td>0</td>\n",
       "      <td>0</td>\n",
       "      <td>0</td>\n",
       "      <td>2</td>\n",
       "    </tr>\n",
       "    <tr>\n",
       "      <th>417</th>\n",
       "      <td>1309</td>\n",
       "      <td>3</td>\n",
       "      <td>0</td>\n",
       "      <td>0</td>\n",
       "      <td>1</td>\n",
       "      <td>0</td>\n",
       "      <td>1</td>\n",
       "      <td>1</td>\n",
       "      <td>0</td>\n",
       "    </tr>\n",
       "  </tbody>\n",
       "</table>\n",
       "<p>418 rows × 9 columns</p>\n",
       "</div>"
      ],
      "text/plain": [
       "     PassengerId  Pclass  Sex  Child  Adult  Elderly  Parch  SibSp  Embarked\n",
       "0            892       3    0      0      1        0      0      0         1\n",
       "1            893       3    1      0      1        0      0      1         2\n",
       "2            894       2    0      0      0        1      0      0         1\n",
       "3            895       3    0      0      1        0      0      0         2\n",
       "4            896       3    1      0      1        0      1      1         2\n",
       "..           ...     ...  ...    ...    ...      ...    ...    ...       ...\n",
       "413         1305       3    0      0      1        0      0      0         2\n",
       "414         1306       1    1      0      1        0      0      0         0\n",
       "415         1307       3    0      0      1        0      0      0         2\n",
       "416         1308       3    0      0      1        0      0      0         2\n",
       "417         1309       3    0      0      1        0      1      1         0\n",
       "\n",
       "[418 rows x 9 columns]"
      ]
     },
     "execution_count": 36,
     "metadata": {},
     "output_type": "execute_result"
    }
   ],
   "source": [
    "clean_testing_set"
   ]
  },
  {
   "cell_type": "markdown",
   "id": "60ef895b",
   "metadata": {
    "papermill": {
     "duration": 0.025071,
     "end_time": "2023-01-12T11:01:40.557780",
     "exception": false,
     "start_time": "2023-01-12T11:01:40.532709",
     "status": "completed"
    },
    "tags": []
   },
   "source": [
    "# Algorithm training and testing"
   ]
  },
  {
   "cell_type": "markdown",
   "id": "116fee86",
   "metadata": {
    "papermill": {
     "duration": 0.024477,
     "end_time": "2023-01-12T11:01:40.607500",
     "exception": false,
     "start_time": "2023-01-12T11:01:40.583023",
     "status": "completed"
    },
    "tags": []
   },
   "source": [
    "# Training and testing sets splitting"
   ]
  },
  {
   "cell_type": "code",
   "execution_count": 37,
   "id": "38046d72",
   "metadata": {
    "execution": {
     "iopub.execute_input": "2023-01-12T11:01:40.657700Z",
     "iopub.status.busy": "2023-01-12T11:01:40.657236Z",
     "iopub.status.idle": "2023-01-12T11:01:40.802359Z",
     "shell.execute_reply": "2023-01-12T11:01:40.800784Z"
    },
    "papermill": {
     "duration": 0.172786,
     "end_time": "2023-01-12T11:01:40.805500",
     "exception": false,
     "start_time": "2023-01-12T11:01:40.632714",
     "status": "completed"
    },
    "tags": []
   },
   "outputs": [],
   "source": [
    "from sklearn.model_selection import train_test_split\n",
    "\n",
    "# At the moment we want to check if our predictions are accurate or not,\n",
    "# so we split the training set into two pieces so that we obtain a smaller \n",
    "# training set and a testing set that provides a Survived column: \n",
    "# -----------------------------------------------------------------------------------------------\n",
    "X = clean_training_set[[\"Pclass\", \"Sex\", \"Child\", \"Adult\", \"Elderly\", \"Parch\", \"SibSp\", \"Embarked\"]].copy()\n",
    "Y = clean_training_set['Survived'].copy()\n",
    "X = X.astype(float)\n",
    "Y = Y.astype(float)"
   ]
  },
  {
   "cell_type": "markdown",
   "id": "5aafb2eb",
   "metadata": {
    "papermill": {
     "duration": 0.02364,
     "end_time": "2023-01-12T11:01:40.852519",
     "exception": false,
     "start_time": "2023-01-12T11:01:40.828879",
     "status": "completed"
    },
    "tags": []
   },
   "source": [
    "# Multi-layer Perceptron classifier (MLP)"
   ]
  },
  {
   "cell_type": "code",
   "execution_count": 38,
   "id": "3b39a1aa",
   "metadata": {
    "execution": {
     "iopub.execute_input": "2023-01-12T11:01:40.902017Z",
     "iopub.status.busy": "2023-01-12T11:01:40.901604Z",
     "iopub.status.idle": "2023-01-12T11:01:41.018515Z",
     "shell.execute_reply": "2023-01-12T11:01:41.016141Z"
    },
    "papermill": {
     "duration": 0.145483,
     "end_time": "2023-01-12T11:01:41.021912",
     "exception": false,
     "start_time": "2023-01-12T11:01:40.876429",
     "status": "completed"
    },
    "tags": []
   },
   "outputs": [],
   "source": [
    "from sklearn.neural_network import MLPClassifier\n",
    "from sklearn.datasets import make_classification\n",
    "from sklearn.model_selection import train_test_split"
   ]
  },
  {
   "cell_type": "code",
   "execution_count": 39,
   "id": "d7157519",
   "metadata": {
    "execution": {
     "iopub.execute_input": "2023-01-12T11:01:41.072112Z",
     "iopub.status.busy": "2023-01-12T11:01:41.071677Z",
     "iopub.status.idle": "2023-01-12T11:01:41.081374Z",
     "shell.execute_reply": "2023-01-12T11:01:41.079798Z"
    },
    "papermill": {
     "duration": 0.039118,
     "end_time": "2023-01-12T11:01:41.086320",
     "exception": false,
     "start_time": "2023-01-12T11:01:41.047202",
     "status": "completed"
    },
    "tags": []
   },
   "outputs": [],
   "source": [
    "X_train, X_test, y_train, y_test = train_test_split(X, Y, test_size=0.2,random_state=1)"
   ]
  },
  {
   "cell_type": "code",
   "execution_count": 40,
   "id": "12ae68de",
   "metadata": {
    "execution": {
     "iopub.execute_input": "2023-01-12T11:01:41.141127Z",
     "iopub.status.busy": "2023-01-12T11:01:41.139574Z",
     "iopub.status.idle": "2023-01-12T11:01:41.153137Z",
     "shell.execute_reply": "2023-01-12T11:01:41.152017Z"
    },
    "papermill": {
     "duration": 0.043017,
     "end_time": "2023-01-12T11:01:41.155912",
     "exception": false,
     "start_time": "2023-01-12T11:01:41.112895",
     "status": "completed"
    },
    "tags": []
   },
   "outputs": [],
   "source": [
    "from sklearn import preprocessing\n",
    "scaler = preprocessing.StandardScaler().fit(X_train)\n",
    "X_train = scaler.transform(X_train)\n",
    "X_test = scaler.transform(X_test)"
   ]
  },
  {
   "cell_type": "code",
   "execution_count": 41,
   "id": "80703fce",
   "metadata": {
    "execution": {
     "iopub.execute_input": "2023-01-12T11:01:41.204886Z",
     "iopub.status.busy": "2023-01-12T11:01:41.203036Z",
     "iopub.status.idle": "2023-01-12T11:01:41.211632Z",
     "shell.execute_reply": "2023-01-12T11:01:41.210345Z"
    },
    "papermill": {
     "duration": 0.037054,
     "end_time": "2023-01-12T11:01:41.214437",
     "exception": false,
     "start_time": "2023-01-12T11:01:41.177383",
     "status": "completed"
    },
    "tags": []
   },
   "outputs": [],
   "source": [
    "clf = MLPClassifier(\n",
    "    solver='lbfgs', \n",
    "    learning_rate='constant', \n",
    "    activation='relu', \n",
    "    random_state=1, \n",
    "    max_iter=1000)"
   ]
  },
  {
   "cell_type": "code",
   "execution_count": 42,
   "id": "ca13f09b",
   "metadata": {
    "execution": {
     "iopub.execute_input": "2023-01-12T11:01:41.263577Z",
     "iopub.status.busy": "2023-01-12T11:01:41.262702Z",
     "iopub.status.idle": "2023-01-12T11:01:42.917493Z",
     "shell.execute_reply": "2023-01-12T11:01:42.915194Z"
    },
    "papermill": {
     "duration": 1.683839,
     "end_time": "2023-01-12T11:01:42.922338",
     "exception": false,
     "start_time": "2023-01-12T11:01:41.238499",
     "status": "completed"
    },
    "tags": []
   },
   "outputs": [],
   "source": [
    "clf.fit(X_train, y_train)\n",
    "\n",
    "MLP_score = clf.score(X_test, y_test)"
   ]
  },
  {
   "cell_type": "code",
   "execution_count": 43,
   "id": "29da5b91",
   "metadata": {
    "execution": {
     "iopub.execute_input": "2023-01-12T11:01:43.037794Z",
     "iopub.status.busy": "2023-01-12T11:01:43.037364Z",
     "iopub.status.idle": "2023-01-12T11:01:43.044891Z",
     "shell.execute_reply": "2023-01-12T11:01:43.042764Z"
    },
    "papermill": {
     "duration": 0.067143,
     "end_time": "2023-01-12T11:01:43.049673",
     "exception": false,
     "start_time": "2023-01-12T11:01:42.982530",
     "status": "completed"
    },
    "tags": []
   },
   "outputs": [
    {
     "name": "stdout",
     "output_type": "stream",
     "text": [
      "So the accuracy of the Multi-layer Perceptron classifier is 77.09\n"
     ]
    }
   ],
   "source": [
    "print('So the accuracy of the Multi-layer Perceptron classifier is',round(MLP_score*100,2))"
   ]
  },
  {
   "cell_type": "markdown",
   "id": "899dc107",
   "metadata": {
    "papermill": {
     "duration": 0.020053,
     "end_time": "2023-01-12T11:01:43.093394",
     "exception": false,
     "start_time": "2023-01-12T11:01:43.073341",
     "status": "completed"
    },
    "tags": []
   },
   "source": [
    "# Final Kaggle evaluation"
   ]
  },
  {
   "cell_type": "code",
   "execution_count": 44,
   "id": "52b8a8ac",
   "metadata": {
    "execution": {
     "iopub.execute_input": "2023-01-12T11:01:43.138506Z",
     "iopub.status.busy": "2023-01-12T11:01:43.138085Z",
     "iopub.status.idle": "2023-01-12T11:01:43.148801Z",
     "shell.execute_reply": "2023-01-12T11:01:43.147033Z"
    },
    "papermill": {
     "duration": 0.038033,
     "end_time": "2023-01-12T11:01:43.151673",
     "exception": false,
     "start_time": "2023-01-12T11:01:43.113640",
     "status": "completed"
    },
    "tags": []
   },
   "outputs": [],
   "source": [
    "# training set\n",
    "X_Train = clean_training_set[[\"Pclass\", \"Sex\", \"Child\", \"Adult\", \"Elderly\", \"Parch\", \"SibSp\", \"Embarked\"]].copy()\n",
    "Y_Train = clean_training_set['Survived'].copy()\n",
    "\n",
    "# testing set\n",
    "X_Test = clean_testing_set[[\"Pclass\", \"Sex\", \"Child\", \"Adult\", \"Elderly\", \"Parch\", \"SibSp\", \"Embarked\"]].copy()"
   ]
  },
  {
   "cell_type": "code",
   "execution_count": 45,
   "id": "04eb3da1",
   "metadata": {
    "execution": {
     "iopub.execute_input": "2023-01-12T11:01:43.195033Z",
     "iopub.status.busy": "2023-01-12T11:01:43.194630Z",
     "iopub.status.idle": "2023-01-12T11:01:43.200983Z",
     "shell.execute_reply": "2023-01-12T11:01:43.199603Z"
    },
    "papermill": {
     "duration": 0.030938,
     "end_time": "2023-01-12T11:01:43.203796",
     "exception": false,
     "start_time": "2023-01-12T11:01:43.172858",
     "status": "completed"
    },
    "tags": []
   },
   "outputs": [],
   "source": [
    "X_Train = X_Train.astype(float)\n",
    "Y_Train = Y_Train.astype(float)\n",
    "\n",
    "X_Test = X_Test.astype(float)"
   ]
  },
  {
   "cell_type": "code",
   "execution_count": 46,
   "id": "18091383",
   "metadata": {
    "execution": {
     "iopub.execute_input": "2023-01-12T11:01:43.250563Z",
     "iopub.status.busy": "2023-01-12T11:01:43.249929Z",
     "iopub.status.idle": "2023-01-12T11:01:43.266123Z",
     "shell.execute_reply": "2023-01-12T11:01:43.264927Z"
    },
    "papermill": {
     "duration": 0.042954,
     "end_time": "2023-01-12T11:01:43.268664",
     "exception": false,
     "start_time": "2023-01-12T11:01:43.225710",
     "status": "completed"
    },
    "tags": []
   },
   "outputs": [],
   "source": [
    "from sklearn import preprocessing\n",
    "scaler = preprocessing.StandardScaler().fit(X_Train)\n",
    "X_Train = scaler.transform(X_Train)\n",
    "X_Test = scaler.transform(X_Test)"
   ]
  },
  {
   "cell_type": "code",
   "execution_count": 47,
   "id": "965684d3",
   "metadata": {
    "execution": {
     "iopub.execute_input": "2023-01-12T11:01:43.313832Z",
     "iopub.status.busy": "2023-01-12T11:01:43.311963Z",
     "iopub.status.idle": "2023-01-12T11:01:43.319722Z",
     "shell.execute_reply": "2023-01-12T11:01:43.317752Z"
    },
    "papermill": {
     "duration": 0.032289,
     "end_time": "2023-01-12T11:01:43.322661",
     "exception": false,
     "start_time": "2023-01-12T11:01:43.290372",
     "status": "completed"
    },
    "tags": []
   },
   "outputs": [],
   "source": [
    "final_clf = MLPClassifier(\n",
    "    solver='lbfgs', \n",
    "    learning_rate='constant', \n",
    "    activation='relu', \n",
    "    random_state=1, \n",
    "    max_iter=1000)"
   ]
  },
  {
   "cell_type": "code",
   "execution_count": 48,
   "id": "2a97adc8",
   "metadata": {
    "execution": {
     "iopub.execute_input": "2023-01-12T11:01:43.369330Z",
     "iopub.status.busy": "2023-01-12T11:01:43.368686Z",
     "iopub.status.idle": "2023-01-12T11:01:45.332841Z",
     "shell.execute_reply": "2023-01-12T11:01:45.331099Z"
    },
    "papermill": {
     "duration": 1.992972,
     "end_time": "2023-01-12T11:01:45.337446",
     "exception": false,
     "start_time": "2023-01-12T11:01:43.344474",
     "status": "completed"
    },
    "tags": []
   },
   "outputs": [
    {
     "data": {
      "text/plain": [
       "MLPClassifier(max_iter=1000, random_state=1, solver='lbfgs')"
      ]
     },
     "execution_count": 48,
     "metadata": {},
     "output_type": "execute_result"
    }
   ],
   "source": [
    "final_clf.fit(X_Train, Y_Train)"
   ]
  },
  {
   "cell_type": "code",
   "execution_count": 49,
   "id": "37fbd8c5",
   "metadata": {
    "execution": {
     "iopub.execute_input": "2023-01-12T11:01:45.449142Z",
     "iopub.status.busy": "2023-01-12T11:01:45.448704Z",
     "iopub.status.idle": "2023-01-12T11:01:45.471458Z",
     "shell.execute_reply": "2023-01-12T11:01:45.469280Z"
    },
    "papermill": {
     "duration": 0.080865,
     "end_time": "2023-01-12T11:01:45.476354",
     "exception": false,
     "start_time": "2023-01-12T11:01:45.395489",
     "status": "completed"
    },
    "tags": []
   },
   "outputs": [
    {
     "data": {
      "text/plain": [
       "array([0., 0., 0., 0., 0., 0., 1., 0., 1., 0., 0., 0., 1., 0., 1., 1., 1.,\n",
       "       0., 0., 1., 0., 1., 1., 0., 1., 0., 1., 0., 0., 0., 0., 0., 0., 0.,\n",
       "       1., 0., 0., 0., 0., 0., 0., 0., 0., 1., 1., 0., 0., 0., 0., 1., 0.,\n",
       "       0., 1., 1., 0., 0., 0., 0., 0., 1., 0., 0., 0., 1., 1., 1., 1., 0.,\n",
       "       0., 1., 1., 0., 0., 0., 1., 0., 0., 1., 0., 1., 0., 0., 0., 0., 1.,\n",
       "       0., 1., 0., 1., 1., 0., 0., 0., 0., 0., 0., 1., 0., 0., 0., 1., 0.,\n",
       "       0., 0., 0., 0., 0., 0., 0., 0., 0., 1., 1., 1., 1., 0., 0., 1., 0.,\n",
       "       1., 1., 0., 1., 0., 0., 1., 0., 1., 0., 0., 0., 0., 0., 0., 0., 0.,\n",
       "       0., 0., 0., 0., 0., 1., 0., 0., 0., 0., 0., 0., 0., 0., 1., 0., 0.,\n",
       "       1., 0., 0., 1., 0., 0., 1., 1., 0., 1., 0., 0., 0., 0., 0., 1., 0.,\n",
       "       0., 0., 0., 0., 0., 1., 1., 0., 1., 1., 0., 0., 1., 0., 1., 0., 1.,\n",
       "       0., 0., 0., 0., 0., 1., 0., 1., 0., 1., 0., 0., 0., 1., 1., 1., 1.,\n",
       "       0., 0., 1., 0., 1., 0., 0., 0., 0., 1., 1., 0., 1., 0., 1., 0., 1.,\n",
       "       0., 1., 0., 0., 1., 0., 1., 0., 0., 0., 1., 0., 0., 1., 0., 0., 0.,\n",
       "       1., 1., 0., 1., 0., 0., 0., 0., 1., 0., 1., 0., 1., 0., 1., 0., 0.,\n",
       "       0., 0., 0., 1., 0., 0., 0., 1., 1., 0., 0., 0., 0., 0., 0., 0., 0.,\n",
       "       1., 1., 0., 1., 0., 0., 0., 0., 0., 1., 1., 0., 1., 0., 0., 0., 0.,\n",
       "       0., 0., 1., 0., 0., 0., 0., 1., 0., 0., 0., 0., 0., 0., 0., 1., 1.,\n",
       "       1., 1., 0., 0., 0., 0., 0., 1., 0., 1., 0., 0., 0., 0., 0., 0., 0.,\n",
       "       0., 1., 0., 1., 0., 0., 0., 1., 0., 0., 1., 0., 0., 0., 0., 0., 0.,\n",
       "       0., 0., 0., 1., 0., 0., 0., 1., 0., 1., 1., 0., 0., 0., 1., 0., 1.,\n",
       "       0., 0., 0., 0., 1., 1., 0., 1., 0., 0., 0., 1., 0., 0., 1., 0., 0.,\n",
       "       1., 1., 0., 0., 0., 0., 0., 0., 0., 0., 0., 1., 0., 0., 0., 0., 0.,\n",
       "       1., 1., 0., 0., 1., 0., 1., 0., 0., 1., 0., 1., 0., 1., 0., 0., 1.,\n",
       "       1., 1., 1., 1., 0., 0., 1., 0., 0., 1.])"
      ]
     },
     "execution_count": 49,
     "metadata": {},
     "output_type": "execute_result"
    }
   ],
   "source": [
    "prediction = final_clf.predict(X_Test)\n",
    "prediction"
   ]
  },
  {
   "cell_type": "code",
   "execution_count": 50,
   "id": "75c95f50",
   "metadata": {
    "execution": {
     "iopub.execute_input": "2023-01-12T11:01:45.581721Z",
     "iopub.status.busy": "2023-01-12T11:01:45.580287Z",
     "iopub.status.idle": "2023-01-12T11:01:45.599483Z",
     "shell.execute_reply": "2023-01-12T11:01:45.597961Z"
    },
    "papermill": {
     "duration": 0.072161,
     "end_time": "2023-01-12T11:01:45.602215",
     "exception": false,
     "start_time": "2023-01-12T11:01:45.530054",
     "status": "completed"
    },
    "tags": []
   },
   "outputs": [
    {
     "data": {
      "text/html": [
       "<div>\n",
       "<style scoped>\n",
       "    .dataframe tbody tr th:only-of-type {\n",
       "        vertical-align: middle;\n",
       "    }\n",
       "\n",
       "    .dataframe tbody tr th {\n",
       "        vertical-align: top;\n",
       "    }\n",
       "\n",
       "    .dataframe thead th {\n",
       "        text-align: right;\n",
       "    }\n",
       "</style>\n",
       "<table border=\"1\" class=\"dataframe\">\n",
       "  <thead>\n",
       "    <tr style=\"text-align: right;\">\n",
       "      <th></th>\n",
       "      <th>PassengerId</th>\n",
       "      <th>Survived</th>\n",
       "    </tr>\n",
       "  </thead>\n",
       "  <tbody>\n",
       "    <tr>\n",
       "      <th>0</th>\n",
       "      <td>892</td>\n",
       "      <td>0</td>\n",
       "    </tr>\n",
       "    <tr>\n",
       "      <th>1</th>\n",
       "      <td>893</td>\n",
       "      <td>0</td>\n",
       "    </tr>\n",
       "    <tr>\n",
       "      <th>2</th>\n",
       "      <td>894</td>\n",
       "      <td>0</td>\n",
       "    </tr>\n",
       "    <tr>\n",
       "      <th>3</th>\n",
       "      <td>895</td>\n",
       "      <td>0</td>\n",
       "    </tr>\n",
       "    <tr>\n",
       "      <th>4</th>\n",
       "      <td>896</td>\n",
       "      <td>0</td>\n",
       "    </tr>\n",
       "    <tr>\n",
       "      <th>...</th>\n",
       "      <td>...</td>\n",
       "      <td>...</td>\n",
       "    </tr>\n",
       "    <tr>\n",
       "      <th>413</th>\n",
       "      <td>1305</td>\n",
       "      <td>0</td>\n",
       "    </tr>\n",
       "    <tr>\n",
       "      <th>414</th>\n",
       "      <td>1306</td>\n",
       "      <td>1</td>\n",
       "    </tr>\n",
       "    <tr>\n",
       "      <th>415</th>\n",
       "      <td>1307</td>\n",
       "      <td>0</td>\n",
       "    </tr>\n",
       "    <tr>\n",
       "      <th>416</th>\n",
       "      <td>1308</td>\n",
       "      <td>0</td>\n",
       "    </tr>\n",
       "    <tr>\n",
       "      <th>417</th>\n",
       "      <td>1309</td>\n",
       "      <td>1</td>\n",
       "    </tr>\n",
       "  </tbody>\n",
       "</table>\n",
       "<p>418 rows × 2 columns</p>\n",
       "</div>"
      ],
      "text/plain": [
       "     PassengerId  Survived\n",
       "0            892         0\n",
       "1            893         0\n",
       "2            894         0\n",
       "3            895         0\n",
       "4            896         0\n",
       "..           ...       ...\n",
       "413         1305         0\n",
       "414         1306         1\n",
       "415         1307         0\n",
       "416         1308         0\n",
       "417         1309         1\n",
       "\n",
       "[418 rows x 2 columns]"
      ]
     },
     "execution_count": 50,
     "metadata": {},
     "output_type": "execute_result"
    }
   ],
   "source": [
    "submission = pd.DataFrame({\n",
    "        \"PassengerId\": clean_testing_set[\"PassengerId\"],\n",
    "        \"Survived\": prediction.astype(int)\n",
    "    })\n",
    "\n",
    "submission.to_csv(\"submission.csv\", index=False)\n",
    "submission"
   ]
  }
 ],
 "metadata": {
  "kernelspec": {
   "display_name": "Python 3",
   "language": "python",
   "name": "python3"
  },
  "language_info": {
   "codemirror_mode": {
    "name": "ipython",
    "version": 3
   },
   "file_extension": ".py",
   "mimetype": "text/x-python",
   "name": "python",
   "nbconvert_exporter": "python",
   "pygments_lexer": "ipython3",
   "version": "3.7.12"
  },
  "papermill": {
   "default_parameters": {},
   "duration": 22.724918,
   "end_time": "2023-01-12T11:01:46.549607",
   "environment_variables": {},
   "exception": null,
   "input_path": "__notebook__.ipynb",
   "output_path": "__notebook__.ipynb",
   "parameters": {},
   "start_time": "2023-01-12T11:01:23.824689",
   "version": "2.3.4"
  }
 },
 "nbformat": 4,
 "nbformat_minor": 5
}
